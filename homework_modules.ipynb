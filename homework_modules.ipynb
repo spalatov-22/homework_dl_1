{
 "cells": [
  {
   "cell_type": "code",
   "execution_count": 1,
   "metadata": {
    "id": "3MeKai5Xj6eX"
   },
   "outputs": [],
   "source": [
    "import numpy as np"
   ]
  },
  {
   "cell_type": "markdown",
   "metadata": {
    "id": "wwlFrG-Tj6eY"
   },
   "source": [
    "**Module** is an abstract class which defines fundamental methods necessary for a training a neural network. You do not need to change anything here, just read the comments."
   ]
  },
  {
   "cell_type": "code",
   "execution_count": 2,
   "metadata": {
    "id": "W8BLmtZ3j6eZ"
   },
   "outputs": [],
   "source": [
    "class Module(object):\n",
    "    \"\"\"\n",
    "    Basically, you can think of a module as of a something (black box)\n",
    "    which can process `input` data and produce `ouput` data.\n",
    "    This is like applying a function which is called `forward`:\n",
    "\n",
    "        output = module.forward(input)\n",
    "\n",
    "    The module should be able to perform a backward pass: to differentiate the `forward` function.\n",
    "    More, it should be able to differentiate it if is a part of chain (chain rule).\n",
    "    The latter implies there is a gradient from previous step of a chain rule.\n",
    "\n",
    "        gradInput = module.backward(input, gradOutput)\n",
    "    \"\"\"\n",
    "\n",
    "    def __init__(self):\n",
    "        self.output = None\n",
    "        self.gradInput = None\n",
    "        self.training = True\n",
    "\n",
    "    def forward(self, input):\n",
    "        \"\"\"\n",
    "        Takes an input object, and computes the corresponding output of the module.\n",
    "        \"\"\"\n",
    "        return self.updateOutput(input)\n",
    "\n",
    "    def backward(self, input, gradOutput):\n",
    "        \"\"\"\n",
    "        Performs a backpropagation step through the module, with respect to the given input.\n",
    "\n",
    "        This includes\n",
    "         - computing a gradient w.r.t. `input` (is needed for further backprop),\n",
    "         - computing a gradient w.r.t. parameters (to update parameters while optimizing).\n",
    "        \"\"\"\n",
    "        # Сначала вычисляем градиент по входу\n",
    "        grad_input = self.updateGradInput(input, gradOutput)\n",
    "        # Затем вычисляем и накапливаем градиенты по параметрам\n",
    "        self.accGradParameters(input, gradOutput)\n",
    "        # Возвращаем градиент по входу\n",
    "        return grad_input\n",
    "\n",
    "    def updateOutput(self, input):\n",
    "        \"\"\"\n",
    "        Computes the output using the current parameter set of the class and input.\n",
    "        This function returns the result which is stored in the `output` field.\n",
    "\n",
    "        Make sure to both store the data in `output` field and return it.\n",
    "        \"\"\"\n",
    "\n",
    "        # The easiest case:\n",
    "\n",
    "        # self.output = input\n",
    "        # return self.output\n",
    "\n",
    "        pass\n",
    "\n",
    "    def updateGradInput(self, input, gradOutput):\n",
    "        \"\"\"\n",
    "        Computing the gradient of the module with respect to its own input.\n",
    "        This is returned in `gradInput`. Also, the `gradInput` state variable is updated accordingly.\n",
    "\n",
    "        The shape of `gradInput` is always the same as the shape of `input`.\n",
    "\n",
    "        Make sure to both store the gradients in `gradInput` field and return it.\n",
    "        \"\"\"\n",
    "\n",
    "        # The easiest case:\n",
    "\n",
    "        # self.gradInput = gradOutput\n",
    "        # return self.gradInput\n",
    "\n",
    "        pass\n",
    "\n",
    "    def accGradParameters(self, input, gradOutput):\n",
    "        \"\"\"\n",
    "        Computing the gradient of the module with respect to its own parameters.\n",
    "        No need to override if module has no parameters (e.g. ReLU).\n",
    "        \"\"\"\n",
    "        pass\n",
    "\n",
    "    def zeroGradParameters(self):\n",
    "        \"\"\"\n",
    "        Zeroes `gradParams` variable if the module has params.\n",
    "        \"\"\"\n",
    "        pass\n",
    "\n",
    "    def getParameters(self):\n",
    "        \"\"\"\n",
    "        Returns a list with its parameters.\n",
    "        If the module does not have parameters return empty list.\n",
    "        \"\"\"\n",
    "        return []\n",
    "\n",
    "    def getGradParameters(self):\n",
    "        \"\"\"\n",
    "        Returns a list with gradients with respect to its parameters.\n",
    "        If the module does not have parameters return empty list.\n",
    "        \"\"\"\n",
    "        return []\n",
    "\n",
    "    def train(self):\n",
    "        \"\"\"\n",
    "        Sets training mode for the module.\n",
    "        Training and testing behaviour differs for Dropout, BatchNorm.\n",
    "        \"\"\"\n",
    "        self.training = True\n",
    "\n",
    "    def evaluate(self):\n",
    "        \"\"\"\n",
    "        Sets evaluation mode for the module.\n",
    "        Training and testing behaviour differs for Dropout, BatchNorm.\n",
    "        \"\"\"\n",
    "        self.training = False\n",
    "\n",
    "    def __repr__(self):\n",
    "        \"\"\"\n",
    "        Pretty printing. Should be overrided in every module if you want\n",
    "        to have readable description.\n",
    "        \"\"\"\n",
    "        return \"Module\""
   ]
  },
  {
   "cell_type": "markdown",
   "metadata": {
    "id": "mKRkIjT8j6eZ"
   },
   "source": [
    "# Sequential container"
   ]
  },
  {
   "cell_type": "markdown",
   "metadata": {
    "id": "Cb98PPpJj6ea"
   },
   "source": [
    "**Define** a forward and backward pass procedures."
   ]
  },
  {
   "cell_type": "code",
   "execution_count": 3,
   "metadata": {
    "id": "7y2lav4dj6ea"
   },
   "outputs": [],
   "source": [
    "class Sequential(Module):\n",
    "    \"\"\"\n",
    "    This class implements a container, which processes `input` data sequentially.\n",
    "\n",
    "    `input` is processed by each module (layer) in self.modules consecutively.\n",
    "    The resulting array is called `output`.\n",
    "    \"\"\"\n",
    "\n",
    "    def __init__(self):\n",
    "        super(Sequential, self).__init__()\n",
    "        self.modules = []\n",
    "\n",
    "    def add(self, module):\n",
    "        \"\"\"\n",
    "        Adds a module to the container.\n",
    "        \"\"\"\n",
    "        self.modules.append(module)\n",
    "\n",
    "    def updateOutput(self, input):\n",
    "        \"\"\"\n",
    "        Basic workflow of FORWARD PASS:\n",
    "\n",
    "            y_0    = module[0].forward(input)\n",
    "            y_1    = module[1].forward(y_0)\n",
    "            ...\n",
    "            output = module[n-1].forward(y_{n-2})\n",
    "\n",
    "\n",
    "        Just write a little loop.\n",
    "        \"\"\"\n",
    "        current_output = input\n",
    "        if not self.modules:\n",
    "            self.output = current_output\n",
    "            return self.output\n",
    "        for module in self.modules:\n",
    "            current_output = module.forward(current_output)\n",
    "        self.output = current_output\n",
    "        return self.output\n",
    "\n",
    "    def backward(self, input, gradOutput):\n",
    "        \"\"\"\n",
    "        Workflow of BACKWARD PASS:\n",
    "\n",
    "            g_{n-1} = module[n-1].backward(y_{n-2}, gradOutput)\n",
    "            g_{n-2} = module[n-2].backward(y_{n-3}, g_{n-1})\n",
    "            ...\n",
    "            g_1 = module[1].backward(y_0, g_2)\n",
    "            gradInput = module[0].backward(input, g_1)\n",
    "\n",
    "\n",
    "        !!!\n",
    "\n",
    "        To ech module you need to provide the input, module saw while forward pass,\n",
    "        it is used while computing gradients.\n",
    "        Make sure that the input for `i-th` layer the output of `module[i]` (just the same input as in forward pass)\n",
    "        and NOT `input` to this Sequential module.\n",
    "\n",
    "        !!!\n",
    "\n",
    "        \"\"\"\n",
    "        current_grad = gradOutput\n",
    "        if not self.modules:\n",
    "            self.gradInput = current_grad\n",
    "            return self.gradInput\n",
    "        for i in range(len(self.modules) - 1, -1, -1):\n",
    "            module = self.modules[i]\n",
    "            input_for_backward = input if i == 0 else self.modules[i - 1].output\n",
    "            current_grad = module.backward(input_for_backward, current_grad)\n",
    "        self.gradInput = current_grad\n",
    "        return self.gradInput\n",
    "\n",
    "    def zeroGradParameters(self):\n",
    "        for module in self.modules:\n",
    "            module.zeroGradParameters()\n",
    "\n",
    "    def getParameters(self):\n",
    "        \"\"\"\n",
    "        Should gather all parameters in a list.\n",
    "        \"\"\"\n",
    "        params = []\n",
    "        for module in self.modules:\n",
    "            module_params = module.getParameters()\n",
    "            # Важно: getParameters() может вернуть []\n",
    "            if module_params:  # Проверяем, что список не пустой\n",
    "                params.extend(module_params)\n",
    "        return params\n",
    "\n",
    "    def getGradParameters(self):\n",
    "        \"\"\"\n",
    "        Should gather all gradients w.r.t parameters in a list.\n",
    "        \"\"\"\n",
    "        grad_params = []\n",
    "        for module in self.modules:\n",
    "            module_grad_params = module.getGradParameters()\n",
    "            if module_grad_params:  # Проверяем, что список не пустой\n",
    "                grad_params.extend(module_grad_params)\n",
    "        return grad_params\n",
    "\n",
    "    def train(self):\n",
    "        \"\"\"\n",
    "        Propagates training parameter through all modules\n",
    "        \"\"\"\n",
    "        self.training = True\n",
    "        for module in self.modules:\n",
    "            module.train()\n",
    "\n",
    "    def evaluate(self):\n",
    "        \"\"\"\n",
    "        Propagates training parameter through all modules\n",
    "        \"\"\"\n",
    "        self.training = False\n",
    "        for module in self.modules:\n",
    "            module.evaluate()"
   ]
  },
  {
   "cell_type": "markdown",
   "metadata": {
    "id": "zfXdYfO4j6ea"
   },
   "source": [
    "# Layers"
   ]
  },
  {
   "cell_type": "markdown",
   "metadata": {
    "id": "ZuwvBkuNj6ea"
   },
   "source": [
    "## 1 (0.2). Linear transform layer\n",
    "Also known as dense layer, fully-connected layer, FC-layer, InnerProductLayer (in caffe), affine transform\n",
    "- input:   **`batch_size x n_feats1`**\n",
    "- output: **`batch_size x n_feats2`**"
   ]
  },
  {
   "cell_type": "code",
   "execution_count": 4,
   "metadata": {
    "id": "D0uoyqkpj6ea"
   },
   "outputs": [],
   "source": [
    "class Linear(Module):\n",
    "    \"\"\"\n",
    "    A module which applies a linear transformation\n",
    "    A common name is fully-connected layer, InnerProductLayer in caffe.\n",
    "\n",
    "    The module should work with 2D input of shape (n_samples, n_feature).\n",
    "    \"\"\"\n",
    "\n",
    "    def __init__(self, n_in, n_out):\n",
    "        super(Linear, self).__init__()\n",
    "\n",
    "        # This is a nice initialization\n",
    "        stdv = 1.0 / np.sqrt(n_in)\n",
    "        self.W = np.random.uniform(-stdv, stdv, size=(n_out, n_in))\n",
    "        self.b = np.random.uniform(-stdv, stdv, size=n_out)\n",
    "        self.gradW = np.zeros_like(self.W)\n",
    "        self.gradb = np.zeros_like(self.b)\n",
    "\n",
    "    def updateOutput(self, input):\n",
    "        self.output = input @ self.W.T + self.b\n",
    "        return self.output\n",
    "\n",
    "    def updateGradInput(self, input, gradOutput):\n",
    "        self.gradInput = gradOutput @ self.W\n",
    "        return self.gradInput\n",
    "\n",
    "    def accGradParameters(self, input, gradOutput):\n",
    "        self.gradW += gradOutput.T @ input\n",
    "        self.gradb += np.sum(gradOutput, axis=0)\n",
    "\n",
    "    def zeroGradParameters(self):\n",
    "        self.gradW.fill(0)\n",
    "        self.gradb.fill(0)\n",
    "\n",
    "    def getParameters(self):\n",
    "        return [self.W, self.b]\n",
    "\n",
    "    def getGradParameters(self):\n",
    "        return [self.gradW, self.gradb]\n",
    "\n",
    "    def __repr__(self):\n",
    "        s = self.W.shape\n",
    "        q = \"Linear %d -> %d\" % (s[1], s[0])\n",
    "        return q"
   ]
  },
  {
   "cell_type": "markdown",
   "metadata": {
    "id": "tNOnHXZJj6eb"
   },
   "source": [
    "## 2. (0.2) SoftMax\n",
    "- input:   **`batch_size x n_feats`**\n",
    "- output: **`batch_size x n_feats`**\n",
    "\n",
    "$\\text{softmax}(x)_i = \\frac{\\exp x_i} {\\sum_j \\exp x_j}$\n",
    "\n",
    "Recall that $\\text{softmax}(x) == \\text{softmax}(x - \\text{const})$. It makes possible to avoid computing exp() from large argument."
   ]
  },
  {
   "cell_type": "code",
   "execution_count": 5,
   "metadata": {
    "collapsed": true,
    "id": "VIValI0hj6eb"
   },
   "outputs": [],
   "source": [
    "class SoftMax(Module):\n",
    "    def __init__(self):\n",
    "        super(SoftMax, self).__init__()\n",
    "\n",
    "    def updateOutput(self, input):\n",
    "        stable_input = np.subtract(input, input.max(axis=1, keepdims=True))\n",
    "        exp_output = np.exp(stable_input)\n",
    "        sum_exp = np.sum(exp_output, axis=1, keepdims=True)\n",
    "        # Добавим маленький эпсилон к знаменателю для дополнительной стабильности\n",
    "        self.output = exp_output / (sum_exp + 1e-15)\n",
    "        return self.output\n",
    "\n",
    "    def updateGradInput(self, input, gradOutput):\n",
    "        if self.output is None:\n",
    "            raise ValueError(\"Output is not computed. Run forward pass first.\")\n",
    "        dot_product = np.sum(gradOutput * self.output, axis=1, keepdims=True)\n",
    "        self.gradInput = self.output * (gradOutput - dot_product)\n",
    "        return self.gradInput\n",
    "\n",
    "    def __repr__(self):\n",
    "        return \"SoftMax\""
   ]
  },
  {
   "cell_type": "markdown",
   "metadata": {
    "id": "Cy3DJjynj6eb"
   },
   "source": [
    "## 3. (0.2) LogSoftMax\n",
    "- input:   **`batch_size x n_feats`**\n",
    "- output: **`batch_size x n_feats`**\n",
    "\n",
    "$\\text{logsoftmax}(x)_i = \\log\\text{softmax}(x)_i = x_i - \\log {\\sum_j \\exp x_j}$\n",
    "\n",
    "The main goal of this layer is to be used in computation of log-likelihood loss."
   ]
  },
  {
   "cell_type": "code",
   "execution_count": 6,
   "metadata": {
    "collapsed": true,
    "id": "Xo7DRdAJj6eb"
   },
   "outputs": [],
   "source": [
    "class LogSoftMax(Module):\n",
    "    \"\"\"LogSoftMax activation function.\"\"\"\n",
    "\n",
    "    def __init__(self):\n",
    "        super(LogSoftMax, self).__init__()\n",
    "\n",
    "    def updateOutput(self, input):\n",
    "        stable_input = np.subtract(input, input.max(axis=1, keepdims=True))\n",
    "        exp_stable = np.exp(stable_input)\n",
    "        sum_exp_stable = np.sum(exp_stable, axis=1, keepdims=True)\n",
    "        # Добавим эпсилон перед логарифмом\n",
    "        log_sum_exp = np.log(sum_exp_stable + 1e-15)\n",
    "        self.output = stable_input - log_sum_exp\n",
    "        return self.output\n",
    "\n",
    "    def updateGradInput(self, input, gradOutput):\n",
    "        softmax_output = np.exp(self.output)\n",
    "        sum_gradOutput = np.sum(gradOutput, axis=1, keepdims=True)\n",
    "        self.gradInput = gradOutput - softmax_output * sum_gradOutput\n",
    "        return self.gradInput\n",
    "\n",
    "    def __repr__(self):\n",
    "        return \"LogSoftMax\""
   ]
  },
  {
   "cell_type": "markdown",
   "metadata": {
    "id": "QP5QdmmPj6eb"
   },
   "source": [
    "## 4. (0.3) Batch normalization\n",
    "One of the most significant recent ideas that impacted NNs a lot is [**Batch normalization**](http://arxiv.org/abs/1502.03167). The idea is simple, yet effective: the features should be whitened ($mean = 0$, $std = 1$) all the way through NN. This improves the convergence for deep models letting it train them for days but not weeks. **You are** to implement the first part of the layer: features normalization. The second part (`ChannelwiseScaling` layer) is implemented below.\n",
    "\n",
    "- input:   **`batch_size x n_feats`**\n",
    "- output: **`batch_size x n_feats`**\n",
    "\n",
    "The layer should work as follows. While training (`self.training == True`) it transforms input as $$y = \\frac{x - \\mu}  {\\sqrt{\\sigma + \\epsilon}}$$\n",
    "where $\\mu$ and $\\sigma$ - mean and variance of feature values in **batch** and $\\epsilon$ is just a small number for numericall stability. Also during training, layer should maintain exponential moving average values for mean and variance:\n",
    "```\n",
    "    self.moving_mean = self.moving_mean * alpha + batch_mean * (1 - alpha)\n",
    "    self.moving_variance = self.moving_variance * alpha + batch_variance * (1 - alpha)\n",
    "```\n",
    "During testing (`self.training == False`) the layer normalizes input using moving_mean and moving_variance.\n",
    "\n",
    "Note that decomposition of batch normalization on normalization itself and channelwise scaling here is just a common **implementation** choice. In general \"batch normalization\" always assumes normalization + scaling."
   ]
  },
  {
   "cell_type": "code",
   "execution_count": 7,
   "metadata": {
    "collapsed": true,
    "id": "fGTTDqVgj6eb"
   },
   "outputs": [],
   "source": [
    "class BatchNormalization(Module):\n",
    "\n",
    "    EPS = 1e-5\n",
    "\n",
    "    def __init__(self, alpha=0.9):\n",
    "        super(BatchNormalization, self).__init__()\n",
    "        self.alpha = alpha\n",
    "        self.moving_mean = None\n",
    "        self.moving_variance = None\n",
    "        # Статистики и промежуточные значения текущего батча (только для train)\n",
    "        self.batch_mean = None\n",
    "        self.batch_variance = None\n",
    "        self.input_normalized = None\n",
    "        self.inv_std = None\n",
    "        self.input_shape = None\n",
    "\n",
    "    def updateOutput(self, input):\n",
    "        input_dtype = input.dtype\n",
    "        input = input.astype(np.float64)  # Работаем с float64\n",
    "        self.input_shape = input.shape\n",
    "        if len(input.shape) != 2:\n",
    "            raise ValueError(\n",
    "                f\"BatchNormalization expects 2D input (batch, features), got {input.shape}\"\n",
    "            )\n",
    "        N, n_features = self.input_shape\n",
    "\n",
    "        if self.training:\n",
    "            if N == 1:\n",
    "                # BN с батчем 1 в режиме train не имеет смысла, но PyTorch его обрабатывает,\n",
    "                # используя moving average. Для простоты вернем 0 или вход.\n",
    "                # Или можно использовать moving stats, если они есть\n",
    "                print(\n",
    "                    \"Warning: BatchNormalization received batch size 1 in training mode.\"\n",
    "                )\n",
    "                if self.moving_mean is not None and self.moving_variance is not None:\n",
    "                    # Используем moving stats как в eval режиме\n",
    "                    inv_std_eval = 1.0 / np.sqrt(self.moving_variance + self.EPS)\n",
    "                    self.output = (input - self.moving_mean) * inv_std_eval\n",
    "                    # Не сохраняем batch stats и не обновляем moving stats\n",
    "                    self.batch_mean = None\n",
    "                    self.batch_variance = None\n",
    "                    self.inv_std = None\n",
    "                    self.input_normalized = None\n",
    "                    return self.output.astype(input_dtype)\n",
    "                else:  # Если и moving stats нет - возвращаем нули или вход\n",
    "                    self.output = np.zeros_like(input)  # или input\n",
    "                    return self.output.astype(input_dtype)\n",
    "\n",
    "            # Стандартный расчет для N > 1\n",
    "            self.batch_mean = np.mean(input, axis=0, keepdims=True)\n",
    "            # Используем ddof=0 для biased variance\n",
    "            self.batch_variance = np.var(input, axis=0, ddof=0, keepdims=True)\n",
    "\n",
    "            if self.moving_mean is None:\n",
    "                # ПЕРВЫЙ forward: Просто инициализируем статистики батча\n",
    "                # (unbiased variance для moving_variance)\n",
    "                self.moving_mean = self.batch_mean.copy()\n",
    "                # PyTorch использует unbiased оценку для running_var\n",
    "                unbiased_batch_variance = self.batch_variance * (\n",
    "                    N / max(1.0, N - 1.0)\n",
    "                )  # Деление на N-1, защита от N=1\n",
    "                self.moving_variance = unbiased_batch_variance.copy()\n",
    "            else:\n",
    "                # ПОСЛЕДУЮЩИЕ forward: Обновляем по формуле\n",
    "                self.moving_mean = (\n",
    "                    self.alpha * self.moving_mean + (1.0 - self.alpha) * self.batch_mean\n",
    "                )\n",
    "                unbiased_batch_variance = self.batch_variance * (N / max(1.0, N - 1.0))\n",
    "                self.moving_variance = (\n",
    "                    self.alpha * self.moving_variance\n",
    "                    + (1.0 - self.alpha) * unbiased_batch_variance\n",
    "                )\n",
    "\n",
    "            # Нормализация и сохранение для backward (используем biased variance батча)\n",
    "            self.inv_std = 1.0 / np.sqrt(self.batch_variance + self.EPS)\n",
    "            self.input_normalized = (input - self.batch_mean) * self.inv_std\n",
    "            self.output = self.input_normalized\n",
    "\n",
    "        else:  # Режим оценки\n",
    "            if self.moving_mean is None or self.moving_variance is None:\n",
    "                # Если не тренировали, инициализируем стандартно\n",
    "                print(\n",
    "                    \"Warning: BN in eval mode without training. Using default stats (mean=0, var=1).\"\n",
    "                )\n",
    "                self.moving_mean = np.zeros((1, n_features))\n",
    "                self.moving_variance = np.ones((1, n_features))\n",
    "\n",
    "            inv_std_eval = 1.0 / np.sqrt(self.moving_variance + self.EPS)\n",
    "            self.output = (input - self.moving_mean) * inv_std_eval\n",
    "            # Не сохраняем batch stats в eval\n",
    "            self.batch_mean = None\n",
    "            self.batch_variance = None\n",
    "            self.inv_std = None\n",
    "            self.input_normalized = None\n",
    "\n",
    "        return self.output.astype(input_dtype)\n",
    "\n",
    "    def updateGradInput(self, input, gradOutput):\n",
    "        input_dtype = input.dtype\n",
    "        gradOutput = gradOutput.astype(np.float64)\n",
    "        input = input.astype(np.float64)  # Input нужен для backward в train\n",
    "\n",
    "        if not self.training:\n",
    "            # Backward в eval - используем moving stats\n",
    "            if self.moving_variance is None:\n",
    "                # Если нет moving stats, градиент не определен корректно\n",
    "                print(\n",
    "                    \"Warning: BN backward called in eval mode without stats. Returning zero grad.\"\n",
    "                )\n",
    "                self.gradInput = np.zeros_like(input)\n",
    "                return self.gradInput.astype(input_dtype)\n",
    "\n",
    "            inv_std_eval = 1.0 / np.sqrt(self.moving_variance + self.EPS)\n",
    "            self.gradInput = gradOutput * inv_std_eval\n",
    "            return self.gradInput.astype(input_dtype)\n",
    "\n",
    "        # Только для режима обучения (использует сохраненные batch stats)\n",
    "        if (\n",
    "            self.input_shape is None\n",
    "            or self.batch_mean is None\n",
    "            or self.input_normalized is None\n",
    "            or self.inv_std is None\n",
    "        ):\n",
    "            raise RuntimeError(\n",
    "                \"Backward pass called in train mode without prior training forward pass or with batch_size=1.\"\n",
    "            )\n",
    "\n",
    "        N = self.input_shape[0]\n",
    "        if N == 1:  # Градиент не определен для N=1 в train\n",
    "            print(\n",
    "                \"Warning: BN backward called in train mode with batch_size=1. Returning zero grad.\"\n",
    "            )\n",
    "            self.gradInput = np.zeros_like(input)\n",
    "            return self.gradInput.astype(input_dtype)\n",
    "\n",
    "        gradOutput_sum = np.sum(gradOutput, axis=0, keepdims=True)\n",
    "        gradOutput_x_output_sum = np.sum(\n",
    "            gradOutput * self.input_normalized, axis=0, keepdims=True\n",
    "        )\n",
    "\n",
    "        self.gradInput = (\n",
    "            (1.0 / N)\n",
    "            * self.inv_std\n",
    "            * (\n",
    "                N * gradOutput\n",
    "                - gradOutput_sum\n",
    "                - self.input_normalized * gradOutput_x_output_sum\n",
    "            )\n",
    "        )\n",
    "        return self.gradInput.astype(input_dtype)\n",
    "\n",
    "    def __repr__(self):\n",
    "        n_feats = (\n",
    "            self.moving_mean.shape[1] if self.moving_mean is not None else \"Unknown\"\n",
    "        )\n",
    "        return \"BatchNormalization\""
   ]
  },
  {
   "cell_type": "code",
   "execution_count": 8,
   "metadata": {
    "collapsed": true,
    "id": "8XUS3Lt-j6eb"
   },
   "outputs": [],
   "source": [
    "class ChannelwiseScaling(Module):\n",
    "    \"\"\"\n",
    "    Implements linear transform of input y = gamma * x + beta\n",
    "    where gamma, beta - learnable vectors of length x.shape[-1]\n",
    "    \"\"\"\n",
    "\n",
    "    def __init__(self, n_features):\n",
    "        super(ChannelwiseScaling, self).__init__()\n",
    "        self.gamma = np.ones(n_features)  # Веса (масштаб)\n",
    "        self.beta = np.zeros(n_features)  # Смещения (сдвиг)\n",
    "        self.gradGamma = np.zeros_like(self.gamma)\n",
    "        self.gradBeta = np.zeros_like(self.beta)\n",
    "        self.current_input = None  # Кэшируем вход для backward\n",
    "\n",
    "    def updateOutput(self, input):\n",
    "        if input.shape[-1] != self.gamma.shape[0]:\n",
    "            raise ValueError(\n",
    "                f\"Input feature size {input.shape[-1]} != layer feature size {self.gamma.shape[0]}\"\n",
    "            )\n",
    "        self.current_input = input\n",
    "        # Broadcasting: (N, F) * (F,) + (F,) -> (N, F) или (N, C, H, W) * (C,) ...\n",
    "        # Нужно, чтобы gamma/beta применялись к оси каналов/фичей (обычно ось 1 для Conv, ось -1 для Linear)\n",
    "        # Сделаем универсальнее, предполагая, что последняя ось - фичи\n",
    "        if input.ndim == 2:  # После Linear/Flatten\n",
    "            self.output = self.gamma * input + self.beta\n",
    "        elif input.ndim == 4:  # После Conv\n",
    "            # gamma/beta shape (C,) -> reshape to (1, C, 1, 1) for broadcasting\n",
    "            gamma_reshaped = self.gamma.reshape(1, -1, 1, 1)\n",
    "            beta_reshaped = self.beta.reshape(1, -1, 1, 1)\n",
    "            self.output = gamma_reshaped * input + beta_reshaped\n",
    "        else:\n",
    "            raise NotImplementedError(\"ChannelwiseScaling only supports 2D or 4D input\")\n",
    "\n",
    "        return self.output\n",
    "\n",
    "    def updateGradInput(self, input, gradOutput):\n",
    "        # dL/dInput = dL/dOutput * gamma\n",
    "        if input.ndim == 2:\n",
    "            self.gradInput = gradOutput * self.gamma\n",
    "        elif input.ndim == 4:\n",
    "            gamma_reshaped = self.gamma.reshape(1, -1, 1, 1)\n",
    "            self.gradInput = gradOutput * gamma_reshaped\n",
    "        else:  # Должно совпадать с updateOutput\n",
    "            raise NotImplementedError(\n",
    "                \"ChannelwiseScaling only supports 2D or 4D input for backward\"\n",
    "            )\n",
    "        return self.gradInput\n",
    "\n",
    "    def accGradParameters(self, input, gradOutput):\n",
    "        if self.current_input is None:\n",
    "            raise RuntimeError(\"Need to run forward pass before accGradParameters.\")\n",
    "        # dL/dGamma = sum(dL/dOutput * input) по не-фичевым осям\n",
    "        # dL/dBeta = sum(dL/dOutput) по не фичевым осям\n",
    "        if self.current_input.ndim == 2:\n",
    "            axis_to_sum = (0,)\n",
    "        elif self.current_input.ndim == 4:\n",
    "            axis_to_sum = (0, 2, 3)\n",
    "        else:  # Должно совпадать с updateOutput\n",
    "            raise NotImplementedError(\n",
    "                \"ChannelwiseScaling only supports 2D or 4D input for accGrad\"\n",
    "            )\n",
    "\n",
    "        self.gradGamma += np.sum(gradOutput * self.current_input, axis=axis_to_sum)\n",
    "        self.gradBeta += np.sum(gradOutput, axis=axis_to_sum)\n",
    "\n",
    "    def zeroGradParameters(self):\n",
    "        self.gradGamma.fill(0)\n",
    "        self.gradBeta.fill(0)\n",
    "\n",
    "    def getParameters(self):\n",
    "        return [self.gamma, self.beta]\n",
    "\n",
    "    def getGradParameters(self):\n",
    "        return [self.gradGamma, self.gradBeta]\n",
    "\n",
    "    def __repr__(self):\n",
    "        return \"ChannelwiseScaling\""
   ]
  },
  {
   "cell_type": "markdown",
   "metadata": {
    "id": "vA5zjM3jj6eb"
   },
   "source": [
    "Practical notes. If BatchNormalization is placed after a linear transformation layer (including dense layer, convolutions, channelwise scaling) that implements function like `y = weight * x + bias`, than bias adding become useless and could be omitted since its effect will be discarded while batch mean subtraction. If BatchNormalization (followed by `ChannelwiseScaling`) is placed before a layer that propagates scale (including ReLU, LeakyReLU) followed by any linear transformation layer than parameter `gamma` in `ChannelwiseScaling` could be freezed since it could be absorbed into the linear transformation layer."
   ]
  },
  {
   "cell_type": "markdown",
   "metadata": {
    "id": "Gackeo1cj6eb"
   },
   "source": [
    "## 5. (0.3) Dropout\n",
    "Implement [**dropout**](https://www.cs.toronto.edu/~hinton/absps/JMLRdropout.pdf). The idea and implementation is really simple: just multimply the input by $Bernoulli(p)$ mask. Here $p$ is probability of an element to be zeroed.\n",
    "\n",
    "This has proven to be an effective technique for regularization and preventing the co-adaptation of neurons.\n",
    "\n",
    "While training (`self.training == True`) it should sample a mask on each iteration (for every batch), zero out elements and multiply elements by $1 / (1 - p)$. The latter is needed for keeping mean values of features close to mean values which will be in test mode. When testing this module should implement identity transform i.e. `self.output = input`.\n",
    "\n",
    "- input:   **`batch_size x n_feats`**\n",
    "- output: **`batch_size x n_feats`**"
   ]
  },
  {
   "cell_type": "code",
   "execution_count": 9,
   "metadata": {
    "id": "NmLQV3jXj6eb"
   },
   "outputs": [],
   "source": [
    "class Dropout(Module):\n",
    "    def __init__(self, p=0.5):\n",
    "        super(Dropout, self).__init__()\n",
    "        self.p = p  # Вероятность зануления\n",
    "        self.mask = None\n",
    "\n",
    "    def updateOutput(self, input):\n",
    "        if self.training:\n",
    "            # Вероятность СОХРАНЕНИЯ элемента = 1 - p\n",
    "            self.mask = np.random.binomial(\n",
    "                n=1, p=(1.0 - self.p), size=input.shape\n",
    "            ).astype(input.dtype)\n",
    "            # Масштабирование (inverted dropout)\n",
    "            scale_factor = (\n",
    "                1.0 / (1.0 - self.p) if self.p < 1.0 else 0.0\n",
    "            )  # Деление на ноль если p=1\n",
    "            self.output = input * self.mask * scale_factor\n",
    "        else:\n",
    "            self.output = input\n",
    "            self.mask = None  # Не нужна в режиме eval\n",
    "        return self.output\n",
    "\n",
    "    def updateGradInput(self, input, gradOutput):\n",
    "        if self.training:\n",
    "            if self.mask is None:\n",
    "                raise RuntimeError(\n",
    "                    \"Dropout mask is not available. Run forward pass in training mode first.\"\n",
    "                )\n",
    "            scale_factor = 1.0 / (1.0 - self.p) if self.p < 1.0 else 0.0\n",
    "            self.gradInput = gradOutput * self.mask * scale_factor\n",
    "        else:\n",
    "            self.gradInput = gradOutput\n",
    "        return self.gradInput\n",
    "\n",
    "    def __repr__(self):\n",
    "        return \"Dropout\""
   ]
  },
  {
   "cell_type": "markdown",
   "metadata": {
    "id": "-WHGIqJFlhz2"
   },
   "source": [
    "# 6. (2.0) Conv2d\n",
    "Implement [**Conv2d**](https://pytorch.org/docs/stable/generated/torch.nn.Conv2d.html). Use only this list of parameters: (in_channels, out_channels, kernel_size, stride, padding, bias, padding_mode) and fix dilation=1 and groups=1."
   ]
  },
  {
   "cell_type": "code",
   "execution_count": 10,
   "metadata": {},
   "outputs": [],
   "source": [
    "def _pair(x, name=\"parameter\"):\n",
    "    \"\"\"\n",
    "    Эта функция позволяет пользователю передать одно число (например, kernel_size=3),\n",
    "    и оно будет автоматически преобразовано в симметричную пару ((3, 3)).\n",
    "    Если пользователь передает пару (kernel_size=(3, 5)), она используется как есть.\n",
    "    Она также выполняет проверку типа и размера, выбрасывая ошибку, если входные данные некорректны.\n",
    "    \"\"\"\n",
    "    if isinstance(x, int):\n",
    "        return (x, x)\n",
    "    if isinstance(x, tuple) and len(x) == 2 and all(isinstance(i, int) for i in x):\n",
    "        return x\n",
    "    raise ValueError(f\"{name} must be int or tuple of 2 ints, but got {x}\")\n",
    "\n",
    "\n",
    "def _calculate_same_padding(input_size, kernel_size, stride):\n",
    "    \"\"\"\n",
    "    Режим \"same\" padding в свертках стремится сделать так, чтобы размер выходной карты признаков был\n",
    "    таким же (или почти таким же, с учетом шага stride), как и размер входной.\n",
    "    Эта функция инкапсулирует формулу для расчета необходимого общего паддинга и его распределения (почти поровну) до и после оси.\n",
    "    Используется внутри _resolve_padding в Conv2d\n",
    "    \"\"\"\n",
    "    output_size = (input_size + stride - 1) // stride\n",
    "    total_padding = max(0, (output_size - 1) * stride + kernel_size - input_size)\n",
    "    pad_before = total_padding // 2\n",
    "    pad_after = total_padding - pad_before\n",
    "    return pad_before, pad_after\n",
    "\n",
    "\n",
    "def get_im2col_indices(\n",
    "    x_shape, kernel_h, kernel_w, stride_h, stride_w, pad_h_total, pad_w_total\n",
    "):\n",
    "    \"\"\"\n",
    "    Это ядро ​​техники im2col.\n",
    "    Вместо того чтобы выполнять свертку с помощью скользящего окна и вложенных циклов, im2col преобразует задачу в одно большое матричное умножение.\n",
    "    Эта функция генерирует индексы k (канал), i (строка) и j (столбец) для каждого элемента в каждом патче, которые соответствуют их положению в дополненном входном тензоре.\n",
    "    Она также вычисляет размеры выходной карты (out_height, out_width). Эти индексы затем используются в im2col_indices и col2im_indices.\n",
    "    \"\"\"\n",
    "    N, C, H, W = x_shape\n",
    "    out_height = (H + pad_h_total - kernel_h) // stride_h + 1\n",
    "    out_width = (W + pad_w_total - kernel_w) // stride_w + 1\n",
    "    if out_height <= 0 or out_width <= 0:\n",
    "        raise ValueError(f\"Output size non-positive H={out_height}, W={out_width}\")\n",
    "    i0 = np.tile(np.repeat(np.arange(kernel_h), kernel_w), C)\n",
    "    j0 = np.tile(np.tile(np.arange(kernel_w), kernel_h), C)\n",
    "    i1 = stride_h * np.repeat(np.arange(out_height), out_width)\n",
    "    j1 = stride_w * np.tile(np.arange(out_width), out_height)\n",
    "    i = i0[:, None] + i1[None, :]\n",
    "    j = j0[:, None] + j1[None, :]\n",
    "    k = np.repeat(np.arange(C), kernel_h * kernel_w)\n",
    "    return k.astype(int), i.astype(int), j.astype(int), out_height, out_width\n",
    "\n",
    "\n",
    "def im2col_indices(x, kernel_h, kernel_w, stride_h, stride_w, pad_tuple, padding_mode):\n",
    "    \"\"\"\n",
    "    Это ключевая функция для прямого прохода (updateOutput) свертки.\n",
    "    После получения матрицы cols операция свертки сводится к одному матричному умножению: W_flat @ cols, где W_flat — это матрица весов свертки, развернутая в 2D.\n",
    "    Матричное умножение в NumPy выполняется очень эффективно. Эта функция также возвращает информацию о форме выходного тензора.\n",
    "    \"\"\"\n",
    "    N, C, H, W = x.shape\n",
    "    pad_top, pad_bottom, pad_left, pad_right = pad_tuple\n",
    "    pad_h_total = pad_top + pad_bottom\n",
    "    pad_w_total = pad_left + pad_right\n",
    "    if pad_h_total > 0 or pad_w_total > 0:\n",
    "        np_pad_width = ((0, 0), (0, 0), (pad_top, pad_bottom), (pad_left, pad_right))\n",
    "        mode_map = {\"zeros\": \"constant\", \"reflect\": \"reflect\", \"replicate\": \"edge\"}\n",
    "        if padding_mode not in mode_map:\n",
    "            raise ValueError(f\"Unsupported padding: {padding_mode}\")\n",
    "        x_padded = np.pad(\n",
    "            x,\n",
    "            np_pad_width,\n",
    "            mode=mode_map[padding_mode],\n",
    "            **({\"constant_values\": 0} if padding_mode == \"zeros\" else {}),\n",
    "        )\n",
    "    else:\n",
    "        x_padded = x\n",
    "    k, i_rel_padded, j_rel_padded, H_out, W_out = get_im2col_indices(\n",
    "        x.shape, kernel_h, kernel_w, stride_h, stride_w, pad_h_total, pad_w_total\n",
    "    )\n",
    "    cols = x_padded[:, k[:, None], i_rel_padded, j_rel_padded]\n",
    "    cols = cols.transpose(1, 0, 2).reshape(C * kernel_h * kernel_w, N * H_out * W_out)\n",
    "    output_shape_info = (N, -1, H_out, W_out)\n",
    "    return cols, output_shape_info\n",
    "\n",
    "\n",
    "def col2im_indices(cols, x_shape, kernel_h, kernel_w, stride_h, stride_w, pad_tuple):\n",
    "    \"\"\"\n",
    "    Эта функция критически важна для обратного прохода (updateGradInput), то есть для вычисления градиента ошибки по отношению ко входу сверточного слоя (gradInput).\n",
    "    Операция, которую она выполняет, по сути является \"транспонированной сверткой\" (хотя и реализованной через col2im), необходимой для распространения градиента назад через слой.\n",
    "    Она использует те же индексы, что и im2col_indices, чтобы поместить значения из cols обратно в соответствующие позиции (потенциально дополненного) тензора градиента, а затем удаляет паддинг.\n",
    "    \"\"\"\n",
    "    N, C, H, W = x_shape\n",
    "    pad_top, pad_bottom, pad_left, pad_right = pad_tuple\n",
    "    pad_h_total = pad_top + pad_bottom\n",
    "    pad_w_total = pad_left + pad_right\n",
    "    H_padded = H + pad_h_total\n",
    "    W_padded = W + pad_w_total\n",
    "    k, i_rel_padded, j_rel_padded, H_out, W_out = get_im2col_indices(\n",
    "        x_shape, kernel_h, kernel_w, stride_h, stride_w, pad_h_total, pad_w_total\n",
    "    )\n",
    "    x_padded_grad = np.zeros((N, C, H_padded, W_padded), dtype=cols.dtype)\n",
    "    cols_reshaped = cols.reshape(C * kernel_h * kernel_w, N, H_out * W_out).transpose(\n",
    "        1, 0, 2\n",
    "    )\n",
    "    idx_n = np.arange(N)[:, None, None]\n",
    "    np.add.at(\n",
    "        x_padded_grad,\n",
    "        (idx_n, k[None, :, None], i_rel_padded[None, :, :], j_rel_padded[None, :, :]),\n",
    "        cols_reshaped,\n",
    "    )\n",
    "    if pad_h_total == 0 and pad_w_total == 0:\n",
    "        return x_padded_grad\n",
    "    else:\n",
    "        return x_padded_grad[\n",
    "            :, :, pad_top : H_padded - pad_bottom, pad_left : W_padded - pad_right\n",
    "        ]"
   ]
  },
  {
   "cell_type": "code",
   "execution_count": 11,
   "metadata": {},
   "outputs": [],
   "source": [
    "class Conv2d(Module):\n",
    "    def __init__(\n",
    "        self,\n",
    "        in_channels,\n",
    "        out_channels,\n",
    "        kernel_size,\n",
    "        stride=1,\n",
    "        padding=0,\n",
    "        bias=True,\n",
    "        padding_mode=\"zeros\",\n",
    "    ):\n",
    "        super(Conv2d, self).__init__()\n",
    "        self.in_channels = in_channels\n",
    "        self.out_channels = out_channels\n",
    "        self.kernel_size = _pair(kernel_size)\n",
    "        self.stride = _pair(stride)\n",
    "        self.padding_arg = padding\n",
    "        self.use_bias = bias\n",
    "        if padding_mode not in [\"zeros\", \"reflect\", \"replicate\"]:\n",
    "            raise ValueError(f\"Unsupported padding_mode: {padding_mode}\")\n",
    "        self.padding_mode = padding_mode\n",
    "        fan_in = self.in_channels * self.kernel_size[0] * self.kernel_size[1]\n",
    "        bound = np.sqrt(6.0 / fan_in) if fan_in > 0 else 0\n",
    "        self.W = np.random.uniform(\n",
    "            -bound,\n",
    "            bound,\n",
    "            (out_channels, in_channels, self.kernel_size[0], self.kernel_size[1]),\n",
    "        ).astype(np.float64)\n",
    "        self.gradW = np.zeros_like(self.W)\n",
    "        if self.use_bias:\n",
    "            bound_b = 1.0 / np.sqrt(fan_in) if fan_in > 0 else 0\n",
    "            self.b = np.random.uniform(-bound_b, bound_b, out_channels).astype(\n",
    "                np.float64\n",
    "            )\n",
    "            self.gradB = np.zeros_like(self.b)\n",
    "        else:\n",
    "            self.b = None\n",
    "            self.gradB = None\n",
    "        self.input_shape = None\n",
    "        self.cols = None\n",
    "        self.calculated_padding_tuple = None\n",
    "        self.output_shape_info = None\n",
    "        self.weight = self.W\n",
    "        self.bias = self.b\n",
    "\n",
    "    def _resolve_padding(self, H_in, W_in):\n",
    "        KH, KW = self.kernel_size\n",
    "        SH, SW = self.stride\n",
    "        if isinstance(self.padding_arg, str):\n",
    "            pad_str = self.padding_arg.lower()\n",
    "            pt, pb, pl, pr = 0, 0, 0, 0\n",
    "            if pad_str == \"valid\":\n",
    "                pass\n",
    "            elif pad_str == \"same\":\n",
    "                pt, pb = _calculate_same_padding(H_in, KH, SH)\n",
    "                pl, pr = _calculate_same_padding(W_in, KW, SW)\n",
    "            else:\n",
    "                raise ValueError(f\"Unknown padding string: {self.padding_arg}\")\n",
    "            return (pt, pb, pl, pr)\n",
    "        else:\n",
    "            PH, PW = _pair(self.padding_arg)\n",
    "            return (PH, PH, PW, PW)\n",
    "\n",
    "    def updateOutput(self, input):\n",
    "        input_dtype = input.dtype\n",
    "        input_f64 = input.astype(np.float64, copy=False)\n",
    "        self.input_shape = input.shape\n",
    "        N, C_in, H_in, W_in = self.input_shape\n",
    "        KH, KW = self.kernel_size\n",
    "        SH, SW = self.stride\n",
    "        self.calculated_padding_tuple = self._resolve_padding(H_in, W_in)\n",
    "        self.cols, self.output_shape_info = im2col_indices(\n",
    "            input_f64, KH, KW, SH, SW, self.calculated_padding_tuple, self.padding_mode\n",
    "        )\n",
    "        W_flat = self.W.reshape(self.out_channels, -1)\n",
    "        result = W_flat @ self.cols\n",
    "        if self.use_bias:\n",
    "            result += self.b.reshape(-1, 1)\n",
    "        N_out, _, H_out, W_out = self.output_shape_info\n",
    "        try:\n",
    "            self.output = result.reshape(\n",
    "                self.out_channels, N_out, H_out, W_out\n",
    "            ).transpose(1, 0, 2, 3)\n",
    "        except ValueError as e:\n",
    "            raise ValueError(f\"Output reshape error: {e}\")\n",
    "        return self.output.astype(input_dtype)\n",
    "\n",
    "    def updateGradInput(self, input, gradOutput):\n",
    "        input_dtype = input.dtype\n",
    "        gradOutput_f64 = gradOutput.astype(np.float64, copy=False)\n",
    "        N, C_out, H_out, W_out = gradOutput.shape\n",
    "        KH, KW = self.kernel_size\n",
    "        SH, SW = self.stride\n",
    "        gradOutput_flat = gradOutput_f64.transpose(1, 0, 2, 3).reshape(\n",
    "            self.out_channels, -1\n",
    "        )\n",
    "        W_flat = self.W.reshape(self.out_channels, -1)\n",
    "        grad_cols = W_flat.T @ gradOutput_flat\n",
    "        self.gradInput = col2im_indices(\n",
    "            grad_cols, self.input_shape, KH, KW, SH, SW, self.calculated_padding_tuple\n",
    "        )\n",
    "        return self.gradInput.astype(input_dtype)\n",
    "\n",
    "    def accGradParameters(self, input, gradOutput):\n",
    "        gradOutput_f64 = gradOutput.astype(np.float64, copy=False)\n",
    "\n",
    "        N, C_out, H_out, W_out = gradOutput.shape\n",
    "        KH, KW = self.kernel_size\n",
    "        if self.use_bias:  #\n",
    "            self.gradB += np.sum(gradOutput_f64, axis=(0, 2, 3))\n",
    "        gradOutput_flat = gradOutput_f64.transpose(1, 0, 2, 3).reshape(\n",
    "            self.out_channels, -1\n",
    "        )\n",
    "        gradW_flat = gradOutput_flat @ self.cols.T\n",
    "        self.gradW += gradW_flat.reshape(self.W.shape)\n",
    "\n",
    "    def zeroGradParameters(self):\n",
    "        if hasattr(self, \"gradW\") and self.gradW is not None:\n",
    "            self.gradW.fill(0)\n",
    "        if self.use_bias and hasattr(self, \"gradB\") and self.gradB is not None:\n",
    "            self.gradB.fill(0)\n",
    "\n",
    "    def getParameters(self):\n",
    "        return [self.W, self.b] if self.use_bias else [self.W]\n",
    "\n",
    "    def getGradParameters(self):\n",
    "        return [self.gradW, self.gradB] if self.use_bias else [self.gradW]\n",
    "\n",
    "    def __repr__(self):\n",
    "        return \"Conv2d\""
   ]
  },
  {
   "cell_type": "markdown",
   "metadata": {
    "id": "updUVZE9qixP"
   },
   "source": [
    "#7. (0.5) Implement [**MaxPool2d**](https://pytorch.org/docs/stable/generated/torch.nn.MaxPool2d.html) and [**AvgPool2d**](https://pytorch.org/docs/stable/generated/torch.nn.AvgPool2d.html). Use only parameters like kernel_size, stride, padding (negative infinity for maxpool and zero for avgpool) and other parameters fixed as in framework."
   ]
  },
  {
   "cell_type": "code",
   "execution_count": 12,
   "metadata": {
    "id": "Qys58EzkqhLj"
   },
   "outputs": [],
   "source": [
    "class MaxPool2d(Module):\n",
    "    def __init__(self, kernel_size, stride=None, padding=0):\n",
    "        super(MaxPool2d, self).__init__()\n",
    "\n",
    "        self.kernel_size = _pair(kernel_size, \"kernel_size\")\n",
    "        self.stride = _pair(stride if stride is not None else kernel_size, \"stride\")\n",
    "        self.padding_arg = padding\n",
    "\n",
    "        if any(s > k for s, k in zip(self.stride, self.kernel_size)):\n",
    "            print(\n",
    "                f\"Warning: MaxPool2d stride {self.stride} > kernel_size {self.kernel_size}. This is unusual.\"\n",
    "            )\n",
    "        self.max_indices = None\n",
    "        self.input_shape = None\n",
    "        self.calculated_padding_tuple = None\n",
    "\n",
    "    def _resolve_padding(self, H_in, W_in):\n",
    "        # Вычисляет (top, bottom, left, right) паддинг для MaxPool\n",
    "        try:\n",
    "            PH, PW = _pair(self.padding_arg, \"padding\")\n",
    "            return (PH, PH, PW, PW)\n",
    "        except ValueError:\n",
    "            raise ValueError(\n",
    "                f\"MaxPool2d padding must be int or tuple of 2 ints, got {self.padding_arg}\"\n",
    "            )\n",
    "\n",
    "    def updateOutput(self, input):\n",
    "        input_dtype = input.dtype\n",
    "        input_f64 = input.astype(np.float64, copy=False)\n",
    "        self.input_shape = input.shape\n",
    "        N, C, H_in, W_in = self.input_shape\n",
    "        KH, KW = self.kernel_size\n",
    "        SH, SW = self.stride\n",
    "\n",
    "        self.calculated_padding_tuple = self._resolve_padding(H_in, W_in)\n",
    "        pad_top, pad_bottom, pad_left, pad_right = self.calculated_padding_tuple\n",
    "        pad_h_total = pad_top + pad_bottom\n",
    "        pad_w_total = pad_left + pad_right\n",
    "\n",
    "        H_out = (H_in + pad_h_total - KH) // SH + 1\n",
    "        W_out = (W_in + pad_w_total - KW) // SW + 1\n",
    "\n",
    "        current_padding_mode = \"zeros\"\n",
    "        cols, _ = im2col_indices(\n",
    "            input_f64,\n",
    "            KH,\n",
    "            KW,\n",
    "            SH,\n",
    "            SW,\n",
    "            pad_tuple=self.calculated_padding_tuple,\n",
    "            padding_mode=current_padding_mode,\n",
    "        )\n",
    "\n",
    "        cols_reshaped = cols.reshape(C, KH * KW, -1)\n",
    "        max_vals = np.max(cols_reshaped, axis=1)\n",
    "        self.max_indices = np.argmax(cols_reshaped, axis=1)\n",
    "\n",
    "        try:\n",
    "            self.output = max_vals.reshape(C, N, H_out, W_out).transpose(1, 0, 2, 3)\n",
    "        except ValueError as e:\n",
    "            raise ValueError(f\"MaxPool2d reshape error: {e}\")\n",
    "\n",
    "        return self.output.astype(input_dtype)\n",
    "\n",
    "    def updateGradInput(self, input, gradOutput):\n",
    "        input_dtype = input.dtype\n",
    "        gradOutput_f64 = gradOutput.astype(np.float64, copy=False)\n",
    "\n",
    "        N, C, H_in, W_in = self.input_shape\n",
    "        KH, KW = self.kernel_size\n",
    "        SH, SW = self.stride\n",
    "\n",
    "        _, _, H_out, W_out = gradOutput.shape\n",
    "\n",
    "        grad_cols_shape = (C * KH * KW, N * H_out * W_out)\n",
    "        grad_cols = np.zeros(grad_cols_shape, dtype=gradOutput_f64.dtype)\n",
    "        gradOutput_flat = gradOutput_f64.transpose(1, 0, 2, 3).reshape(C, -1)\n",
    "\n",
    "        channel_offsets = np.arange(C)[:, None] * (KH * KW)\n",
    "        row_indices = channel_offsets + self.max_indices\n",
    "\n",
    "        col_indices = np.arange(N * H_out * W_out)[None, :]\n",
    "\n",
    "        flat_row_indices = row_indices.ravel()\n",
    "        flat_col_indices = np.tile(col_indices, (C, 1)).ravel()\n",
    "        flat_gradOutput = gradOutput_flat.ravel()\n",
    "\n",
    "        np.add.at(grad_cols, (flat_row_indices, flat_col_indices), flat_gradOutput)\n",
    "\n",
    "        self.gradInput = col2im_indices(\n",
    "            grad_cols,\n",
    "            self.input_shape,\n",
    "            KH,\n",
    "            KW,\n",
    "            SH,\n",
    "            SW,\n",
    "            self.calculated_padding_tuple,\n",
    "        )\n",
    "\n",
    "        return self.gradInput.astype(input_dtype)\n",
    "\n",
    "    def __repr__(self):\n",
    "        return \"MaxPool2d\"\n",
    "\n",
    "\n",
    "class AvgPool2d(Module):\n",
    "    def __init__(self, kernel_size, stride=None, padding=0):\n",
    "        super(AvgPool2d, self).__init__()\n",
    "\n",
    "        self.kernel_size = _pair(kernel_size, \"kernel_size\")\n",
    "        self.stride = _pair(stride if stride is not None else kernel_size, \"stride\")\n",
    "        self.padding_arg = padding\n",
    "        self.pool_size = self.kernel_size[0] * self.kernel_size[1]\n",
    "        if self.pool_size == 0:\n",
    "            raise ValueError(\"Pool size cannot be zero\")\n",
    "        self.input_shape = None\n",
    "        self.calculated_padding_tuple = None\n",
    "\n",
    "    def _resolve_padding(self, H_in, W_in):\n",
    "        \"\"\"Вычисляет (top, bottom, left, right) паддинг для AvgPool.\"\"\"\n",
    "        try:\n",
    "            PH, PW = _pair(self.padding_arg, \"padding\")\n",
    "            return (PH, PH, PW, PW)  # Симметричный паддинг\n",
    "        except ValueError:\n",
    "            raise ValueError(\n",
    "                f\"AvgPool2d padding must be int or tuple of 2 ints, got {self.padding_arg}\"\n",
    "            )\n",
    "\n",
    "    def updateOutput(self, input):\n",
    "        input_dtype = input.dtype\n",
    "        input_f64 = input.astype(np.float64, copy=False)\n",
    "        self.input_shape = input.shape\n",
    "        N, C, H_in, W_in = self.input_shape\n",
    "        KH, KW = self.kernel_size\n",
    "        SH, SW = self.stride\n",
    "        self.calculated_padding_tuple = self._resolve_padding(H_in, W_in)\n",
    "        pad_top, pad_bottom, pad_left, pad_right = self.calculated_padding_tuple\n",
    "        pad_h_total = pad_top + pad_bottom\n",
    "        pad_w_total = pad_left + pad_right\n",
    "\n",
    "        H_out = (H_in + pad_h_total - KH) // SH + 1\n",
    "        W_out = (W_in + pad_w_total - KW) // SW + 1\n",
    "\n",
    "        current_padding_mode = \"zeros\"\n",
    "        cols, _ = im2col_indices(\n",
    "            input_f64,\n",
    "            KH,\n",
    "            KW,\n",
    "            SH,\n",
    "            SW,\n",
    "            pad_tuple=self.calculated_padding_tuple,\n",
    "            padding_mode=current_padding_mode,\n",
    "        )\n",
    "\n",
    "        cols_reshaped = cols.reshape(C, KH * KW, -1)\n",
    "        avg_vals = np.mean(cols_reshaped, axis=1)\n",
    "\n",
    "        try:\n",
    "            self.output = avg_vals.reshape(C, N, H_out, W_out).transpose(1, 0, 2, 3)\n",
    "        except ValueError as e:\n",
    "            raise ValueError(f\"AvgPool2d reshape error: {e}\")\n",
    "\n",
    "        return self.output.astype(input_dtype)\n",
    "\n",
    "    def updateGradInput(self, input, gradOutput):\n",
    "        input_dtype = input.dtype\n",
    "        gradOutput_f64 = gradOutput.astype(np.float64, copy=False)\n",
    "\n",
    "        N, C, H_in, W_in = self.input_shape\n",
    "        KH, KW = self.kernel_size\n",
    "        SH, SW = self.stride\n",
    "        _, _, H_out, W_out = gradOutput.shape\n",
    "\n",
    "        gradOutput_flat = gradOutput_f64.transpose(1, 0, 2, 3).reshape(C, -1)\n",
    "        gradOutput_divided = gradOutput_flat / self.pool_size\n",
    "\n",
    "        grad_cols_per_channel = np.repeat(\n",
    "            gradOutput_divided[:, np.newaxis, :], KH * KW, axis=1\n",
    "        )\n",
    "        grad_cols = grad_cols_per_channel.reshape(C * KH * KW, -1)\n",
    "\n",
    "        self.gradInput = col2im_indices(\n",
    "            grad_cols,\n",
    "            self.input_shape,\n",
    "            KH,\n",
    "            KW,\n",
    "            SH,\n",
    "            SW,\n",
    "            self.calculated_padding_tuple,\n",
    "        )\n",
    "        return self.gradInput.astype(input_dtype)\n",
    "\n",
    "    def __repr__(self):\n",
    "        return \"AvgPool2d\""
   ]
  },
  {
   "cell_type": "markdown",
   "metadata": {
    "id": "KTN5R3CwrukV"
   },
   "source": [
    "# 8. (0.3) Implement **GlobalMaxPool2d** and **GlobalAvgPool2d**. They do not have testing and parameters are up to you but they must aggregate information within channels. Write test functions for these layers on your own."
   ]
  },
  {
   "cell_type": "code",
   "execution_count": 13,
   "metadata": {},
   "outputs": [],
   "source": [
    "class GlobalMaxPool2d(Module):\n",
    "\n",
    "    def __init__(self):\n",
    "        super(GlobalMaxPool2d, self).__init__()\n",
    "        self.input_shape = None\n",
    "        self.max_indices_flat = None\n",
    "\n",
    "    def updateOutput(self, input):\n",
    "        self.input_shape = input.shape\n",
    "        N, C, H, W = self.input_shape\n",
    "        self.output = np.max(input, axis=(2, 3), keepdims=True)\n",
    "        input_reshaped = input.reshape(N, C, H * W)\n",
    "        self.max_indices_flat = np.argmax(input_reshaped, axis=2)\n",
    "        return self.output\n",
    "\n",
    "    def updateGradInput(self, input, gradOutput):\n",
    "        N, C, H, W = self.input_shape\n",
    "        self.gradInput = np.zeros(self.input_shape, dtype=gradOutput.dtype)\n",
    "        gradOutput_flat = gradOutput.reshape(N, C)\n",
    "        idx_n, idx_c = np.meshgrid(np.arange(N), np.arange(C), indexing=\"ij\")\n",
    "        idx_h, idx_w = np.unravel_index(self.max_indices_flat, (H, W))\n",
    "        self.gradInput[idx_n, idx_c, idx_h, idx_w] = gradOutput_flat\n",
    "        return self.gradInput\n",
    "\n",
    "\n",
    "class GlobalAvgPool2d(Module):\n",
    "\n",
    "    def __init__(self):\n",
    "        super(GlobalAvgPool2d, self).__init__()\n",
    "        self.input_shape = None\n",
    "\n",
    "    def updateOutput(self, input):\n",
    "        self.input_shape = input.shape\n",
    "        N, C, H, W = self.input_shape\n",
    "        self.output = np.mean(input, axis=(2, 3), keepdims=True)\n",
    "        return self.output\n",
    "\n",
    "    def updateGradInput(self, input, gradOutput):\n",
    "        N, C, H, W = self.input_shape\n",
    "        pool_size = float(H * W)\n",
    "        self.gradInput = gradOutput / pool_size\n",
    "        if self.gradInput.shape != self.input_shape:\n",
    "            self.gradInput = np.broadcast_to(self.gradInput, self.input_shape)\n",
    "        return self.gradInput"
   ]
  },
  {
   "cell_type": "markdown",
   "metadata": {
    "id": "cYeBQDBhtViy"
   },
   "source": [
    "# 9. (0.2) Implement [**Flatten**](https://pytorch.org/docs/stable/generated/torch.flatten.html)"
   ]
  },
  {
   "cell_type": "code",
   "execution_count": 14,
   "metadata": {
    "id": "SimPEMOFqhTQ"
   },
   "outputs": [],
   "source": [
    "class Flatten(Module):\n",
    "    def __init__(self, start_dim=1, end_dim=-1):\n",
    "        super(Flatten, self).__init__()\n",
    "        self.start_dim = start_dim\n",
    "        self.end_dim = end_dim\n",
    "        self.original_shape = None\n",
    "\n",
    "    def updateOutput(self, input):\n",
    "        self.original_shape = input.shape\n",
    "        n_dims = input.ndim\n",
    "\n",
    "        actual_start_dim = (\n",
    "            self.start_dim if self.start_dim >= 0 else n_dims + self.start_dim\n",
    "        )\n",
    "        actual_end_dim = self.end_dim if self.end_dim >= 0 else n_dims + self.end_dim\n",
    "\n",
    "        new_shape = []\n",
    "        new_shape.extend(self.original_shape[:actual_start_dim])\n",
    "        new_shape.append(-1)\n",
    "        new_shape.extend(self.original_shape[actual_end_dim + 1 :])\n",
    "\n",
    "        self.output = input.reshape(tuple(new_shape))\n",
    "        return self.output\n",
    "\n",
    "    def updateGradInput(self, input, gradOutput):\n",
    "        try:\n",
    "            self.gradInput = gradOutput.reshape(self.original_shape)\n",
    "        except ValueError as e:\n",
    "            raise ValueError(\n",
    "                f\"Cannot reshape gradOutput shape {gradOutput.shape} \"\n",
    "                f\"back to original input shape {self.original_shape}. Mismatched elements? Error: {e}\"\n",
    "            )\n",
    "\n",
    "        return self.gradInput\n",
    "\n",
    "    def __repr__(self):\n",
    "        return \"Flatten\""
   ]
  },
  {
   "cell_type": "markdown",
   "metadata": {
    "id": "o36vPHSSj6eb"
   },
   "source": [
    "# Activation functions"
   ]
  },
  {
   "cell_type": "markdown",
   "metadata": {
    "id": "l_pryRQIj6ec"
   },
   "source": [
    "Here's the complete example for the **Rectified Linear Unit** non-linearity (aka **ReLU**):"
   ]
  },
  {
   "cell_type": "code",
   "execution_count": 15,
   "metadata": {
    "collapsed": true,
    "id": "sgm8bXjKj6ec"
   },
   "outputs": [],
   "source": [
    "class ReLU(Module):\n",
    "\n",
    "    def __init__(self):\n",
    "        super(ReLU, self).__init__()\n",
    "\n",
    "    def updateOutput(self, input):\n",
    "        self.output = np.maximum(input, 0)\n",
    "        return self.output\n",
    "\n",
    "    def updateGradInput(self, input, gradOutput):\n",
    "        self.gradInput = np.multiply(gradOutput, input > 0)\n",
    "        return self.gradInput\n",
    "\n",
    "    def __repr__(self):\n",
    "        return \"ReLU()\""
   ]
  },
  {
   "cell_type": "markdown",
   "metadata": {
    "id": "yB0UHGagj6ec"
   },
   "source": [
    "## 10. (0.1) Leaky ReLU\n",
    "Implement [**Leaky Rectified Linear Unit**](http://en.wikipedia.org/wiki%2FRectifier_%28neural_networks%29%23Leaky_ReLUs). Expriment with slope."
   ]
  },
  {
   "cell_type": "code",
   "execution_count": 16,
   "metadata": {
    "id": "agwfkwO0j6ec"
   },
   "outputs": [],
   "source": [
    "class LeakyReLU(Module):\n",
    "\n",
    "    def __init__(self, slope=0.01):\n",
    "        super(LeakyReLU, self).__init__()\n",
    "        self.slope = slope\n",
    "\n",
    "    def updateOutput(self, input):\n",
    "        self.output = np.where(input >= 0, input, self.slope * input)\n",
    "        return self.output\n",
    "\n",
    "    def updateGradInput(self, input, gradOutput):\n",
    "        grad_mask = np.where(input >= 0, 1.0, self.slope)\n",
    "        self.gradInput = gradOutput * grad_mask\n",
    "        return self.gradInput\n",
    "\n",
    "    def __repr__(self):\n",
    "        return \"LeakyReLU\""
   ]
  },
  {
   "cell_type": "markdown",
   "metadata": {
    "id": "t-STyecvj6ec"
   },
   "source": [
    "## 11. (0.1) ELU\n",
    "Implement [**Exponential Linear Units**](http://arxiv.org/abs/1511.07289) activations."
   ]
  },
  {
   "cell_type": "code",
   "execution_count": 17,
   "metadata": {
    "collapsed": true,
    "id": "jJSzEu1mj6ec"
   },
   "outputs": [],
   "source": [
    "class ELU(Module):\n",
    "\n",
    "    def __init__(self, alpha=1.0):\n",
    "        super(ELU, self).__init__()\n",
    "        self.alpha = alpha\n",
    "\n",
    "    def updateOutput(self, input):\n",
    "        self.output = np.where(input >= 0, input, self.alpha * (np.exp(input) - 1.0))\n",
    "        return self.output\n",
    "\n",
    "    def updateGradInput(self, input, gradOutput):\n",
    "        grad_mask = np.where(input >= 0, 1.0, self.alpha * np.exp(input))\n",
    "        self.gradInput = gradOutput * grad_mask\n",
    "        return self.gradInput\n",
    "\n",
    "    def __repr__(self):\n",
    "        return \"ELU\""
   ]
  },
  {
   "cell_type": "markdown",
   "metadata": {
    "id": "Gn3C7KTqj6ec"
   },
   "source": [
    "## 12. (0.1) SoftPlus\n",
    "Implement [**SoftPlus**](https://en.wikipedia.org/wiki%2FRectifier_%28neural_networks%29) activations. Look, how they look a lot like ReLU."
   ]
  },
  {
   "cell_type": "code",
   "execution_count": 18,
   "metadata": {
    "collapsed": true,
    "id": "xcDPMssrj6ec"
   },
   "outputs": [],
   "source": [
    "class SoftPlus(Module):\n",
    "\n",
    "    def __init__(self):\n",
    "        super(SoftPlus, self).__init__()\n",
    "\n",
    "    def updateOutput(self, input):\n",
    "        # Стабильная версия log(1 + exp(x))\n",
    "        self.output = np.logaddexp(0, input)\n",
    "        return self.output\n",
    "\n",
    "    def updateGradInput(self, input, gradOutput):\n",
    "        # Производная = sigmoid(x)\n",
    "        sigmoid_input = 1.0 / (1.0 + np.exp(-input))\n",
    "        self.gradInput = gradOutput * sigmoid_input\n",
    "        return self.gradInput\n",
    "\n",
    "    def __repr__(self):\n",
    "        return \"SoftPlus\""
   ]
  },
  {
   "cell_type": "markdown",
   "metadata": {
    "id": "kw3PeZjOuo0e"
   },
   "source": [
    "#13. (0.2) Gelu\n",
    "Implement [**Gelu**](https://pytorch.org/docs/stable/generated/torch.nn.GELU.html) activations."
   ]
  },
  {
   "cell_type": "code",
   "execution_count": 19,
   "metadata": {
    "id": "SdieE0Dtuo8j"
   },
   "outputs": [],
   "source": [
    "class Gelu(Module):\n",
    "\n",
    "    def __init__(self):\n",
    "        super(Gelu, self).__init__()\n",
    "        self.sqrt_2_div_pi = np.sqrt(2.0 / np.pi)\n",
    "        self.coeff = 0.044715\n",
    "\n",
    "    def _gelu_approx(self, x):\n",
    "        inner = self.sqrt_2_div_pi * (x + self.coeff * np.power(x, 3))\n",
    "        return 0.5 * x * (1.0 + np.tanh(inner))\n",
    "\n",
    "    def _gelu_approx_derivative(self, x):\n",
    "        inner = self.sqrt_2_div_pi * (x + self.coeff * np.power(x, 3))\n",
    "        tanh_inner = np.tanh(inner)\n",
    "        inner_derivative = self.sqrt_2_div_pi * (\n",
    "            1.0 + 3.0 * self.coeff * np.power(x, 2)\n",
    "        )\n",
    "        tanh_derivative = (1.0 - np.power(tanh_inner, 2)) * inner_derivative\n",
    "        derivative = 0.5 * (1.0 + tanh_inner) + 0.5 * x * tanh_derivative\n",
    "        return derivative\n",
    "\n",
    "    def updateOutput(self, input):\n",
    "        input_f64 = input.astype(np.float64)\n",
    "        self.output = self._gelu_approx(input_f64)\n",
    "        return self.output.astype(input.dtype)\n",
    "\n",
    "    def updateGradInput(self, input, gradOutput):\n",
    "        input_f64 = input.astype(np.float64)\n",
    "        gelu_derivative = self._gelu_approx_derivative(input_f64)\n",
    "        self.gradInput = gradOutput * gelu_derivative.astype(gradOutput.dtype)\n",
    "        return self.gradInput\n",
    "\n",
    "    def __repr__(self):\n",
    "        return \"Gelu\""
   ]
  },
  {
   "cell_type": "markdown",
   "metadata": {
    "id": "55p7UvPAj6ec"
   },
   "source": [
    "# Criterions"
   ]
  },
  {
   "cell_type": "markdown",
   "metadata": {
    "id": "5NFaxZaqj6ec"
   },
   "source": [
    "Criterions are used to score the models answers."
   ]
  },
  {
   "cell_type": "code",
   "execution_count": 20,
   "metadata": {
    "id": "XGu45A8qj6ec"
   },
   "outputs": [],
   "source": [
    "class Criterion(object):\n",
    "\n",
    "    def __init__(self):\n",
    "        self.output = None\n",
    "        self.gradInput = None\n",
    "\n",
    "    def forward(self, input, target):\n",
    "        \"\"\"\n",
    "        Given an input and a target, compute the loss function\n",
    "        associated to the criterion and return the result.\n",
    "\n",
    "        For consistency this function should not be overrided,\n",
    "        all the code goes in `updateOutput`.\n",
    "        \"\"\"\n",
    "        return self.updateOutput(input, target)\n",
    "\n",
    "    def backward(self, input, target):\n",
    "        \"\"\"\n",
    "        Given an input and a target, compute the gradients of the loss function\n",
    "        associated to the criterion and return the result.\n",
    "\n",
    "        For consistency this function should not be overrided,\n",
    "        all the code goes in `updateGradInput`.\n",
    "        \"\"\"\n",
    "        return self.updateGradInput(input, target)\n",
    "\n",
    "    def updateOutput(self, input, target):\n",
    "        \"\"\"\n",
    "        Function to override.\n",
    "        \"\"\"\n",
    "        raise NotImplementedError\n",
    "\n",
    "    def updateGradInput(self, input, target):\n",
    "        \"\"\"\n",
    "        Function to override.\n",
    "        \"\"\"\n",
    "        raise NotImplementedError\n",
    "\n",
    "    def __repr__(self):\n",
    "        \"\"\"\n",
    "        Pretty printing. Should be overrided in every module if you want\n",
    "        to have readable description.\n",
    "        \"\"\"\n",
    "        return \"Criterion\""
   ]
  },
  {
   "cell_type": "markdown",
   "metadata": {
    "id": "WuU26xkpj6ec"
   },
   "source": [
    "The **MSECriterion**, which is basic L2 norm usually used for regression, is implemented here for you.\n",
    "- input:   **`batch_size x n_feats`**\n",
    "- target: **`batch_size x n_feats`**\n",
    "- output: **scalar**"
   ]
  },
  {
   "cell_type": "code",
   "execution_count": 21,
   "metadata": {
    "id": "-i3VNuHhj6ec"
   },
   "outputs": [],
   "source": [
    "class MSECriterion(Criterion):\n",
    "    def __init__(self):\n",
    "        super(MSECriterion, self).__init__()\n",
    "\n",
    "    def updateOutput(self, input, target):\n",
    "        sum_sq_diff = np.sum(np.power(input - target, 2))\n",
    "        self.output = sum_sq_diff / input.shape[0]\n",
    "        return self.output\n",
    "\n",
    "    def updateGradInput(self, input, target):\n",
    "        self.gradInput = (input - target) * 2.0 / input.shape[0]\n",
    "        return self.gradInput\n",
    "\n",
    "    def __repr__(self):\n",
    "        return \"MSECriterion\""
   ]
  },
  {
   "cell_type": "markdown",
   "metadata": {
    "id": "x8LKLWNVj6ec"
   },
   "source": [
    "## 14. (0.2) Negative LogLikelihood criterion (numerically unstable)\n",
    "You task is to implement the **ClassNLLCriterion**. It should implement [multiclass log loss](http://scikit-learn.org/stable/modules/model_evaluation.html#log-loss). Nevertheless there is a sum over `y` (target) in that formula,\n",
    "remember that targets are one-hot encoded. This fact simplifies the computations a lot. Note, that criterions are the only places, where you divide by batch size. Also there is a small hack with adding small number to probabilities to avoid computing log(0).\n",
    "- input:   **`batch_size x n_feats`** - probabilities\n",
    "- target: **`batch_size x n_feats`** - one-hot representation of ground truth\n",
    "- output: **scalar**\n",
    "\n"
   ]
  },
  {
   "cell_type": "code",
   "execution_count": 22,
   "metadata": {
    "id": "die7KvW6j6ec"
   },
   "outputs": [],
   "source": [
    "class ClassNLLCriterionUnstable(Criterion):\n",
    "    EPS = 1e-15\n",
    "\n",
    "    def __init__(self):\n",
    "        super(ClassNLLCriterionUnstable, self).__init__()\n",
    "\n",
    "    def updateOutput(self, input, target):\n",
    "        input_clamp = np.clip(input, self.EPS, 1.0 - self.EPS)\n",
    "        log_probs = np.log(input_clamp)\n",
    "        sum_log_probs_true_class = np.sum(target * log_probs)\n",
    "        batch_size = input.shape[0]\n",
    "        self.output = -sum_log_probs_true_class / batch_size\n",
    "        return self.output\n",
    "\n",
    "    def updateGradInput(self, input, target):\n",
    "        input_clamp = np.clip(input, self.EPS, 1.0 - self.EPS)\n",
    "        batch_size = input.shape[0]\n",
    "        self.gradInput = -(target / input_clamp) / batch_size\n",
    "        return self.gradInput\n",
    "\n",
    "    def __repr__(self):\n",
    "        return \"ClassNLLCriterionUnstable\""
   ]
  },
  {
   "cell_type": "markdown",
   "metadata": {
    "id": "uHr_JbU5j6ec"
   },
   "source": [
    "## 15. (0.3) Negative LogLikelihood criterion (numerically stable)\n",
    "- input:   **`batch_size x n_feats`** - log probabilities\n",
    "- target: **`batch_size x n_feats`** - one-hot representation of ground truth\n",
    "- output: **scalar**\n",
    "\n",
    "Task is similar to the previous one, but now the criterion input is the output of log-softmax layer. This decomposition allows us to avoid problems with computation of forward and backward of log()."
   ]
  },
  {
   "cell_type": "code",
   "execution_count": 23,
   "metadata": {
    "collapsed": true,
    "id": "v7N8bVP9j6ec"
   },
   "outputs": [],
   "source": [
    "class ClassNLLCriterion(Criterion):\n",
    "    def __init__(self):\n",
    "        super(ClassNLLCriterion, self).__init__()\n",
    "\n",
    "    def updateOutput(self, input, target):\n",
    "        log_probs_true_class = np.sum(target * input, axis=1)\n",
    "        batch_size = input.shape[0]\n",
    "        self.output = -np.sum(log_probs_true_class) / batch_size\n",
    "        return self.output\n",
    "\n",
    "    def updateGradInput(self, input, target):\n",
    "        batch_size = input.shape[0]\n",
    "        self.gradInput = -target / batch_size\n",
    "        return self.gradInput\n",
    "\n",
    "    def __repr__(self):\n",
    "        return \"ClassNLLCriterion\""
   ]
  },
  {
   "cell_type": "code",
   "execution_count": null,
   "metadata": {},
   "outputs": [],
   "source": []
  },
  {
   "cell_type": "markdown",
   "metadata": {
    "id": "TC2Bf1PP2Ios"
   },
   "source": [
    "1-я часть задания: реализация слоев, лосей и функций активации - 5 баллов. \\\\\n",
    "2-я часть задания: реализация моделей на своих классах. Что должно быть:\n",
    "  1. Выберите оптимизатор и реализуйте его, чтоб он работал с вами классами. - 1 балл.\n",
    "  2. Модель для задачи мультирегрессии на выбраных вами данных. Использовать FCNN, dropout, batchnorm, MSE. Пробуйте различные фукнции активации. Для первой модели попробуйте большую, среднюю и маленькую модель. - 1 балл.\n",
    "  3. Модель для задачи мультиклассификации на MNIST. Использовать свёртки, макспулы, флэттэны, софтмаксы - 1 балла.\n",
    "  4. Автоэнкодер для выбранных вами данных. Должен быть на свёртках и полносвязных слоях, дропаутах, батчнормах и тд. - 2 балла. \\\\\n",
    "\n",
    "Дополнительно в оценке каждой модели будет учитываться:\n",
    "1. Наличие правильно выбранной метрики и лосс функции.\n",
    "2. Отрисовка графиков лосей и метрик на трейне-валидации. Проверка качества модели на тесте.\n",
    "3. Наличие шедулера для lr.\n",
    "4. Наличие вормапа.\n",
    "5. Наличие механизма ранней остановки и сохранение лучшей модели.\n",
    "6. Свитч лося (метрики) и оптимайзера."
   ]
  },
  {
   "cell_type": "code",
   "execution_count": 24,
   "metadata": {},
   "outputs": [],
   "source": [
    "import torch.nn.functional as F\n",
    "import math\n",
    "import pickle\n",
    "import os\n",
    "from tqdm.notebook import tqdm\n",
    "\n",
    "import matplotlib.pyplot as plt\n",
    "from sklearn.model_selection import train_test_split\n",
    "from sklearn.metrics import accuracy_score, r2_score, f1_score\n",
    "\n",
    "from torchvision.datasets import MNIST\n",
    "from torchvision.transforms import ToTensor"
   ]
  },
  {
   "cell_type": "markdown",
   "metadata": {},
   "source": [
    "# №1 Оптимизаторы SGD и Adam"
   ]
  },
  {
   "cell_type": "code",
   "execution_count": 25,
   "metadata": {},
   "outputs": [],
   "source": [
    "class SGD:\n",
    "    def __init__(self, model_parameters, learning_rate=1e-3, weight_decay=0):\n",
    "        self.parameters = model_parameters\n",
    "        self.learning_rate = learning_rate\n",
    "        self.weight_decay = weight_decay\n",
    "\n",
    "    def step(self, model_grads):\n",
    "        for i in range(len(self.parameters)):\n",
    "            param = self.parameters[i]\n",
    "            grad = model_grads[i]\n",
    "\n",
    "            if param is None or grad is None:\n",
    "                continue  # Пропуск, если нет параметра/градиента\n",
    "\n",
    "            # L2 регуляризация (weight decay) - добавляем к градиенту\n",
    "            if (\n",
    "                self.weight_decay > 0 and param.ndim > 1\n",
    "            ):  # Обычно не применяют к смещениям (bias)\n",
    "                grad = grad + self.weight_decay * param\n",
    "\n",
    "            if param.dtype != grad.dtype:  # Согласование типов (на всякий случай)\n",
    "                param -= self.learning_rate * grad.astype(param.dtype)\n",
    "            else:\n",
    "                param -= self.learning_rate * grad\n",
    "\n",
    "    def zero_grad(self, model):\n",
    "        model.zeroGradParameters()\n",
    "\n",
    "\n",
    "class Adam:\n",
    "    def __init__(\n",
    "        self,\n",
    "        model_parameters,\n",
    "        learning_rate=1e-3,\n",
    "        beta1=0.9,\n",
    "        beta2=0.999,\n",
    "        epsilon=1e-8,\n",
    "        weight_decay=0,\n",
    "    ):\n",
    "        self.parameters = model_parameters\n",
    "        self.learning_rate = learning_rate\n",
    "        self.beta1 = beta1\n",
    "        self.beta2 = beta2\n",
    "        self.epsilon = epsilon\n",
    "        self.weight_decay = weight_decay\n",
    "        self.m = [\n",
    "            np.zeros_like(p, dtype=np.float64) if p is not None else None\n",
    "            for p in model_parameters\n",
    "        ]  # 1st moment vector\n",
    "        self.v = [\n",
    "            np.zeros_like(p, dtype=np.float64) if p is not None else None\n",
    "            for p in model_parameters\n",
    "        ]  # 2nd moment vector\n",
    "        self.t = 0  # Timestep\n",
    "\n",
    "    def step(self, model_grads):\n",
    "        if len(self.parameters) != len(model_grads):\n",
    "            raise ValueError(\n",
    "                f\"Params ({len(self.parameters)}) and grads ({len(model_grads)}) count mismatch.\"\n",
    "            )\n",
    "        self.t += 1\n",
    "\n",
    "        for i in range(len(self.parameters)):\n",
    "            param = self.parameters[i]\n",
    "            grad = model_grads[i]\n",
    "\n",
    "            if param is None or grad is None:\n",
    "                continue\n",
    "\n",
    "            grad = grad.astype(np.float64, copy=False)\n",
    "\n",
    "            # L2 регуляризация\n",
    "            if self.weight_decay > 0 and param.ndim > 1:\n",
    "                grad = grad + self.weight_decay * param\n",
    "\n",
    "            # Обновление моментов\n",
    "            self.m[i] = self.beta1 * self.m[i] + (1 - self.beta1) * grad\n",
    "            self.v[i] = self.beta2 * self.v[i] + (1 - self.beta2) * (grad**2)\n",
    "\n",
    "            # Коррекция смещения моментов\n",
    "            m_hat = self.m[i] / (1 - self.beta1**self.t)\n",
    "            v_hat = self.v[i] / (1 - self.beta2**self.t)\n",
    "\n",
    "            # Обновление параметра\n",
    "            update = self.learning_rate * m_hat / (np.sqrt(v_hat) + self.epsilon)\n",
    "\n",
    "            if param.dtype != update.dtype:\n",
    "                param -= update.astype(param.dtype)\n",
    "            else:\n",
    "                param -= update\n",
    "\n",
    "    def zero_grad(self, model):\n",
    "        model.zeroGradParameters()"
   ]
  },
  {
   "cell_type": "markdown",
   "metadata": {},
   "source": [
    "# Доп функции активации и loss"
   ]
  },
  {
   "cell_type": "code",
   "execution_count": 26,
   "metadata": {
    "id": "Aq0X5QV55ZH4"
   },
   "outputs": [],
   "source": [
    "class Sigmoid(Module):\n",
    "    def __init__(self):\n",
    "        super(Sigmoid, self).__init__()\n",
    "        self.output = None\n",
    "\n",
    "    def updateOutput(self, input):\n",
    "        input_dtype = input.dtype\n",
    "        input_f64 = input.astype(np.float64, copy=False)\n",
    "        self.output = 1.0 / (1.0 + np.exp(-input_f64))\n",
    "        return self.output.astype(input_dtype)\n",
    "\n",
    "    def updateGradInput(self, input, gradOutput):\n",
    "        o64 = self.output\n",
    "        gradOutput_f64 = gradOutput.astype(np.float64, copy=False)\n",
    "        # Вычисляем градиент\n",
    "        self.gradInput = gradOutput_f64 * o64 * (1.0 - o64)\n",
    "        return self.gradInput.astype(input.dtype)\n",
    "\n",
    "\n",
    "class Tanh(Module):\n",
    "    def __init__(self):\n",
    "        super(Tanh, self).__init__()\n",
    "        self.output = None\n",
    "\n",
    "    def updateOutput(self, input):\n",
    "        input_dtype = input.dtype\n",
    "        input_f64 = input.astype(np.float64, copy=False)\n",
    "        # Кэшируем выход как float64 для backward\n",
    "        self.output = np.tanh(input_f64)\n",
    "        return self.output.astype(input_dtype)\n",
    "\n",
    "    def updateGradInput(self, input, gradOutput):\n",
    "        o64 = self.output\n",
    "        gradOutput_f64 = gradOutput.astype(np.float64, copy=False)\n",
    "        # Вычисляем градиент\n",
    "        self.gradInput = gradOutput_f64 * (1.0 - o64**2)\n",
    "        return self.gradInput.astype(input.dtype)\n",
    "\n",
    "\n",
    "class MAECriterion(Criterion):\n",
    "    def forward(self, y_pred, y_true):\n",
    "        return np.mean(np.abs(y_pred - y_true))\n",
    "\n",
    "    def backward(self, y_pred, y_true):\n",
    "        return np.sign(y_pred - y_true) / y_true.shape[0]\n",
    "\n",
    "\n",
    "class CrossEntropyCriterion(Criterion):\n",
    "\n",
    "    def __init__(self):\n",
    "        super().__init__()\n",
    "        self._softmax_output = None\n",
    "\n",
    "    def _softmax_stable(self, x):\n",
    "        x_shifted = x - np.max(x, axis=1, keepdims=True)\n",
    "        exps = np.exp(x_shifted)\n",
    "        return exps / np.sum(exps, axis=1, keepdims=True)\n",
    "\n",
    "    def _logsoftmax_stable(self, x):\n",
    "        x_shifted = x - np.max(x, axis=1, keepdims=True)\n",
    "        log_sum_exp = np.max(x, axis=1, keepdims=True) + np.log(\n",
    "            np.sum(np.exp(x_shifted), axis=1, keepdims=True)\n",
    "        )\n",
    "        return x - log_sum_exp\n",
    "\n",
    "    def updateOutput(self, input, target):\n",
    "        batch_size = input.shape[0]\n",
    "        log_softmax_output = self._logsoftmax_stable(input)\n",
    "        self._softmax_output = np.exp(log_softmax_output)\n",
    "        true_class_log_probs = log_softmax_output[np.arange(batch_size), target]\n",
    "        loss = -np.mean(true_class_log_probs)\n",
    "\n",
    "        self.output = loss\n",
    "        return self.output\n",
    "\n",
    "    def updateGradInput(self, input, target):\n",
    "        batch_size = input.shape[0]\n",
    "        num_classes = input.shape[1]\n",
    "        one_hot_target = np.zeros_like(input)\n",
    "        one_hot_target[np.arange(batch_size), target] = 1\n",
    "        grad = (self._softmax_output - one_hot_target) / batch_size\n",
    "\n",
    "        self.gradInput = grad\n",
    "        return self.gradInput"
   ]
  },
  {
   "cell_type": "code",
   "execution_count": 27,
   "metadata": {},
   "outputs": [],
   "source": [
    "class StagnationMonitor:\n",
    "    \"\"\"\n",
    "    Отслеживает значение (например, функцию потерь или метрику) и\n",
    "    определяет, прекратилось ли его улучшение в течение заданного\n",
    "    числа шагов \"patience\".\n",
    "\n",
    "    Учитывает пороговое значение \"threshold\" для определения значимости\n",
    "    улучшения и режим \"mode\" для минимизации или максимизации.\n",
    "    Может использоваться для реализации механизма ранней остановки\n",
    "    в процессах оптимизации.\n",
    "\n",
    "    patience: Максимальное количество шагов без улучшения.\n",
    "    threshold: Минимальное изменение, считающееся улучшением.\n",
    "    mode: 'min' (минимизация) или 'max' (максимизация).\n",
    "    verbose: Выводить ли сообщения о состоянии.\n",
    "    counter: Счетчик шагов без улучшения.\n",
    "    best_value: Лучшее значение, достигнутое до сих пор.\n",
    "    stagnated: Флаг, указывающий на обнаружение стагнации.\n",
    "    \"\"\"\n",
    "\n",
    "    def __init__(self, patience=5, threshold=1e-4, mode=\"min\", verbose=True):\n",
    "        self.patience = patience\n",
    "        self.threshold = threshold\n",
    "        self.mode = mode\n",
    "        self.verbose = verbose\n",
    "        self.counter = 0\n",
    "        self.best_value = np.inf if mode == \"min\" else -np.inf\n",
    "        self.stagnated = False\n",
    "\n",
    "    def __call__(self, value):\n",
    "        improved = False\n",
    "        if self.mode == \"min\":\n",
    "            if value < self.best_value - self.threshold:\n",
    "                improved = True\n",
    "        else:  # mode == 'max'\n",
    "            if value > self.best_value + self.threshold:\n",
    "                improved = True\n",
    "\n",
    "        if improved:\n",
    "            self.best_value = value\n",
    "            self.counter = 0\n",
    "            self.stagnated = False\n",
    "        else:\n",
    "            self.counter += 1\n",
    "            if self.verbose:\n",
    "                print(\n",
    "                    f\"Stagnation Monitor: Нет улучшения для {self.counter}/{self.patience} epochs.\"\n",
    "                )\n",
    "            if self.counter >= self.patience:\n",
    "                self.stagnated = True\n",
    "                if self.verbose:\n",
    "                    print(\"Stagnation Monitor: Стагнация обнаружена.\")\n",
    "\n",
    "    def reset(self):\n",
    "        self.counter = 0\n",
    "        self.best_value = np.inf if self.mode == \"min\" else -np.inf\n",
    "        self.stagnated = False\n",
    "        if self.verbose:\n",
    "            print(\"Stagnation Monitor: Reset.\")"
   ]
  },
  {
   "cell_type": "markdown",
   "metadata": {},
   "source": [
    "# StepLR, Warmup, EarlyStopping "
   ]
  },
  {
   "cell_type": "code",
   "execution_count": 28,
   "metadata": {},
   "outputs": [],
   "source": [
    "class StepLR:\n",
    "    def __init__(self, optimizer, step_size, gamma=0.1):\n",
    "        self.optimizer = optimizer\n",
    "        self.step_size = step_size\n",
    "        self.gamma = gamma\n",
    "        self.last_epoch = 0\n",
    "\n",
    "    def step(self):\n",
    "        self.last_epoch += 1\n",
    "        if self.last_epoch % self.step_size == 0:\n",
    "            self.optimizer.learning_rate *= self.gamma\n",
    "\n",
    "\n",
    "class WarmupLR:\n",
    "    def __init__(\n",
    "        self,\n",
    "        optimizer,\n",
    "        warmup_epochs,\n",
    "        initial_lr,\n",
    "        target_lr,\n",
    "        scheduler_after_warmup=None,\n",
    "    ):\n",
    "        self.optimizer = optimizer\n",
    "        self.warmup_epochs = warmup_epochs\n",
    "        self.initial_lr = initial_lr\n",
    "        self.target_lr = target_lr\n",
    "        self.scheduler_after_warmup = scheduler_after_warmup\n",
    "        self.current_epoch = 0\n",
    "        self.original_lr = optimizer.learning_rate  # Сохраняем исходный LR оптимизатора\n",
    "\n",
    "        # Устанавливаем начальный LR для warmup\n",
    "        self.optimizer.learning_rate = initial_lr\n",
    "\n",
    "    def step(self):\n",
    "        self.current_epoch += 1\n",
    "        if self.current_epoch <= self.warmup_epochs:\n",
    "            # Линейный warmup\n",
    "            lr = self.initial_lr + (self.target_lr - self.initial_lr) * (\n",
    "                self.current_epoch / self.warmup_epochs\n",
    "            )\n",
    "            self.optimizer.learning_rate = lr\n",
    "            if self.current_epoch == self.warmup_epochs:\n",
    "                self.optimizer.learning_rate = self.original_lr\n",
    "        elif self.scheduler_after_warmup:\n",
    "            # После warmup передаем управление основному scheduler'у\n",
    "            # Уменьшаем его счетчик, т.к. он пропустил warmup эпохи\n",
    "            self.scheduler_after_warmup.last_epoch = (\n",
    "                self.current_epoch - self.warmup_epochs\n",
    "            )\n",
    "            self.scheduler_after_warmup.step()\n",
    "\n",
    "\n",
    "class EarlyStopping:\n",
    "    def __init__(\n",
    "        self,\n",
    "        patience=5,\n",
    "        verbose=False,\n",
    "        delta=0,\n",
    "        path=\"checkpoint.pkl\",\n",
    "        trace_func=print,\n",
    "    ):\n",
    "        self.patience = patience\n",
    "        self.verbose = verbose\n",
    "        self.counter = 0\n",
    "        self.best_score = None\n",
    "        self.early_stop = False\n",
    "        self.val_loss_min = np.Inf\n",
    "        self.delta = delta  # Минимальное изменение, считающееся улучшением\n",
    "        self.path = path\n",
    "        self.trace_func = trace_func\n",
    "\n",
    "    def __call__(self, val_loss, model):\n",
    "        score = (\n",
    "            -val_loss\n",
    "        )  # Мы минимизируем loss, поэтому лучший score - максимальный (-loss)\n",
    "        if self.best_score is None:\n",
    "            self.best_score = score\n",
    "            self.save_checkpoint(val_loss, model)\n",
    "        elif score < self.best_score + self.delta:\n",
    "            self.counter += 1\n",
    "            if self.verbose:\n",
    "                self.trace_func(\n",
    "                    f\"  EarlyStopping counter: {self.counter} out of {self.patience}\"\n",
    "                )\n",
    "            if self.counter >= self.patience:\n",
    "                self.early_stop = True\n",
    "        else:\n",
    "            self.best_score = score\n",
    "            self.save_checkpoint(val_loss, model)\n",
    "            self.counter = 0\n",
    "\n",
    "    def save_checkpoint(self, val_loss, model):\n",
    "        if self.verbose:\n",
    "            self.trace_func(\n",
    "                f\"  Validation loss decreased ({self.val_loss_min:.6f} --> {val_loss:.6f}). Saving model ...\"\n",
    "            )\n",
    "        parameters = model.getParameters()\n",
    "        try:\n",
    "            with open(self.path, \"wb\") as f:\n",
    "                pickle.dump(parameters, f)\n",
    "            self.val_loss_min = val_loss\n",
    "        except Exception as e:\n",
    "            self.trace_func(f\"Error saving model: {e}\")\n",
    "\n",
    "    def load_best_model(self, model):\n",
    "        if os.path.exists(self.path):\n",
    "            print(\n",
    "                f\"Loading best model from {self.path} with val_loss: {self.val_loss_min:.6f}\"\n",
    "            )\n",
    "            try:\n",
    "                with open(self.path, \"rb\") as f:\n",
    "                    best_params = pickle.load(f)\n",
    "                current_params = model.getParameters()\n",
    "                if len(best_params) == len(current_params):\n",
    "                    for i in range(len(best_params)):\n",
    "                        if current_params[i] is not None and best_params[i] is not None:\n",
    "                            # Проверяем совпадение формы перед копированием\n",
    "                            if current_params[i].shape == best_params[i].shape:\n",
    "                                np.copyto(current_params[i], best_params[i])\n",
    "                            else:\n",
    "                                print(\n",
    "                                    f\"  Warning: Shape mismatch for param {i}. Expected {current_params[i].shape}, got {best_params[i].shape}. Skipping.\"\n",
    "                                )\n",
    "                        elif (\n",
    "                            current_params[i] is not None or best_params[i] is not None\n",
    "                        ):\n",
    "                            # Ситуация, когда параметр есть/нет (например, bias изменился)\n",
    "                            print(\n",
    "                                f\"  Warning: Parameter presence mismatch for param {i}. Skipping.\"\n",
    "                            )\n",
    "                else:\n",
    "                    print(\n",
    "                        \"  Warning: Number of parameters in saved model differs from current model. Cannot load.\"\n",
    "                    )\n",
    "                return True\n",
    "            except Exception as e:\n",
    "                print(f\"   Error loading model: {e}\")\n",
    "                return False\n",
    "        else:\n",
    "            print(f\"   Best model checkpoint not found at {self.path}\")\n",
    "            return False"
   ]
  },
  {
   "cell_type": "code",
   "execution_count": 29,
   "metadata": {},
   "outputs": [],
   "source": [
    "def calculate_accuracy(y_true_indices, y_pred_indices):\n",
    "    return accuracy_score(y_true_indices, y_pred_indices)\n",
    "\n",
    "\n",
    "def calculate_r2(y_pred, y_true):\n",
    "    return r2_score(y_true, y_pred)\n",
    "\n",
    "\n",
    "def calculate_f1(y_pred, y_true):\n",
    "    return f1_score(y_true, y_pred, average=\"weighted\")\n",
    "\n",
    "\n",
    "def get_batches(X, y, batch_size):\n",
    "    n_samples = X.shape[0]\n",
    "    indices = np.arange(n_samples)\n",
    "    np.random.shuffle(indices)\n",
    "    for start_idx in range(0, n_samples, batch_size):\n",
    "        end_idx = min(start_idx + batch_size, n_samples)\n",
    "        batch_indices = indices[start_idx:end_idx]\n",
    "        yield X[batch_indices], y[batch_indices]\n",
    "\n",
    "\n",
    "def plot_history(\n",
    "    train_loss,\n",
    "    val_loss,\n",
    "    train_metric=None,\n",
    "    val_metric=None,\n",
    "    metric_name=\"Metric\",\n",
    "    title_suffix=\"\",\n",
    "):\n",
    "    plt.style.use(\"seaborn-v0_8-whitegrid\")  # Стиль для графиков\n",
    "    epochs_range = range(1, len(train_loss) + 1)\n",
    "    n_plots = 1 + (1 if train_metric is not None and val_metric is not None else 0)\n",
    "    fig, axs = plt.subplots(1, n_plots, figsize=(8 * n_plots, 5))\n",
    "    if n_plots == 1:\n",
    "        axs = [axs]  # Делаем массив для единообразия\n",
    "\n",
    "    main_title = \"Training History\" + (f\" - {title_suffix}\" if title_suffix else \"\")\n",
    "    fig.suptitle(main_title, fontsize=14)\n",
    "\n",
    "    # График потерь\n",
    "    axs[0].plot(\n",
    "        epochs_range,\n",
    "        train_loss,\n",
    "        \"o-\",\n",
    "        label=\"Train Loss\",\n",
    "        color=\"dodgerblue\",\n",
    "        markersize=4,\n",
    "    )\n",
    "    axs[0].plot(\n",
    "        epochs_range,\n",
    "        val_loss,\n",
    "        \"o-\",\n",
    "        label=\"Validation Loss\",\n",
    "        color=\"darkorange\",\n",
    "        markersize=4,\n",
    "    )\n",
    "    axs[0].set_title(\"Loss History\")\n",
    "    axs[0].set_xlabel(\"Epoch\")\n",
    "    axs[0].set_ylabel(\"Loss\")\n",
    "    axs[0].legend()\n",
    "    axs[0].grid(True)\n",
    "    axs[0].xaxis.set_major_locator(plt.MaxNLocator(integer=True))\n",
    "    if train_metric is not None:\n",
    "\n",
    "        axs[1].plot(\n",
    "            epochs_range,\n",
    "            train_metric,\n",
    "            \"o-\",\n",
    "            label=f\"Train {metric_name}\",\n",
    "            color=\"dodgerblue\",\n",
    "            markersize=4,\n",
    "        )\n",
    "        axs[1].plot(\n",
    "            epochs_range,\n",
    "            val_metric,\n",
    "            \"o-\",\n",
    "            label=f\"Validation {metric_name}\",\n",
    "            color=\"darkorange\",\n",
    "            markersize=4,\n",
    "        )\n",
    "        axs[1].set_title(f\"{metric_name} History\")\n",
    "        axs[1].set_xlabel(\"Epoch\")\n",
    "        axs[1].set_ylabel(metric_name)\n",
    "        axs[1].legend()\n",
    "        axs[1].grid(True)\n",
    "        axs[1].xaxis.set_major_locator(plt.MaxNLocator(integer=True))\n",
    "\n",
    "    fig.tight_layout(rect=[0, 0.03, 1, 0.95])\n",
    "    plt.show()"
   ]
  },
  {
   "cell_type": "markdown",
   "metadata": {},
   "source": [
    "# Функция обучение и отрисовки графиков Loss и Метрики"
   ]
  },
  {
   "cell_type": "code",
   "execution_count": 30,
   "metadata": {},
   "outputs": [],
   "source": [
    "def train_validate_model(\n",
    "    model,\n",
    "    initial_criterion,\n",
    "    initial_optimizer,\n",
    "    X_train,\n",
    "    y_train,\n",
    "    X_val,\n",
    "    y_val,\n",
    "    epochs,\n",
    "    batch_size,\n",
    "    # --- Параметры для переключения Criterion ---\n",
    "    loss_switch_trigger_config=None,\n",
    "    next_criterion_instance=None,\n",
    "    # --- Параметры для переключения Optimizer ---\n",
    "    optimizer_switch_trigger_config=None,\n",
    "    next_optimizer_class=None,\n",
    "    next_optimizer_params=None,\n",
    "    # --- Основные параметры ---\n",
    "    scheduler=None,\n",
    "    warmup_scheduler=None,\n",
    "    early_stopping=None,\n",
    "    metric_func=None,\n",
    "    metric_name=\"Metric\",\n",
    "    task_type=\"classification\",\n",
    "    metric_for_switch=\"val_loss\",\n",
    "):\n",
    "    train_loss_history = []\n",
    "    val_loss_history = []\n",
    "    train_metric_history = []\n",
    "    val_metric_history = []\n",
    "\n",
    "    current_criterion = initial_criterion\n",
    "    current_optimizer = initial_optimizer\n",
    "    current_lr = getattr(current_optimizer, \"learning_rate\", \"N/A\")\n",
    "\n",
    "    loss_has_switched = False\n",
    "    optimizer_has_switched = False\n",
    "\n",
    "    loss_switch_monitor = None\n",
    "    can_switch_loss = False\n",
    "    if loss_switch_trigger_config and isinstance(next_criterion_instance, Criterion):\n",
    "        loss_switch_monitor = StagnationMonitor(**loss_switch_trigger_config)\n",
    "        can_switch_loss = True\n",
    "        print(f\"INFO: Loss switch monitoring enabled...\")\n",
    "    optimizer_switch_monitor = None\n",
    "    can_switch_optimizer = False\n",
    "    if (\n",
    "        optimizer_switch_trigger_config\n",
    "        and next_optimizer_class\n",
    "        and next_optimizer_params\n",
    "    ):\n",
    "        is_class = isinstance(next_optimizer_class, type)\n",
    "        if is_class:\n",
    "            optimizer_switch_monitor = StagnationMonitor(\n",
    "                **optimizer_switch_trigger_config\n",
    "            )\n",
    "            can_switch_optimizer = True\n",
    "            print(f\"INFO: Optimizer switch monitoring enabled...\")\n",
    "        else:\n",
    "            print(f\"WARN: 'next_optimizer_class' should be a class...\")\n",
    "\n",
    "    print(\n",
    "        f\"\\nStarting training with Criterion: {current_criterion.__class__.__name__}, Optimizer: {current_optimizer.__class__.__name__}\"\n",
    "    )\n",
    "\n",
    "    # Цикл обучения\n",
    "    for epoch in range(epochs):\n",
    "        model.train()\n",
    "        running_loss = 0.0\n",
    "        metric_total = 0.0\n",
    "        processed_samples = 0\n",
    "\n",
    "        # Обновления LR\n",
    "        lr_before_step = getattr(current_optimizer, \"learning_rate\", \"N/A\")\n",
    "        if warmup_scheduler and epoch < warmup_scheduler.warmup_epochs:\n",
    "            # Убедимся, что warmup работает с текущим оптимизатором\n",
    "            warmup_scheduler.optimizer = current_optimizer\n",
    "            warmup_scheduler.step()\n",
    "        elif scheduler:\n",
    "            # Убедимся, что scheduler работает с текущим оптимизатором\n",
    "            scheduler.optimizer = current_optimizer\n",
    "            scheduler.step()\n",
    "        current_lr = getattr(current_optimizer, \"learning_rate\", lr_before_step)\n",
    "\n",
    "        # Модуль тренировки\n",
    "        train_batches = tqdm(\n",
    "            get_batches(X_train, y_train, batch_size),\n",
    "            total=math.ceil(X_train.shape[0] / batch_size),\n",
    "            desc=f\"Epoch {epoch+1}/{epochs} [Train]\",\n",
    "            leave=False,\n",
    "        )\n",
    "        for X_batch, y_batch in train_batches:\n",
    "            current_optimizer.zero_grad(model)\n",
    "            y_pred = model.forward(X_batch)\n",
    "            loss = current_criterion.forward(y_pred, y_batch)\n",
    "            grad_output_loss = current_criterion.backward(y_pred, y_batch)\n",
    "            model.backward(X_batch, grad_output_loss)\n",
    "            current_optimizer.step(model.getGradParameters())\n",
    "\n",
    "            running_loss += loss * X_batch.shape[0]\n",
    "            if metric_func:\n",
    "                with np.errstate(divide=\"ignore\", invalid=\"ignore\"):\n",
    "                    y_pred_processed = (\n",
    "                        np.argmax(y_pred, axis=-1)\n",
    "                        if task_type == \"classification\"\n",
    "                        else y_pred\n",
    "                    )\n",
    "                    metric_val = metric_func(y_batch, y_pred_processed)\n",
    "                    if np.isnan(metric_val):\n",
    "                        metric_val = 0\n",
    "                metric_total += metric_val * X_batch.shape[0]\n",
    "            processed_samples += X_batch.shape[0]\n",
    "            train_batches.set_postfix(\n",
    "                loss=f\"{running_loss/max(1, processed_samples):.4f}\", lr=f\"{current_lr}\"\n",
    "            )\n",
    "\n",
    "        epoch_train_loss = running_loss / max(1, processed_samples)\n",
    "        train_loss_history.append(epoch_train_loss)\n",
    "        epoch_train_metric = (\n",
    "            metric_total / max(1, processed_samples) if metric_func else 0.0\n",
    "        )\n",
    "        if metric_func:\n",
    "            train_metric_history.append(epoch_train_metric)\n",
    "\n",
    "        # Модуль валидации\n",
    "        model.evaluate()\n",
    "        running_val_loss = 0.0\n",
    "        metric_total_val = 0.0\n",
    "        processed_samples_val = 0\n",
    "        val_indices = np.arange(X_val.shape[0])\n",
    "        val_batches = tqdm(\n",
    "            [\n",
    "                (\n",
    "                    X_val[val_indices[i : min(i + batch_size, X_val.shape[0])]],\n",
    "                    y_val[val_indices[i : min(i + batch_size, X_val.shape[0])]],\n",
    "                )\n",
    "                for i in range(0, X_val.shape[0], batch_size)\n",
    "            ],\n",
    "            total=math.ceil(X_val.shape[0] / batch_size),\n",
    "            desc=f\"Epoch {epoch+1}/{epochs} [Val] \",\n",
    "            leave=False,\n",
    "        )\n",
    "        for X_batch, y_batch in val_batches:\n",
    "            y_pred = model.forward(X_batch)\n",
    "            loss = current_criterion.forward(y_pred, y_batch)\n",
    "            running_val_loss += loss * X_batch.shape[0]\n",
    "            if metric_func:\n",
    "                with np.errstate(divide=\"ignore\", invalid=\"ignore\"):\n",
    "                    y_pred_processed = (\n",
    "                        np.argmax(y_pred, axis=-1)\n",
    "                        if task_type == \"classification\"\n",
    "                        else y_pred\n",
    "                    )\n",
    "                    metric_val = metric_func(y_batch, y_pred_processed)\n",
    "                    if np.isnan(metric_val):\n",
    "                        metric_val = 0\n",
    "                metric_total_val += metric_val * X_batch.shape[0]\n",
    "            processed_samples_val += X_batch.shape[0]\n",
    "            val_batches.set_postfix(\n",
    "                loss=f\"{running_val_loss/max(1, processed_samples_val):.4f}\"\n",
    "            )\n",
    "\n",
    "        epoch_val_loss = running_val_loss / max(1, processed_samples_val)\n",
    "        val_loss_history.append(epoch_val_loss)\n",
    "        epoch_val_metric = (\n",
    "            metric_total_val / max(1, processed_samples_val) if metric_func else 0.0\n",
    "        )\n",
    "        if metric_func:\n",
    "            val_metric_history.append(epoch_val_metric)\n",
    "\n",
    "        # Вывод текста\n",
    "        print(\n",
    "            f\"Epoch {epoch+1}/{epochs} Summary: LR: {current_lr} | Train Loss: {epoch_train_loss:.4f}, Val Loss: {epoch_val_loss:.4f}\",\n",
    "            end=\"\",\n",
    "        )\n",
    "        if metric_func:\n",
    "            print(\n",
    "                f\", Train {metric_name}: {epoch_train_metric:.4f}, Val {metric_name}: {epoch_val_metric:.4f}\",\n",
    "                end=\"\",\n",
    "            )\n",
    "        print()  # Перевод строки\n",
    "\n",
    "        # Логика переключения и остановки\n",
    "        metric_value_for_switch = (\n",
    "            epoch_val_loss if metric_for_switch == \"val_loss\" else epoch_val_metric\n",
    "        )\n",
    "\n",
    "        # Проверка и переключение Criterion\n",
    "        if can_switch_loss and not loss_has_switched:\n",
    "            loss_switch_monitor(metric_value_for_switch)\n",
    "            if loss_switch_monitor.stagnated:\n",
    "                print(\"-\" * 30 + \"\\n*** CRITERION SWITCH TRIGGERED ***\")\n",
    "                print(\n",
    "                    f\"Switching from {current_criterion.__class__.__name__} to {next_criterion_instance.__class__.__name__}\"\n",
    "                )\n",
    "                current_criterion = next_criterion_instance\n",
    "                loss_has_switched = True\n",
    "                if optimizer_switch_monitor:\n",
    "                    optimizer_switch_monitor.reset()\n",
    "                loss_switch_monitor = None\n",
    "                can_switch_loss = False\n",
    "                print(\"-\" * 30)\n",
    "\n",
    "        # Проверка и переключение Optimizer\n",
    "        if can_switch_optimizer and not optimizer_has_switched:\n",
    "            optimizer_switch_monitor(metric_value_for_switch)\n",
    "            if optimizer_switch_monitor.stagnated:\n",
    "                if not can_switch_loss or loss_has_switched:\n",
    "                    print(\"-\" * 30 + \"\\n*** OPTIMIZER SWITCH TRIGGERED ***\")\n",
    "                    old_optimizer_name = current_optimizer.__class__.__name__\n",
    "                    try:\n",
    "                        current_optimizer = next_optimizer_class(\n",
    "                            model.getParameters(), **next_optimizer_params\n",
    "                        )\n",
    "                        current_lr = getattr(current_optimizer, \"learning_rate\", \"N/A\")\n",
    "                        print(\n",
    "                            f\"Switching from {old_optimizer_name} to {current_optimizer.__class__.__name__}\"\n",
    "                        )\n",
    "                        optimizer_has_switched = True\n",
    "                        if scheduler:\n",
    "                            scheduler.optimizer = current_optimizer\n",
    "                            scheduler.last_epoch = 0\n",
    "                        if warmup_scheduler:\n",
    "                            warmup_scheduler = None\n",
    "                        optimizer_switch_monitor = None\n",
    "                        can_switch_optimizer = False\n",
    "                    except Exception as e:\n",
    "                        print(f\"ERROR: Failed to switch optimizer: {e}\")\n",
    "                        optimizer_switch_monitor = None\n",
    "                        can_switch_optimizer = False\n",
    "                    print(\"-\" * 30)\n",
    "                elif (\n",
    "                    loss_switch_monitor is not None and optimizer_switch_monitor.verbose\n",
    "                ):\n",
    "                    print(\n",
    "                        f\"  Optimizer stagnation detected, but waiting for potential loss switch.\"\n",
    "                    )\n",
    "\n",
    "        # Проверка Early Stopping\n",
    "        if early_stopping:\n",
    "            early_stopping(epoch_val_loss, model)  # Обычно на val_loss\n",
    "            if early_stopping.early_stop:\n",
    "                print(f\"INFO: Early stopping triggered at epoch {epoch+1}.\")\n",
    "                break\n",
    "\n",
    "    # Конец обучения\n",
    "    print(\"\\nTraining finished.\")\n",
    "    if early_stopping and hasattr(early_stopping, \"load_best_model\"):\n",
    "        print(\"Loading best model based on early stopping criterion...\")\n",
    "        try:\n",
    "            loaded = early_stopping.load_best_model(model)\n",
    "            if not loaded:\n",
    "                print(\"WARN: Failed to load best model state.\")\n",
    "        except Exception as e:\n",
    "            print(f\"WARN: Error loading best model state: {e}\")\n",
    "\n",
    "    plot_history(\n",
    "        train_loss_history,\n",
    "        val_loss_history,\n",
    "        train_metric_history if metric_func else None,\n",
    "        val_metric_history if metric_func else None,\n",
    "        metric_name=metric_name,\n",
    "    )\n",
    "\n",
    "    plt.show()\n",
    "\n",
    "    return (\n",
    "        train_loss_history,\n",
    "        val_loss_history,\n",
    "        train_metric_history if metric_func else [],\n",
    "        val_metric_history if metric_func else [],\n",
    "    )\n",
    "\n",
    "\n",
    "# Функция для тестирования модели\n",
    "def test_model(\n",
    "    model,\n",
    "    criterion,\n",
    "    X_test,\n",
    "    y_test,\n",
    "    batch_size,\n",
    "    metric_func=None,\n",
    "    metric_name=\"Metric\",\n",
    "    task_type=\"classification\",\n",
    "):\n",
    "    model.evaluate()\n",
    "    running_loss = 0.0\n",
    "    metric_total = 0.0\n",
    "    processed_samples = 0\n",
    "\n",
    "    test_batches = tqdm(\n",
    "        get_batches(X_test, y_test, batch_size),\n",
    "        total=math.ceil(X_test.shape[0] / batch_size),\n",
    "        desc=\"[Test]\",\n",
    "    )\n",
    "\n",
    "    for X_batch, y_batch in test_batches:\n",
    "        y_pred = model.forward(X_batch)\n",
    "        loss = criterion.forward(y_pred, y_batch)\n",
    "        running_loss += loss * X_batch.shape[0]\n",
    "\n",
    "        if metric_func:\n",
    "            with np.errstate(divide=\"ignore\", invalid=\"ignore\"):\n",
    "                y_pred_processed = (\n",
    "                    np.argmax(y_pred, axis=-1)\n",
    "                    if task_type == \"classification\"\n",
    "                    else y_pred\n",
    "                )\n",
    "                metric_val = metric_func(y_batch, y_pred_processed)\n",
    "                if np.isnan(metric_val):\n",
    "                    metric_val = 0\n",
    "            metric_total += metric_val * X_batch.shape[0]\n",
    "        processed_samples += X_batch.shape[0]\n",
    "\n",
    "        test_batches.set_postfix(loss=f\"{running_loss/processed_samples:.4f}\")\n",
    "\n",
    "    final_loss = running_loss / processed_samples\n",
    "    final_metric = (\n",
    "        metric_total / processed_samples\n",
    "        if metric_func and processed_samples > 0\n",
    "        else 0.0\n",
    "    )\n",
    "\n",
    "    print(f\"Test результат:\")\n",
    "    print(f\"Test Loss: {final_loss:.4f}\")\n",
    "    if metric_func:\n",
    "        print(f\"Test {metric_name}: {final_metric:.4f}\")\n",
    "    return final_loss, final_metric"
   ]
  },
  {
   "cell_type": "markdown",
   "metadata": {},
   "source": [
    "# №2 Множественная регрессия"
   ]
  },
  {
   "cell_type": "code",
   "execution_count": 31,
   "metadata": {},
   "outputs": [],
   "source": [
    "N_REG_SAMPLES = 100000\n",
    "N_REG_FEATURES = 10\n",
    "N_REG_TARGETS = 3\n",
    "\n",
    "# Создаем случайную матрицу весов и смещение\n",
    "W_true = np.random.randn(N_REG_TARGETS, N_REG_FEATURES).astype(np.float32) * 2\n",
    "b_true = np.random.randn(N_REG_TARGETS).astype(np.float32) * 5\n",
    "\n",
    "X_reg = np.random.rand(N_REG_SAMPLES, N_REG_FEATURES).astype(np.float32) * 10\n",
    "# Линейная зависимость + шум\n",
    "y_reg = (\n",
    "    X_reg @ W_true.T\n",
    "    + b_true\n",
    "    + np.random.randn(N_REG_SAMPLES, N_REG_TARGETS).astype(np.float32) * 0.5\n",
    ").astype(np.float32)\n",
    "\n",
    "\n",
    "X_reg_train, X_reg_test, y_reg_train, y_reg_test = train_test_split(\n",
    "    X_reg, y_reg, test_size=0.2, random_state=42\n",
    ")\n",
    "\n",
    "X_reg_train, X_reg_val, y_reg_train, y_reg_val = train_test_split(\n",
    "    X_reg_train, y_reg_train, test_size=0.15, random_state=42\n",
    ")  # 0.8*0.15 ~ 0.12 -> 68/12/20 split"
   ]
  },
  {
   "cell_type": "code",
   "execution_count": 32,
   "metadata": {},
   "outputs": [],
   "source": [
    "def create_regression_model(\n",
    "    n_features, n_targets, hidden_size, n_layers, activation=ReLU, dropout_p=0\n",
    "):\n",
    "    \"\"\"\n",
    "    Общих код для построения моделей\n",
    "    \"\"\"\n",
    "    model = Sequential()\n",
    "    last_size = n_features\n",
    "    for i in range(n_layers):\n",
    "        model.add(Linear(last_size, hidden_size))\n",
    "        model.add(BatchNormalization())\n",
    "        model.add(ChannelwiseScaling(hidden_size))\n",
    "        model.add(activation())\n",
    "        if dropout_p > 0:\n",
    "            model.add(Dropout(dropout_p))\n",
    "        last_size = hidden_size\n",
    "    model.add(Linear(last_size, n_targets))\n",
    "    return model"
   ]
  },
  {
   "cell_type": "code",
   "execution_count": 33,
   "metadata": {},
   "outputs": [],
   "source": [
    "model_reg_small = create_regression_model(\n",
    "    N_REG_FEATURES,\n",
    "    N_REG_TARGETS,\n",
    "    hidden_size=32,\n",
    "    n_layers=2,\n",
    "    activation=ReLU,\n",
    "    dropout_p=0.1,\n",
    ")\n",
    "\n",
    "model_reg_medium = create_regression_model(\n",
    "    N_REG_FEATURES,\n",
    "    N_REG_TARGETS,\n",
    "    hidden_size=64,\n",
    "    n_layers=5,\n",
    "    activation=LeakyReLU,\n",
    "    dropout_p=0.2,\n",
    ")\n",
    "\n",
    "model_reg_large = create_regression_model(\n",
    "    N_REG_FEATURES,\n",
    "    N_REG_TARGETS,\n",
    "    hidden_size=128,\n",
    "    n_layers=7,\n",
    "    activation=Tanh,\n",
    "    dropout_p=0.3,\n",
    ")"
   ]
  },
  {
   "cell_type": "code",
   "execution_count": 34,
   "metadata": {},
   "outputs": [
    {
     "name": "stdout",
     "output_type": "stream",
     "text": [
      "Начальные критерии =MSECriterion, Оптимайзер =Adam\n",
      "Loss Switch Config: Monitor val_loss, patience=4, switch to MAECriterion\n",
      "Optimizer Switch Config: Monitor val_loss, patience=6, switch to SGD with params {'learning_rate': 0.001, 'weight_decay': 0}\n",
      "INFO: Loss switch monitoring enabled...\n",
      "INFO: Optimizer switch monitoring enabled...\n",
      "\n",
      "Starting training with Criterion: MSECriterion, Optimizer: Adam\n"
     ]
    },
    {
     "data": {
      "application/vnd.jupyter.widget-view+json": {
       "model_id": "296c7652721347d7bf7c452412feb596",
       "version_major": 2,
       "version_minor": 0
      },
      "text/plain": [
       "Epoch 1/20 [Train]:   0%|          | 0/1063 [00:00<?, ?it/s]"
      ]
     },
     "metadata": {},
     "output_type": "display_data"
    },
    {
     "data": {
      "application/vnd.jupyter.widget-view+json": {
       "model_id": "0daa23ca94d1407cbb4424a525078f94",
       "version_major": 2,
       "version_minor": 0
      },
      "text/plain": [
       "Epoch 1/20 [Val] :   0%|          | 0/188 [00:00<?, ?it/s]"
      ]
     },
     "metadata": {},
     "output_type": "display_data"
    },
    {
     "name": "stdout",
     "output_type": "stream",
     "text": [
      "Epoch 1/20 Summary: LR: 0.001 | Train Loss: 740.5214, Val Loss: 39.4486, Train R2 Score: -227.2458, Val R2 Score: 0.9166\n",
      "  Validation loss decreased (inf --> 39.448623). Saving model ...\n"
     ]
    },
    {
     "data": {
      "application/vnd.jupyter.widget-view+json": {
       "model_id": "5a7136fc16ec48ba939c0daceffe1d2c",
       "version_major": 2,
       "version_minor": 0
      },
      "text/plain": [
       "Epoch 2/20 [Train]:   0%|          | 0/1063 [00:00<?, ?it/s]"
      ]
     },
     "metadata": {},
     "output_type": "display_data"
    },
    {
     "data": {
      "application/vnd.jupyter.widget-view+json": {
       "model_id": "9205178593bc46679a9f6fc6b270b62e",
       "version_major": 2,
       "version_minor": 0
      },
      "text/plain": [
       "Epoch 2/20 [Val] :   0%|          | 0/188 [00:00<?, ?it/s]"
      ]
     },
     "metadata": {},
     "output_type": "display_data"
    },
    {
     "name": "stdout",
     "output_type": "stream",
     "text": [
      "Epoch 2/20 Summary: LR: 0.001 | Train Loss: 62.3029, Val Loss: 12.0811, Train R2 Score: 0.8915, Val R2 Score: 0.9758\n",
      "  Validation loss decreased (39.448623 --> 12.081096). Saving model ...\n"
     ]
    },
    {
     "data": {
      "application/vnd.jupyter.widget-view+json": {
       "model_id": "cc0ab663764744229bfe3b336b13e019",
       "version_major": 2,
       "version_minor": 0
      },
      "text/plain": [
       "Epoch 3/20 [Train]:   0%|          | 0/1063 [00:00<?, ?it/s]"
      ]
     },
     "metadata": {},
     "output_type": "display_data"
    },
    {
     "data": {
      "application/vnd.jupyter.widget-view+json": {
       "model_id": "a73dd970cba145eabb12f3830a19dea7",
       "version_major": 2,
       "version_minor": 0
      },
      "text/plain": [
       "Epoch 3/20 [Val] :   0%|          | 0/188 [00:00<?, ?it/s]"
      ]
     },
     "metadata": {},
     "output_type": "display_data"
    },
    {
     "name": "stdout",
     "output_type": "stream",
     "text": [
      "Epoch 3/20 Summary: LR: 0.001 | Train Loss: 55.0485, Val Loss: 8.0500, Train R2 Score: 0.9098, Val R2 Score: 0.9839\n",
      "  Validation loss decreased (12.081096 --> 8.050037). Saving model ...\n"
     ]
    },
    {
     "data": {
      "application/vnd.jupyter.widget-view+json": {
       "model_id": "b8c3ad79d5984640a7efd53e94e4c388",
       "version_major": 2,
       "version_minor": 0
      },
      "text/plain": [
       "Epoch 4/20 [Train]:   0%|          | 0/1063 [00:00<?, ?it/s]"
      ]
     },
     "metadata": {},
     "output_type": "display_data"
    },
    {
     "data": {
      "application/vnd.jupyter.widget-view+json": {
       "model_id": "2c67eef97d7346239e118123bd11b006",
       "version_major": 2,
       "version_minor": 0
      },
      "text/plain": [
       "Epoch 4/20 [Val] :   0%|          | 0/188 [00:00<?, ?it/s]"
      ]
     },
     "metadata": {},
     "output_type": "display_data"
    },
    {
     "name": "stdout",
     "output_type": "stream",
     "text": [
      "Epoch 4/20 Summary: LR: 0.001 | Train Loss: 51.4632, Val Loss: 7.3366, Train R2 Score: 0.9159, Val R2 Score: 0.9858\n",
      "  Validation loss decreased (8.050037 --> 7.336646). Saving model ...\n"
     ]
    },
    {
     "data": {
      "application/vnd.jupyter.widget-view+json": {
       "model_id": "f1ab9d05934940f29002524ed57b1a22",
       "version_major": 2,
       "version_minor": 0
      },
      "text/plain": [
       "Epoch 5/20 [Train]:   0%|          | 0/1063 [00:00<?, ?it/s]"
      ]
     },
     "metadata": {},
     "output_type": "display_data"
    },
    {
     "data": {
      "application/vnd.jupyter.widget-view+json": {
       "model_id": "babde197eb2748d79293dc572bcdeb19",
       "version_major": 2,
       "version_minor": 0
      },
      "text/plain": [
       "Epoch 5/20 [Val] :   0%|          | 0/188 [00:00<?, ?it/s]"
      ]
     },
     "metadata": {},
     "output_type": "display_data"
    },
    {
     "name": "stdout",
     "output_type": "stream",
     "text": [
      "Epoch 5/20 Summary: LR: 0.001 | Train Loss: 51.3169, Val Loss: 11.4218, Train R2 Score: 0.9172, Val R2 Score: 0.9827\n",
      "Stagnation Monitor: Нет улучшения для 1/4 epochs.\n",
      "Stagnation Monitor: Нет улучшения для 1/6 epochs.\n",
      "  EarlyStopping counter: 1 out of 5\n"
     ]
    },
    {
     "data": {
      "application/vnd.jupyter.widget-view+json": {
       "model_id": "7990aa433bc140f2a0871bb80b4f0737",
       "version_major": 2,
       "version_minor": 0
      },
      "text/plain": [
       "Epoch 6/20 [Train]:   0%|          | 0/1063 [00:00<?, ?it/s]"
      ]
     },
     "metadata": {},
     "output_type": "display_data"
    },
    {
     "data": {
      "application/vnd.jupyter.widget-view+json": {
       "model_id": "527f3cbf5dc044c1b312698942d526d1",
       "version_major": 2,
       "version_minor": 0
      },
      "text/plain": [
       "Epoch 6/20 [Val] :   0%|          | 0/188 [00:00<?, ?it/s]"
      ]
     },
     "metadata": {},
     "output_type": "display_data"
    },
    {
     "name": "stdout",
     "output_type": "stream",
     "text": [
      "Epoch 6/20 Summary: LR: 0.001 | Train Loss: 49.0669, Val Loss: 6.5162, Train R2 Score: 0.9202, Val R2 Score: 0.9882\n",
      "  Validation loss decreased (7.336646 --> 6.516156). Saving model ...\n"
     ]
    },
    {
     "data": {
      "application/vnd.jupyter.widget-view+json": {
       "model_id": "516366c015a544e0812a6c8ebfccd7e6",
       "version_major": 2,
       "version_minor": 0
      },
      "text/plain": [
       "Epoch 7/20 [Train]:   0%|          | 0/1063 [00:00<?, ?it/s]"
      ]
     },
     "metadata": {},
     "output_type": "display_data"
    },
    {
     "data": {
      "application/vnd.jupyter.widget-view+json": {
       "model_id": "453ff911e2104b41a0b0a40b1f297ea2",
       "version_major": 2,
       "version_minor": 0
      },
      "text/plain": [
       "Epoch 7/20 [Val] :   0%|          | 0/188 [00:00<?, ?it/s]"
      ]
     },
     "metadata": {},
     "output_type": "display_data"
    },
    {
     "name": "stdout",
     "output_type": "stream",
     "text": [
      "Epoch 7/20 Summary: LR: 0.001 | Train Loss: 48.8309, Val Loss: 6.6931, Train R2 Score: 0.9203, Val R2 Score: 0.9891\n",
      "Stagnation Monitor: Нет улучшения для 1/4 epochs.\n",
      "Stagnation Monitor: Нет улучшения для 1/6 epochs.\n",
      "  EarlyStopping counter: 1 out of 5\n"
     ]
    },
    {
     "data": {
      "application/vnd.jupyter.widget-view+json": {
       "model_id": "7dc8dd856dea4cf8841c6faa17f9bfa0",
       "version_major": 2,
       "version_minor": 0
      },
      "text/plain": [
       "Epoch 8/20 [Train]:   0%|          | 0/1063 [00:00<?, ?it/s]"
      ]
     },
     "metadata": {},
     "output_type": "display_data"
    },
    {
     "data": {
      "application/vnd.jupyter.widget-view+json": {
       "model_id": "cfb6401e409246e6b75d206dfdfc641f",
       "version_major": 2,
       "version_minor": 0
      },
      "text/plain": [
       "Epoch 8/20 [Val] :   0%|          | 0/188 [00:00<?, ?it/s]"
      ]
     },
     "metadata": {},
     "output_type": "display_data"
    },
    {
     "name": "stdout",
     "output_type": "stream",
     "text": [
      "Epoch 8/20 Summary: LR: 0.001 | Train Loss: 48.2001, Val Loss: 5.6795, Train R2 Score: 0.9213, Val R2 Score: 0.9892\n",
      "  Validation loss decreased (6.516156 --> 5.679517). Saving model ...\n"
     ]
    },
    {
     "data": {
      "application/vnd.jupyter.widget-view+json": {
       "model_id": "de9f38d8ce354d5f82773065675975a6",
       "version_major": 2,
       "version_minor": 0
      },
      "text/plain": [
       "Epoch 9/20 [Train]:   0%|          | 0/1063 [00:00<?, ?it/s]"
      ]
     },
     "metadata": {},
     "output_type": "display_data"
    },
    {
     "data": {
      "application/vnd.jupyter.widget-view+json": {
       "model_id": "6ef6a5eadb934defa7f689f240a4a0dc",
       "version_major": 2,
       "version_minor": 0
      },
      "text/plain": [
       "Epoch 9/20 [Val] :   0%|          | 0/188 [00:00<?, ?it/s]"
      ]
     },
     "metadata": {},
     "output_type": "display_data"
    },
    {
     "name": "stdout",
     "output_type": "stream",
     "text": [
      "Epoch 9/20 Summary: LR: 0.001 | Train Loss: 48.4113, Val Loss: 5.5187, Train R2 Score: 0.9215, Val R2 Score: 0.9894\n",
      "  Validation loss decreased (5.679517 --> 5.518665). Saving model ...\n"
     ]
    },
    {
     "data": {
      "application/vnd.jupyter.widget-view+json": {
       "model_id": "c9fbcba119744f71b982950683687e59",
       "version_major": 2,
       "version_minor": 0
      },
      "text/plain": [
       "Epoch 10/20 [Train]:   0%|          | 0/1063 [00:00<?, ?it/s]"
      ]
     },
     "metadata": {},
     "output_type": "display_data"
    },
    {
     "data": {
      "application/vnd.jupyter.widget-view+json": {
       "model_id": "9b5f7a45c1b545a5b4a26b8b56e5f8b3",
       "version_major": 2,
       "version_minor": 0
      },
      "text/plain": [
       "Epoch 10/20 [Val] :   0%|          | 0/188 [00:00<?, ?it/s]"
      ]
     },
     "metadata": {},
     "output_type": "display_data"
    },
    {
     "name": "stdout",
     "output_type": "stream",
     "text": [
      "Epoch 10/20 Summary: LR: 0.001 | Train Loss: 47.9707, Val Loss: 5.6027, Train R2 Score: 0.9224, Val R2 Score: 0.9905\n",
      "Stagnation Monitor: Нет улучшения для 1/4 epochs.\n",
      "Stagnation Monitor: Нет улучшения для 1/6 epochs.\n",
      "  EarlyStopping counter: 1 out of 5\n"
     ]
    },
    {
     "data": {
      "application/vnd.jupyter.widget-view+json": {
       "model_id": "c8b63c535a0f48f69e1fe6b18795d56b",
       "version_major": 2,
       "version_minor": 0
      },
      "text/plain": [
       "Epoch 11/20 [Train]:   0%|          | 0/1063 [00:00<?, ?it/s]"
      ]
     },
     "metadata": {},
     "output_type": "display_data"
    },
    {
     "data": {
      "application/vnd.jupyter.widget-view+json": {
       "model_id": "36250dd5c2d64133bfffe2ed824a2d32",
       "version_major": 2,
       "version_minor": 0
      },
      "text/plain": [
       "Epoch 11/20 [Val] :   0%|          | 0/188 [00:00<?, ?it/s]"
      ]
     },
     "metadata": {},
     "output_type": "display_data"
    },
    {
     "name": "stdout",
     "output_type": "stream",
     "text": [
      "Epoch 11/20 Summary: LR: 0.001 | Train Loss: 47.3045, Val Loss: 5.2433, Train R2 Score: 0.9234, Val R2 Score: 0.9892\n",
      "  Validation loss decreased (5.518665 --> 5.243258). Saving model ...\n"
     ]
    },
    {
     "data": {
      "application/vnd.jupyter.widget-view+json": {
       "model_id": "e93702cbaea7464284ab866ad8dfeff3",
       "version_major": 2,
       "version_minor": 0
      },
      "text/plain": [
       "Epoch 12/20 [Train]:   0%|          | 0/1063 [00:00<?, ?it/s]"
      ]
     },
     "metadata": {},
     "output_type": "display_data"
    },
    {
     "data": {
      "application/vnd.jupyter.widget-view+json": {
       "model_id": "bd8c6207852d445e811815723f9cc393",
       "version_major": 2,
       "version_minor": 0
      },
      "text/plain": [
       "Epoch 12/20 [Val] :   0%|          | 0/188 [00:00<?, ?it/s]"
      ]
     },
     "metadata": {},
     "output_type": "display_data"
    },
    {
     "name": "stdout",
     "output_type": "stream",
     "text": [
      "Epoch 12/20 Summary: LR: 0.001 | Train Loss: 47.5096, Val Loss: 6.9851, Train R2 Score: 0.9230, Val R2 Score: 0.9875\n",
      "Stagnation Monitor: Нет улучшения для 1/4 epochs.\n",
      "Stagnation Monitor: Нет улучшения для 1/6 epochs.\n",
      "  EarlyStopping counter: 1 out of 5\n"
     ]
    },
    {
     "data": {
      "application/vnd.jupyter.widget-view+json": {
       "model_id": "d12023a7f2ff4282984309e7600267e2",
       "version_major": 2,
       "version_minor": 0
      },
      "text/plain": [
       "Epoch 13/20 [Train]:   0%|          | 0/1063 [00:00<?, ?it/s]"
      ]
     },
     "metadata": {},
     "output_type": "display_data"
    },
    {
     "data": {
      "application/vnd.jupyter.widget-view+json": {
       "model_id": "72bf279b6e36479fb05aed76bacd2435",
       "version_major": 2,
       "version_minor": 0
      },
      "text/plain": [
       "Epoch 13/20 [Val] :   0%|          | 0/188 [00:00<?, ?it/s]"
      ]
     },
     "metadata": {},
     "output_type": "display_data"
    },
    {
     "name": "stdout",
     "output_type": "stream",
     "text": [
      "Epoch 13/20 Summary: LR: 0.001 | Train Loss: 47.6248, Val Loss: 5.4107, Train R2 Score: 0.9227, Val R2 Score: 0.9899\n",
      "Stagnation Monitor: Нет улучшения для 2/4 epochs.\n",
      "Stagnation Monitor: Нет улучшения для 2/6 epochs.\n",
      "  EarlyStopping counter: 2 out of 5\n"
     ]
    },
    {
     "data": {
      "application/vnd.jupyter.widget-view+json": {
       "model_id": "912ac77103734c9db262cf9e959244e1",
       "version_major": 2,
       "version_minor": 0
      },
      "text/plain": [
       "Epoch 14/20 [Train]:   0%|          | 0/1063 [00:00<?, ?it/s]"
      ]
     },
     "metadata": {},
     "output_type": "display_data"
    },
    {
     "data": {
      "application/vnd.jupyter.widget-view+json": {
       "model_id": "37832f1ca74d421c9e8804138a79fa2d",
       "version_major": 2,
       "version_minor": 0
      },
      "text/plain": [
       "Epoch 14/20 [Val] :   0%|          | 0/188 [00:00<?, ?it/s]"
      ]
     },
     "metadata": {},
     "output_type": "display_data"
    },
    {
     "name": "stdout",
     "output_type": "stream",
     "text": [
      "Epoch 14/20 Summary: LR: 0.001 | Train Loss: 47.1647, Val Loss: 4.8353, Train R2 Score: 0.9236, Val R2 Score: 0.9905\n",
      "  Validation loss decreased (5.243258 --> 4.835342). Saving model ...\n"
     ]
    },
    {
     "data": {
      "application/vnd.jupyter.widget-view+json": {
       "model_id": "0e4a7c6f52994a6e86e9fe85cfb4b4cd",
       "version_major": 2,
       "version_minor": 0
      },
      "text/plain": [
       "Epoch 15/20 [Train]:   0%|          | 0/1063 [00:00<?, ?it/s]"
      ]
     },
     "metadata": {},
     "output_type": "display_data"
    },
    {
     "data": {
      "application/vnd.jupyter.widget-view+json": {
       "model_id": "a50ae3e5c78d4616812f6d699fe7a769",
       "version_major": 2,
       "version_minor": 0
      },
      "text/plain": [
       "Epoch 15/20 [Val] :   0%|          | 0/188 [00:00<?, ?it/s]"
      ]
     },
     "metadata": {},
     "output_type": "display_data"
    },
    {
     "name": "stdout",
     "output_type": "stream",
     "text": [
      "Epoch 15/20 Summary: LR: 0.001 | Train Loss: 46.7649, Val Loss: 4.6415, Train R2 Score: 0.9241, Val R2 Score: 0.9914\n",
      "  Validation loss decreased (4.835342 --> 4.641511). Saving model ...\n"
     ]
    },
    {
     "data": {
      "application/vnd.jupyter.widget-view+json": {
       "model_id": "76da9848a4bf4e2081e2b7ce2a31aa92",
       "version_major": 2,
       "version_minor": 0
      },
      "text/plain": [
       "Epoch 16/20 [Train]:   0%|          | 0/1063 [00:00<?, ?it/s]"
      ]
     },
     "metadata": {},
     "output_type": "display_data"
    },
    {
     "data": {
      "application/vnd.jupyter.widget-view+json": {
       "model_id": "1a5973cc8fe344c4b8ff8ffae8a2bf51",
       "version_major": 2,
       "version_minor": 0
      },
      "text/plain": [
       "Epoch 16/20 [Val] :   0%|          | 0/188 [00:00<?, ?it/s]"
      ]
     },
     "metadata": {},
     "output_type": "display_data"
    },
    {
     "name": "stdout",
     "output_type": "stream",
     "text": [
      "Epoch 16/20 Summary: LR: 0.001 | Train Loss: 46.5992, Val Loss: 3.3404, Train R2 Score: 0.9245, Val R2 Score: 0.9940\n",
      "  Validation loss decreased (4.641511 --> 3.340393). Saving model ...\n"
     ]
    },
    {
     "data": {
      "application/vnd.jupyter.widget-view+json": {
       "model_id": "c0b1de4104ea46d395a23cd6a28cf8fb",
       "version_major": 2,
       "version_minor": 0
      },
      "text/plain": [
       "Epoch 17/20 [Train]:   0%|          | 0/1063 [00:00<?, ?it/s]"
      ]
     },
     "metadata": {},
     "output_type": "display_data"
    },
    {
     "data": {
      "application/vnd.jupyter.widget-view+json": {
       "model_id": "ad59e00410b142d894664efcaed8f8dc",
       "version_major": 2,
       "version_minor": 0
      },
      "text/plain": [
       "Epoch 17/20 [Val] :   0%|          | 0/188 [00:00<?, ?it/s]"
      ]
     },
     "metadata": {},
     "output_type": "display_data"
    },
    {
     "name": "stdout",
     "output_type": "stream",
     "text": [
      "Epoch 17/20 Summary: LR: 0.001 | Train Loss: 46.7503, Val Loss: 4.5798, Train R2 Score: 0.9240, Val R2 Score: 0.9913\n",
      "Stagnation Monitor: Нет улучшения для 1/4 epochs.\n",
      "Stagnation Monitor: Нет улучшения для 1/6 epochs.\n",
      "  EarlyStopping counter: 1 out of 5\n"
     ]
    },
    {
     "data": {
      "application/vnd.jupyter.widget-view+json": {
       "model_id": "e99757172bd040e3914cbf27ebb8ac6c",
       "version_major": 2,
       "version_minor": 0
      },
      "text/plain": [
       "Epoch 18/20 [Train]:   0%|          | 0/1063 [00:00<?, ?it/s]"
      ]
     },
     "metadata": {},
     "output_type": "display_data"
    },
    {
     "data": {
      "application/vnd.jupyter.widget-view+json": {
       "model_id": "8a0d9726a03143eea75b78898fab8956",
       "version_major": 2,
       "version_minor": 0
      },
      "text/plain": [
       "Epoch 18/20 [Val] :   0%|          | 0/188 [00:00<?, ?it/s]"
      ]
     },
     "metadata": {},
     "output_type": "display_data"
    },
    {
     "name": "stdout",
     "output_type": "stream",
     "text": [
      "Epoch 18/20 Summary: LR: 0.001 | Train Loss: 46.2610, Val Loss: 5.2455, Train R2 Score: 0.9247, Val R2 Score: 0.9893\n",
      "Stagnation Monitor: Нет улучшения для 2/4 epochs.\n",
      "Stagnation Monitor: Нет улучшения для 2/6 epochs.\n",
      "  EarlyStopping counter: 2 out of 5\n"
     ]
    },
    {
     "data": {
      "application/vnd.jupyter.widget-view+json": {
       "model_id": "ebdc5390403f4becaab2ac2459aa7cb8",
       "version_major": 2,
       "version_minor": 0
      },
      "text/plain": [
       "Epoch 19/20 [Train]:   0%|          | 0/1063 [00:00<?, ?it/s]"
      ]
     },
     "metadata": {},
     "output_type": "display_data"
    },
    {
     "data": {
      "application/vnd.jupyter.widget-view+json": {
       "model_id": "e4f1102b19ad4854ae5af7407069c35a",
       "version_major": 2,
       "version_minor": 0
      },
      "text/plain": [
       "Epoch 19/20 [Val] :   0%|          | 0/188 [00:00<?, ?it/s]"
      ]
     },
     "metadata": {},
     "output_type": "display_data"
    },
    {
     "name": "stdout",
     "output_type": "stream",
     "text": [
      "Epoch 19/20 Summary: LR: 0.001 | Train Loss: 46.0118, Val Loss: 4.9127, Train R2 Score: 0.9253, Val R2 Score: 0.9912\n",
      "Stagnation Monitor: Нет улучшения для 3/4 epochs.\n",
      "Stagnation Monitor: Нет улучшения для 3/6 epochs.\n",
      "  EarlyStopping counter: 3 out of 5\n"
     ]
    },
    {
     "data": {
      "application/vnd.jupyter.widget-view+json": {
       "model_id": "a59ffcd1006749d6b55b13df19711bfd",
       "version_major": 2,
       "version_minor": 0
      },
      "text/plain": [
       "Epoch 20/20 [Train]:   0%|          | 0/1063 [00:00<?, ?it/s]"
      ]
     },
     "metadata": {},
     "output_type": "display_data"
    },
    {
     "data": {
      "application/vnd.jupyter.widget-view+json": {
       "model_id": "71db89e29d794401a74ca11aa1678251",
       "version_major": 2,
       "version_minor": 0
      },
      "text/plain": [
       "Epoch 20/20 [Val] :   0%|          | 0/188 [00:00<?, ?it/s]"
      ]
     },
     "metadata": {},
     "output_type": "display_data"
    },
    {
     "name": "stdout",
     "output_type": "stream",
     "text": [
      "Epoch 20/20 Summary: LR: 0.001 | Train Loss: 46.7002, Val Loss: 6.4384, Train R2 Score: 0.9245, Val R2 Score: 0.9876\n",
      "Stagnation Monitor: Нет улучшения для 4/4 epochs.\n",
      "Stagnation Monitor: Стагнация обнаружена.\n",
      "------------------------------\n",
      "*** CRITERION SWITCH TRIGGERED ***\n",
      "Switching from MSECriterion to MAECriterion\n",
      "Stagnation Monitor: Reset.\n",
      "------------------------------\n",
      "  EarlyStopping counter: 4 out of 5\n",
      "\n",
      "Training finished.\n",
      "Loading best model based on early stopping criterion...\n",
      "Loading best model from models/best_regression_model_small_switched.pkl with val_loss: 3.340393\n"
     ]
    },
    {
     "data": {
      "image/png": "[encoded data removed]",
      "text/plain": [
       "<Figure size 1600x500 with 2 Axes>"
      ]
     },
     "metadata": {},
     "output_type": "display_data"
    },
    {
     "data": {
      "application/vnd.jupyter.widget-view+json": {
       "model_id": "adb49c5fe0bf4d40bd380640be258e1e",
       "version_major": 2,
       "version_minor": 0
      },
      "text/plain": [
       "[Test]:   0%|          | 0/313 [00:00<?, ?it/s]"
      ]
     },
     "metadata": {},
     "output_type": "display_data"
    },
    {
     "name": "stdout",
     "output_type": "stream",
     "text": [
      "Test результат:\n",
      "Test Loss: 28.2575\n",
      "Test R2 Score: 0.9454\n"
     ]
    },
    {
     "data": {
      "text/plain": [
       "(28.25745968783608, 0.9454298764333762)"
      ]
     },
     "execution_count": 34,
     "metadata": {},
     "output_type": "execute_result"
    }
   ],
   "source": [
    "# Начальные компоненты\n",
    "initial_criterion = MSECriterion()\n",
    "initial_optimizer = Adam(\n",
    "    model_reg_small.getParameters(),\n",
    "    learning_rate=1e-3,\n",
    "    weight_decay=1e-5,\n",
    ")\n",
    "print(\n",
    "    f\"Начальные критерии ={initial_criterion.__class__.__name__}, Оптимайзер ={initial_optimizer.__class__.__name__}\"\n",
    ")\n",
    "\n",
    "# Компоненты для ПЕРВОГО переключения (Критерий)\n",
    "loss_switch_config = {\n",
    "    \"patience\": 4,  # Ждем 4 эпохи без улучшения val_loss\n",
    "    \"threshold\": 1e-3,  # Улучшение меньше порога не считается\n",
    "    \"mode\": \"min\",  # Минимизируем val_loss\n",
    "    \"verbose\": True,\n",
    "}\n",
    "\n",
    "# Создаем ЭКЗЕМПЛЯР следующего критерия\n",
    "next_criterion = MAECriterion()\n",
    "print(\n",
    "    f\"Loss Switch Config: Monitor val_loss, patience={loss_switch_config['patience']}, switch to {next_criterion.__class__.__name__}\"\n",
    ")\n",
    "\n",
    "# Компоненты для ВТОРОГО переключения (Оптимизатор)\n",
    "optimizer_switch_config = {\n",
    "    \"patience\": 6,  # Ждем дольше (6 эпох) после смены критерия или если критерий не менялся\n",
    "    \"threshold\": 5e-5,  # Более строгий порог для второго этапа\n",
    "    \"mode\": \"min\",  # Продолжаем следить за val_loss\n",
    "    \"verbose\": True,\n",
    "}\n",
    "\n",
    "\n",
    "next_opt_class = SGD\n",
    "next_opt_params = {\"learning_rate\": 1e-3, \"weight_decay\": 0}\n",
    "\n",
    "print(\n",
    "    f\"Optimizer Switch Config: Monitor val_loss, patience={optimizer_switch_config['patience']}, switch to {next_opt_class.__name__} with params {next_opt_params}\"\n",
    ")\n",
    "\n",
    "# Early Stopping (увеличим patience, чтобы дать шанс переключениям)\n",
    "early_stopping_reg_switch = EarlyStopping(\n",
    "    patience=5,  # Должно быть больше, чем patience для переключений\n",
    "    verbose=True,\n",
    "    path=\"models/best_regression_model_small_switched.pkl\",\n",
    ")\n",
    "\n",
    "\n",
    "reg_switch_history = train_validate_model(\n",
    "    model=model_reg_small,\n",
    "    initial_criterion=initial_criterion,\n",
    "    initial_optimizer=initial_optimizer,\n",
    "    X_train=X_reg_train,\n",
    "    y_train=y_reg_train,\n",
    "    X_val=X_reg_val,\n",
    "    y_val=y_reg_val,\n",
    "    epochs=20,\n",
    "    batch_size=64,\n",
    "    # --- Параметры для переключения Criterion ---\n",
    "    loss_switch_trigger_config=loss_switch_config,\n",
    "    next_criterion_instance=next_criterion,\n",
    "    # --- Параметры для переключения Optimizer ---\n",
    "    optimizer_switch_trigger_config=optimizer_switch_config,\n",
    "    next_optimizer_class=next_opt_class,\n",
    "    next_optimizer_params=next_opt_params,\n",
    "    # --- Основные параметры ---\n",
    "    scheduler=None,\n",
    "    warmup_scheduler=None,\n",
    "    early_stopping=early_stopping_reg_switch,\n",
    "    metric_func=calculate_r2,\n",
    "    metric_name=\"R2 Score\",\n",
    "    task_type=\"regression\",\n",
    "    metric_for_switch=\"val_loss\",\n",
    ")\n",
    "\n",
    "test_model(\n",
    "    model=model_reg_small,\n",
    "    criterion=(\n",
    "        next_criterion\n",
    "        if \"next_criterion\" in locals()\n",
    "        and early_stopping_reg_switch.best_score is not None\n",
    "        and early_stopping_reg_switch.counter == 0\n",
    "        else initial_criterion\n",
    "    ),  # Используем критерий, который был активен при лучшей модели (или последний, если ES не сработал)\n",
    "    X_test=X_reg_test,\n",
    "    y_test=y_reg_test,\n",
    "    batch_size=64,\n",
    "    metric_func=calculate_r2,\n",
    "    metric_name=\"R2 Score\",\n",
    "    task_type=\"regression\",\n",
    ")"
   ]
  },
  {
   "cell_type": "code",
   "execution_count": 35,
   "metadata": {},
   "outputs": [
    {
     "name": "stdout",
     "output_type": "stream",
     "text": [
      "Начальные критерии =MAECriterion, Оптимайзер =SGD\n",
      "Loss Switch Config: Monitor val_loss, patience=4, switch to MSECriterion\n",
      "Optimizer Switch Config: Monitor val_loss, patience=6, switch to Adam with params {'learning_rate': 0.001}\n",
      "INFO: Loss switch monitoring enabled...\n",
      "INFO: Optimizer switch monitoring enabled...\n",
      "\n",
      "Starting training with Criterion: MAECriterion, Optimizer: SGD\n"
     ]
    },
    {
     "data": {
      "application/vnd.jupyter.widget-view+json": {
       "model_id": "e5cfce94b5be402f842edaced7d5ab92",
       "version_major": 2,
       "version_minor": 0
      },
      "text/plain": [
       "Epoch 1/20 [Train]:   0%|          | 0/1063 [00:00<?, ?it/s]"
      ]
     },
     "metadata": {},
     "output_type": "display_data"
    },
    {
     "data": {
      "application/vnd.jupyter.widget-view+json": {
       "model_id": "d71c9ef42e9a4760b1566cf220bcb780",
       "version_major": 2,
       "version_minor": 0
      },
      "text/plain": [
       "Epoch 1/20 [Val] :   0%|          | 0/188 [00:00<?, ?it/s]"
      ]
     },
     "metadata": {},
     "output_type": "display_data"
    },
    {
     "name": "stdout",
     "output_type": "stream",
     "text": [
      "Epoch 1/20 Summary: LR: 0.0019000000000000002 | Train Loss: 14.5234, Val Loss: 7.1949, Train R2 Score: -484.2393, Val R2 Score: -0.7290\n"
     ]
    },
    {
     "data": {
      "application/vnd.jupyter.widget-view+json": {
       "model_id": "fa1402ef0b69485b91f7ef87aa222892",
       "version_major": 2,
       "version_minor": 0
      },
      "text/plain": [
       "Epoch 2/20 [Train]:   0%|          | 0/1063 [00:00<?, ?it/s]"
      ]
     },
     "metadata": {},
     "output_type": "display_data"
    },
    {
     "data": {
      "application/vnd.jupyter.widget-view+json": {
       "model_id": "90e240d0c9d947c68a98487095f43bf4",
       "version_major": 2,
       "version_minor": 0
      },
      "text/plain": [
       "Epoch 2/20 [Val] :   0%|          | 0/188 [00:00<?, ?it/s]"
      ]
     },
     "metadata": {},
     "output_type": "display_data"
    },
    {
     "name": "stdout",
     "output_type": "stream",
     "text": [
      "Epoch 2/20 Summary: LR: 0.0028000000000000004 | Train Loss: 5.1948, Val Loss: 1.8615, Train R2 Score: 0.6205, Val R2 Score: 0.9534\n"
     ]
    },
    {
     "data": {
      "application/vnd.jupyter.widget-view+json": {
       "model_id": "1e70fd3a0ce44797bc3e1825f34801cd",
       "version_major": 2,
       "version_minor": 0
      },
      "text/plain": [
       "Epoch 3/20 [Train]:   0%|          | 0/1063 [00:00<?, ?it/s]"
      ]
     },
     "metadata": {},
     "output_type": "display_data"
    },
    {
     "data": {
      "application/vnd.jupyter.widget-view+json": {
       "model_id": "ed9db2b5b2d44ceea9b884e23904f9d4",
       "version_major": 2,
       "version_minor": 0
      },
      "text/plain": [
       "Epoch 3/20 [Val] :   0%|          | 0/188 [00:00<?, ?it/s]"
      ]
     },
     "metadata": {},
     "output_type": "display_data"
    },
    {
     "name": "stdout",
     "output_type": "stream",
     "text": [
      "Epoch 3/20 Summary: LR: 0.0037 | Train Loss: 4.3051, Val Loss: 1.6376, Train R2 Score: 0.8283, Val R2 Score: 0.9651\n"
     ]
    },
    {
     "data": {
      "application/vnd.jupyter.widget-view+json": {
       "model_id": "cdb28137411c401cb30a1a13b67fecdb",
       "version_major": 2,
       "version_minor": 0
      },
      "text/plain": [
       "Epoch 4/20 [Train]:   0%|          | 0/1063 [00:00<?, ?it/s]"
      ]
     },
     "metadata": {},
     "output_type": "display_data"
    },
    {
     "data": {
      "application/vnd.jupyter.widget-view+json": {
       "model_id": "f0006c017e384c9aba2d878e5a2e9923",
       "version_major": 2,
       "version_minor": 0
      },
      "text/plain": [
       "Epoch 4/20 [Val] :   0%|          | 0/188 [00:00<?, ?it/s]"
      ]
     },
     "metadata": {},
     "output_type": "display_data"
    },
    {
     "name": "stdout",
     "output_type": "stream",
     "text": [
      "Epoch 4/20 Summary: LR: 0.004600000000000001 | Train Loss: 4.0949, Val Loss: 1.5373, Train R2 Score: 0.8473, Val R2 Score: 0.9717\n"
     ]
    },
    {
     "data": {
      "application/vnd.jupyter.widget-view+json": {
       "model_id": "18e3187c3b9941719a994b5d12fb3e1f",
       "version_major": 2,
       "version_minor": 0
      },
      "text/plain": [
       "Epoch 5/20 [Train]:   0%|          | 0/1063 [00:00<?, ?it/s]"
      ]
     },
     "metadata": {},
     "output_type": "display_data"
    },
    {
     "data": {
      "application/vnd.jupyter.widget-view+json": {
       "model_id": "b805b5934a6c4636a79311be70ce3c17",
       "version_major": 2,
       "version_minor": 0
      },
      "text/plain": [
       "Epoch 5/20 [Val] :   0%|          | 0/188 [00:00<?, ?it/s]"
      ]
     },
     "metadata": {},
     "output_type": "display_data"
    },
    {
     "name": "stdout",
     "output_type": "stream",
     "text": [
      "Epoch 5/20 Summary: LR: 0.0055000000000000005 | Train Loss: 3.9906, Val Loss: 1.7211, Train R2 Score: 0.8568, Val R2 Score: 0.9610\n",
      "Stagnation Monitor: Нет улучшения для 1/4 epochs.\n",
      "Stagnation Monitor: Нет улучшения для 1/6 epochs.\n"
     ]
    },
    {
     "data": {
      "application/vnd.jupyter.widget-view+json": {
       "model_id": "9f219432726647e1bdcabc40dcad8ad4",
       "version_major": 2,
       "version_minor": 0
      },
      "text/plain": [
       "Epoch 6/20 [Train]:   0%|          | 0/1063 [00:00<?, ?it/s]"
      ]
     },
     "metadata": {},
     "output_type": "display_data"
    },
    {
     "data": {
      "application/vnd.jupyter.widget-view+json": {
       "model_id": "7c297239b9c54c528a41ca8062f7ac3e",
       "version_major": 2,
       "version_minor": 0
      },
      "text/plain": [
       "Epoch 6/20 [Val] :   0%|          | 0/188 [00:00<?, ?it/s]"
      ]
     },
     "metadata": {},
     "output_type": "display_data"
    },
    {
     "name": "stdout",
     "output_type": "stream",
     "text": [
      "Epoch 6/20 Summary: LR: 0.0064 | Train Loss: 3.9382, Val Loss: 1.4162, Train R2 Score: 0.8616, Val R2 Score: 0.9771\n"
     ]
    },
    {
     "data": {
      "application/vnd.jupyter.widget-view+json": {
       "model_id": "2d4d2616ed09477a90be1e292645ff1b",
       "version_major": 2,
       "version_minor": 0
      },
      "text/plain": [
       "Epoch 7/20 [Train]:   0%|          | 0/1063 [00:00<?, ?it/s]"
      ]
     },
     "metadata": {},
     "output_type": "display_data"
    },
    {
     "data": {
      "application/vnd.jupyter.widget-view+json": {
       "model_id": "226d27392ffe4219af9e5c40d737d1e0",
       "version_major": 2,
       "version_minor": 0
      },
      "text/plain": [
       "Epoch 7/20 [Val] :   0%|          | 0/188 [00:00<?, ?it/s]"
      ]
     },
     "metadata": {},
     "output_type": "display_data"
    },
    {
     "name": "stdout",
     "output_type": "stream",
     "text": [
      "Epoch 7/20 Summary: LR: 0.0073 | Train Loss: 3.8861, Val Loss: 1.5977, Train R2 Score: 0.8653, Val R2 Score: 0.9664\n",
      "Stagnation Monitor: Нет улучшения для 1/4 epochs.\n",
      "Stagnation Monitor: Нет улучшения для 1/6 epochs.\n"
     ]
    },
    {
     "data": {
      "application/vnd.jupyter.widget-view+json": {
       "model_id": "18c2810bf61e4a638119d00f19ec50ae",
       "version_major": 2,
       "version_minor": 0
      },
      "text/plain": [
       "Epoch 8/20 [Train]:   0%|          | 0/1063 [00:00<?, ?it/s]"
      ]
     },
     "metadata": {},
     "output_type": "display_data"
    },
    {
     "data": {
      "application/vnd.jupyter.widget-view+json": {
       "model_id": "14aaf0dafd12496fa19b987b4ca6c7c9",
       "version_major": 2,
       "version_minor": 0
      },
      "text/plain": [
       "Epoch 8/20 [Val] :   0%|          | 0/188 [00:00<?, ?it/s]"
      ]
     },
     "metadata": {},
     "output_type": "display_data"
    },
    {
     "name": "stdout",
     "output_type": "stream",
     "text": [
      "Epoch 8/20 Summary: LR: 0.008200000000000002 | Train Loss: 3.8228, Val Loss: 1.6138, Train R2 Score: 0.8705, Val R2 Score: 0.9688\n",
      "Stagnation Monitor: Нет улучшения для 2/4 epochs.\n",
      "Stagnation Monitor: Нет улучшения для 2/6 epochs.\n"
     ]
    },
    {
     "data": {
      "application/vnd.jupyter.widget-view+json": {
       "model_id": "1e0025d036f145d89ef3f61e72b50d72",
       "version_major": 2,
       "version_minor": 0
      },
      "text/plain": [
       "Epoch 9/20 [Train]:   0%|          | 0/1063 [00:00<?, ?it/s]"
      ]
     },
     "metadata": {},
     "output_type": "display_data"
    },
    {
     "data": {
      "application/vnd.jupyter.widget-view+json": {
       "model_id": "acf76c5352e648d3bd4a76a0087bf3c5",
       "version_major": 2,
       "version_minor": 0
      },
      "text/plain": [
       "Epoch 9/20 [Val] :   0%|          | 0/188 [00:00<?, ?it/s]"
      ]
     },
     "metadata": {},
     "output_type": "display_data"
    },
    {
     "name": "stdout",
     "output_type": "stream",
     "text": [
      "Epoch 9/20 Summary: LR: 0.0091 | Train Loss: 3.7889, Val Loss: 1.4435, Train R2 Score: 0.8737, Val R2 Score: 0.9759\n",
      "Stagnation Monitor: Нет улучшения для 3/4 epochs.\n",
      "Stagnation Monitor: Нет улучшения для 3/6 epochs.\n"
     ]
    },
    {
     "data": {
      "application/vnd.jupyter.widget-view+json": {
       "model_id": "d4de7a34fdd04067990b2ddea4a1df04",
       "version_major": 2,
       "version_minor": 0
      },
      "text/plain": [
       "Epoch 10/20 [Train]:   0%|          | 0/1063 [00:00<?, ?it/s]"
      ]
     },
     "metadata": {},
     "output_type": "display_data"
    },
    {
     "data": {
      "application/vnd.jupyter.widget-view+json": {
       "model_id": "5bb172dda70b42e78f250c1970ef4ec6",
       "version_major": 2,
       "version_minor": 0
      },
      "text/plain": [
       "Epoch 10/20 [Val] :   0%|          | 0/188 [00:00<?, ?it/s]"
      ]
     },
     "metadata": {},
     "output_type": "display_data"
    },
    {
     "name": "stdout",
     "output_type": "stream",
     "text": [
      "Epoch 10/20 Summary: LR: 0.001 | Train Loss: 3.7077, Val Loss: 1.2195, Train R2 Score: 0.8786, Val R2 Score: 0.9825\n"
     ]
    },
    {
     "data": {
      "application/vnd.jupyter.widget-view+json": {
       "model_id": "a3e4ec18732b4cba983272c74277c355",
       "version_major": 2,
       "version_minor": 0
      },
      "text/plain": [
       "Epoch 11/20 [Train]:   0%|          | 0/1063 [00:00<?, ?it/s]"
      ]
     },
     "metadata": {},
     "output_type": "display_data"
    },
    {
     "data": {
      "application/vnd.jupyter.widget-view+json": {
       "model_id": "e5d95825e2f344e99451ca12c0281cdd",
       "version_major": 2,
       "version_minor": 0
      },
      "text/plain": [
       "Epoch 11/20 [Val] :   0%|          | 0/188 [00:00<?, ?it/s]"
      ]
     },
     "metadata": {},
     "output_type": "display_data"
    },
    {
     "name": "stdout",
     "output_type": "stream",
     "text": [
      "Epoch 11/20 Summary: LR: 0.001 | Train Loss: 3.6909, Val Loss: 1.1724, Train R2 Score: 0.8794, Val R2 Score: 0.9825\n"
     ]
    },
    {
     "data": {
      "application/vnd.jupyter.widget-view+json": {
       "model_id": "b165304701144e60996057603b62130f",
       "version_major": 2,
       "version_minor": 0
      },
      "text/plain": [
       "Epoch 12/20 [Train]:   0%|          | 0/1063 [00:00<?, ?it/s]"
      ]
     },
     "metadata": {},
     "output_type": "display_data"
    },
    {
     "data": {
      "application/vnd.jupyter.widget-view+json": {
       "model_id": "0a6b5e668fa441e9a08e1a7052c790a0",
       "version_major": 2,
       "version_minor": 0
      },
      "text/plain": [
       "Epoch 12/20 [Val] :   0%|          | 0/188 [00:00<?, ?it/s]"
      ]
     },
     "metadata": {},
     "output_type": "display_data"
    },
    {
     "name": "stdout",
     "output_type": "stream",
     "text": [
      "Epoch 12/20 Summary: LR: 0.001 | Train Loss: 3.6503, Val Loss: 1.2864, Train R2 Score: 0.8819, Val R2 Score: 0.9788\n",
      "Stagnation Monitor: Нет улучшения для 1/4 epochs.\n",
      "Stagnation Monitor: Нет улучшения для 1/6 epochs.\n"
     ]
    },
    {
     "data": {
      "application/vnd.jupyter.widget-view+json": {
       "model_id": "11f5558104be414faea8b95825d21728",
       "version_major": 2,
       "version_minor": 0
      },
      "text/plain": [
       "Epoch 13/20 [Train]:   0%|          | 0/1063 [00:00<?, ?it/s]"
      ]
     },
     "metadata": {},
     "output_type": "display_data"
    },
    {
     "data": {
      "application/vnd.jupyter.widget-view+json": {
       "model_id": "731994fbec684c3d8b7f28fbfe9405d6",
       "version_major": 2,
       "version_minor": 0
      },
      "text/plain": [
       "Epoch 13/20 [Val] :   0%|          | 0/188 [00:00<?, ?it/s]"
      ]
     },
     "metadata": {},
     "output_type": "display_data"
    },
    {
     "name": "stdout",
     "output_type": "stream",
     "text": [
      "Epoch 13/20 Summary: LR: 0.001 | Train Loss: 3.6508, Val Loss: 1.4154, Train R2 Score: 0.8821, Val R2 Score: 0.9753\n",
      "Stagnation Monitor: Нет улучшения для 2/4 epochs.\n",
      "Stagnation Monitor: Нет улучшения для 2/6 epochs.\n"
     ]
    },
    {
     "data": {
      "application/vnd.jupyter.widget-view+json": {
       "model_id": "2a89ddfa1ee14617a689750d5d20fc9a",
       "version_major": 2,
       "version_minor": 0
      },
      "text/plain": [
       "Epoch 14/20 [Train]:   0%|          | 0/1063 [00:00<?, ?it/s]"
      ]
     },
     "metadata": {},
     "output_type": "display_data"
    },
    {
     "data": {
      "application/vnd.jupyter.widget-view+json": {
       "model_id": "0c04cd905d814a0b875d8e8a57725bf3",
       "version_major": 2,
       "version_minor": 0
      },
      "text/plain": [
       "Epoch 14/20 [Val] :   0%|          | 0/188 [00:00<?, ?it/s]"
      ]
     },
     "metadata": {},
     "output_type": "display_data"
    },
    {
     "name": "stdout",
     "output_type": "stream",
     "text": [
      "Epoch 14/20 Summary: LR: 0.001 | Train Loss: 3.6785, Val Loss: 1.2599, Train R2 Score: 0.8814, Val R2 Score: 0.9783\n",
      "Stagnation Monitor: Нет улучшения для 3/4 epochs.\n",
      "Stagnation Monitor: Нет улучшения для 3/6 epochs.\n"
     ]
    },
    {
     "data": {
      "application/vnd.jupyter.widget-view+json": {
       "model_id": "e6d99ca5886140069eb96b2c40d704f9",
       "version_major": 2,
       "version_minor": 0
      },
      "text/plain": [
       "Epoch 15/20 [Train]:   0%|          | 0/1063 [00:00<?, ?it/s]"
      ]
     },
     "metadata": {},
     "output_type": "display_data"
    },
    {
     "data": {
      "application/vnd.jupyter.widget-view+json": {
       "model_id": "20a9843c221e40dfa2db241ff8f4a7e2",
       "version_major": 2,
       "version_minor": 0
      },
      "text/plain": [
       "Epoch 15/20 [Val] :   0%|          | 0/188 [00:00<?, ?it/s]"
      ]
     },
     "metadata": {},
     "output_type": "display_data"
    },
    {
     "name": "stdout",
     "output_type": "stream",
     "text": [
      "Epoch 15/20 Summary: LR: 0.001 | Train Loss: 3.6474, Val Loss: 1.3728, Train R2 Score: 0.8829, Val R2 Score: 0.9740\n",
      "Stagnation Monitor: Нет улучшения для 4/4 epochs.\n",
      "Stagnation Monitor: Стагнация обнаружена.\n",
      "------------------------------\n",
      "*** CRITERION SWITCH TRIGGERED ***\n",
      "Switching from MAECriterion to MSECriterion\n",
      "Stagnation Monitor: Reset.\n",
      "------------------------------\n"
     ]
    },
    {
     "data": {
      "application/vnd.jupyter.widget-view+json": {
       "model_id": "5ad4fcd89be04042946aad42c2036b58",
       "version_major": 2,
       "version_minor": 0
      },
      "text/plain": [
       "Epoch 16/20 [Train]:   0%|          | 0/1063 [00:00<?, ?it/s]"
      ]
     },
     "metadata": {},
     "output_type": "display_data"
    },
    {
     "data": {
      "application/vnd.jupyter.widget-view+json": {
       "model_id": "8ebd10c98b364cfcba08615948366034",
       "version_major": 2,
       "version_minor": 0
      },
      "text/plain": [
       "Epoch 16/20 [Val] :   0%|          | 0/188 [00:00<?, ?it/s]"
      ]
     },
     "metadata": {},
     "output_type": "display_data"
    },
    {
     "name": "stdout",
     "output_type": "stream",
     "text": [
      "Epoch 16/20 Summary: LR: 0.001 | Train Loss: 71.7215, Val Loss: 12.5936, Train R2 Score: 0.8791, Val R2 Score: 0.9731\n",
      "Stagnation Monitor: Нет улучшения для 1/6 epochs.\n"
     ]
    },
    {
     "data": {
      "application/vnd.jupyter.widget-view+json": {
       "model_id": "47ab4c391ebf42788179ca66b1ed6863",
       "version_major": 2,
       "version_minor": 0
      },
      "text/plain": [
       "Epoch 17/20 [Train]:   0%|          | 0/1063 [00:00<?, ?it/s]"
      ]
     },
     "metadata": {},
     "output_type": "display_data"
    },
    {
     "data": {
      "application/vnd.jupyter.widget-view+json": {
       "model_id": "f560131eb91b40a7b5d35a65c4251cc7",
       "version_major": 2,
       "version_minor": 0
      },
      "text/plain": [
       "Epoch 17/20 [Val] :   0%|          | 0/188 [00:00<?, ?it/s]"
      ]
     },
     "metadata": {},
     "output_type": "display_data"
    },
    {
     "name": "stdout",
     "output_type": "stream",
     "text": [
      "Epoch 17/20 Summary: LR: 0.001 | Train Loss: 70.0939, Val Loss: 8.9037, Train R2 Score: 0.8813, Val R2 Score: 0.9806\n",
      "Stagnation Monitor: Нет улучшения для 2/6 epochs.\n"
     ]
    },
    {
     "data": {
      "application/vnd.jupyter.widget-view+json": {
       "model_id": "53fddd2b5c37492c8ee45f319c578881",
       "version_major": 2,
       "version_minor": 0
      },
      "text/plain": [
       "Epoch 18/20 [Train]:   0%|          | 0/1063 [00:00<?, ?it/s]"
      ]
     },
     "metadata": {},
     "output_type": "display_data"
    },
    {
     "data": {
      "application/vnd.jupyter.widget-view+json": {
       "model_id": "bffd48997e4f4f4985b1bdfaea431c9d",
       "version_major": 2,
       "version_minor": 0
      },
      "text/plain": [
       "Epoch 18/20 [Val] :   0%|          | 0/188 [00:00<?, ?it/s]"
      ]
     },
     "metadata": {},
     "output_type": "display_data"
    },
    {
     "name": "stdout",
     "output_type": "stream",
     "text": [
      "Epoch 18/20 Summary: LR: 0.001 | Train Loss: 69.6970, Val Loss: 10.0744, Train R2 Score: 0.8818, Val R2 Score: 0.9816\n",
      "Stagnation Monitor: Нет улучшения для 3/6 epochs.\n"
     ]
    },
    {
     "data": {
      "application/vnd.jupyter.widget-view+json": {
       "model_id": "f0655ae4bc804554b030bfcacd3f130b",
       "version_major": 2,
       "version_minor": 0
      },
      "text/plain": [
       "Epoch 19/20 [Train]:   0%|          | 0/1063 [00:00<?, ?it/s]"
      ]
     },
     "metadata": {},
     "output_type": "display_data"
    },
    {
     "data": {
      "application/vnd.jupyter.widget-view+json": {
       "model_id": "1b40fc5786844762a8f21c37e94a5d14",
       "version_major": 2,
       "version_minor": 0
      },
      "text/plain": [
       "Epoch 19/20 [Val] :   0%|          | 0/188 [00:00<?, ?it/s]"
      ]
     },
     "metadata": {},
     "output_type": "display_data"
    },
    {
     "name": "stdout",
     "output_type": "stream",
     "text": [
      "Epoch 19/20 Summary: LR: 0.001 | Train Loss: 67.9712, Val Loss: 9.5156, Train R2 Score: 0.8848, Val R2 Score: 0.9809\n",
      "Stagnation Monitor: Нет улучшения для 4/6 epochs.\n"
     ]
    },
    {
     "data": {
      "application/vnd.jupyter.widget-view+json": {
       "model_id": "947508191d31407983092318be6da93a",
       "version_major": 2,
       "version_minor": 0
      },
      "text/plain": [
       "Epoch 20/20 [Train]:   0%|          | 0/1063 [00:00<?, ?it/s]"
      ]
     },
     "metadata": {},
     "output_type": "display_data"
    },
    {
     "data": {
      "application/vnd.jupyter.widget-view+json": {
       "model_id": "dc6c9d2625614a39adb171bbcd5e0658",
       "version_major": 2,
       "version_minor": 0
      },
      "text/plain": [
       "Epoch 20/20 [Val] :   0%|          | 0/188 [00:00<?, ?it/s]"
      ]
     },
     "metadata": {},
     "output_type": "display_data"
    },
    {
     "name": "stdout",
     "output_type": "stream",
     "text": [
      "Epoch 20/20 Summary: LR: 0.001 | Train Loss: 66.7643, Val Loss: 11.5098, Train R2 Score: 0.8861, Val R2 Score: 0.9776\n",
      "Stagnation Monitor: Нет улучшения для 5/6 epochs.\n",
      "\n",
      "Training finished.\n"
     ]
    },
    {
     "data": {
      "image/png": "[encoded data removed]",
      "text/plain": [
       "<Figure size 1600x500 with 2 Axes>"
      ]
     },
     "metadata": {},
     "output_type": "display_data"
    },
    {
     "data": {
      "application/vnd.jupyter.widget-view+json": {
       "model_id": "4156d08870914c7b87a225c6eba156e1",
       "version_major": 2,
       "version_minor": 0
      },
      "text/plain": [
       "[Test]:   0%|          | 0/313 [00:00<?, ?it/s]"
      ]
     },
     "metadata": {},
     "output_type": "display_data"
    },
    {
     "name": "stdout",
     "output_type": "stream",
     "text": [
      "Test результат:\n",
      "Test Loss: 1.4438\n",
      "Test R2 Score: 0.9773\n"
     ]
    },
    {
     "data": {
      "text/plain": [
       "(1.443753350155524, 0.9772622000447929)"
      ]
     },
     "execution_count": 35,
     "metadata": {},
     "output_type": "execute_result"
    }
   ],
   "source": [
    "# Начальные компоненты\n",
    "initial_criterion = MAECriterion()\n",
    "initial_optimizer = SGD(\n",
    "    model_reg_medium.getParameters(),\n",
    ")\n",
    "print(\n",
    "    f\"Начальные критерии ={initial_criterion.__class__.__name__}, Оптимайзер ={initial_optimizer.__class__.__name__}\"\n",
    ")\n",
    "\n",
    "loss_switch_config = {\n",
    "    \"patience\": 4,\n",
    "    \"threshold\": 1e-3,\n",
    "    \"mode\": \"min\",\n",
    "    \"verbose\": True,\n",
    "}\n",
    "\n",
    "next_criterion = MSECriterion()\n",
    "print(\n",
    "    f\"Loss Switch Config: Monitor val_loss, patience={loss_switch_config['patience']}, switch to {next_criterion.__class__.__name__}\"\n",
    ")\n",
    "\n",
    "optimizer_switch_config = {\n",
    "    \"patience\": 6,\n",
    "    \"threshold\": 5e-5,\n",
    "    \"mode\": \"min\",\n",
    "    \"verbose\": True,\n",
    "}\n",
    "\n",
    "\n",
    "next_opt_class = Adam\n",
    "next_opt_params = {\"learning_rate\": 1e-3}\n",
    "\n",
    "print(\n",
    "    f\"Optimizer Switch Config: Monitor val_loss, patience={optimizer_switch_config['patience']}, switch to {next_opt_class.__name__} with params {next_opt_params}\"\n",
    ")\n",
    "\n",
    "warmup_scheduler = WarmupLR(\n",
    "    optimizer=initial_optimizer, warmup_epochs=10, initial_lr=1e-3, target_lr=1e-2\n",
    ")\n",
    "\n",
    "reg_switch_history = train_validate_model(\n",
    "    model=model_reg_medium,\n",
    "    initial_criterion=initial_criterion,\n",
    "    initial_optimizer=initial_optimizer,\n",
    "    X_train=X_reg_train,\n",
    "    y_train=y_reg_train,\n",
    "    X_val=X_reg_val,\n",
    "    y_val=y_reg_val,\n",
    "    epochs=20,\n",
    "    batch_size=64,\n",
    "    # --- Параметры для переключения Criterion ---\n",
    "    loss_switch_trigger_config=loss_switch_config,\n",
    "    next_criterion_instance=next_criterion,\n",
    "    # --- Параметры для переключения Optimizer ---\n",
    "    optimizer_switch_trigger_config=optimizer_switch_config,\n",
    "    next_optimizer_class=next_opt_class,\n",
    "    next_optimizer_params=next_opt_params,\n",
    "    # --- Основные параметры ---\n",
    "    scheduler=None,\n",
    "    warmup_scheduler=warmup_scheduler,\n",
    "    early_stopping=None,\n",
    "    metric_func=calculate_r2,\n",
    "    metric_name=\"R2 Score\",\n",
    "    task_type=\"regression\",\n",
    "    metric_for_switch=\"val_loss\",\n",
    ")\n",
    "\n",
    "test_model(\n",
    "    model=model_reg_medium,\n",
    "    criterion=(\n",
    "        next_criterion\n",
    "        if \"next_criterion\" in locals()\n",
    "        and early_stopping_reg_switch.best_score is not None\n",
    "        and early_stopping_reg_switch.counter == 0\n",
    "        else initial_criterion\n",
    "    ),  # Используем критерий, который был активен при лучшей модели (или последний, если ES не сработал)\n",
    "    X_test=X_reg_test,\n",
    "    y_test=y_reg_test,\n",
    "    batch_size=64,\n",
    "    metric_func=calculate_r2,\n",
    "    metric_name=\"R2 Score\",\n",
    "    task_type=\"regression\",\n",
    ")"
   ]
  },
  {
   "cell_type": "code",
   "execution_count": 36,
   "metadata": {},
   "outputs": [
    {
     "name": "stdout",
     "output_type": "stream",
     "text": [
      "Начальные критерии =MAECriterion, Оптимайзер =SGD\n",
      "Loss Switch Config: Monitor val_loss, patience=8, switch to MSECriterion\n",
      "Optimizer Switch Config: Monitor val_loss, patience=4, switch to Adam with params {'learning_rate': 0.001}\n",
      "INFO: Loss switch monitoring enabled...\n",
      "INFO: Optimizer switch monitoring enabled...\n",
      "\n",
      "Starting training with Criterion: MAECriterion, Optimizer: SGD\n"
     ]
    },
    {
     "data": {
      "application/vnd.jupyter.widget-view+json": {
       "model_id": "98dd454dd5e34ef6bfe68ba7007cf620",
       "version_major": 2,
       "version_minor": 0
      },
      "text/plain": [
       "Epoch 1/20 [Train]:   0%|          | 0/2125 [00:00<?, ?it/s]"
      ]
     },
     "metadata": {},
     "output_type": "display_data"
    },
    {
     "data": {
      "application/vnd.jupyter.widget-view+json": {
       "model_id": "cc982bdaad2d46dd9462e476b2888074",
       "version_major": 2,
       "version_minor": 0
      },
      "text/plain": [
       "Epoch 1/20 [Val] :   0%|          | 0/375 [00:00<?, ?it/s]"
      ]
     },
     "metadata": {},
     "output_type": "display_data"
    },
    {
     "name": "stdout",
     "output_type": "stream",
     "text": [
      "Epoch 1/20 Summary: LR: 0.001 | Train Loss: 19.5342, Val Loss: 17.6073, Train R2 Score: -1384.7582, Val R2 Score: -55.4016\n",
      "  Validation loss decreased (inf --> 17.607332). Saving model ...\n"
     ]
    },
    {
     "data": {
      "application/vnd.jupyter.widget-view+json": {
       "model_id": "115fe93416a146ee9f39763e1f0d98bf",
       "version_major": 2,
       "version_minor": 0
      },
      "text/plain": [
       "Epoch 2/20 [Train]:   0%|          | 0/2125 [00:00<?, ?it/s]"
      ]
     },
     "metadata": {},
     "output_type": "display_data"
    },
    {
     "data": {
      "application/vnd.jupyter.widget-view+json": {
       "model_id": "7d69b593551c449d9300e986b5a08d40",
       "version_major": 2,
       "version_minor": 0
      },
      "text/plain": [
       "Epoch 2/20 [Val] :   0%|          | 0/375 [00:00<?, ?it/s]"
      ]
     },
     "metadata": {},
     "output_type": "display_data"
    },
    {
     "name": "stdout",
     "output_type": "stream",
     "text": [
      "Epoch 2/20 Summary: LR: 0.001 | Train Loss: 13.2223, Val Loss: 5.7854, Train R2 Score: -16.9743, Val R2 Score: 0.0359\n",
      "  Validation loss decreased (17.607332 --> 5.785410). Saving model ...\n"
     ]
    },
    {
     "data": {
      "application/vnd.jupyter.widget-view+json": {
       "model_id": "b351b2c7a27b499bbf2175d2ba213f59",
       "version_major": 2,
       "version_minor": 0
      },
      "text/plain": [
       "Epoch 3/20 [Train]:   0%|          | 0/2125 [00:00<?, ?it/s]"
      ]
     },
     "metadata": {},
     "output_type": "display_data"
    },
    {
     "data": {
      "application/vnd.jupyter.widget-view+json": {
       "model_id": "6e29d00102fe459a926591eb832668eb",
       "version_major": 2,
       "version_minor": 0
      },
      "text/plain": [
       "Epoch 3/20 [Val] :   0%|          | 0/375 [00:00<?, ?it/s]"
      ]
     },
     "metadata": {},
     "output_type": "display_data"
    },
    {
     "name": "stdout",
     "output_type": "stream",
     "text": [
      "Epoch 3/20 Summary: LR: 0.001 | Train Loss: 5.6951, Val Loss: 3.1855, Train R2 Score: 0.5962, Val R2 Score: 0.8909\n",
      "  Validation loss decreased (5.785410 --> 3.185493). Saving model ...\n"
     ]
    },
    {
     "data": {
      "application/vnd.jupyter.widget-view+json": {
       "model_id": "4658e48e180b4205a528a9feca8e5206",
       "version_major": 2,
       "version_minor": 0
      },
      "text/plain": [
       "Epoch 4/20 [Train]:   0%|          | 0/2125 [00:00<?, ?it/s]"
      ]
     },
     "metadata": {},
     "output_type": "display_data"
    },
    {
     "data": {
      "application/vnd.jupyter.widget-view+json": {
       "model_id": "f17c1cec41684b85b38e2577c5fa691d",
       "version_major": 2,
       "version_minor": 0
      },
      "text/plain": [
       "Epoch 4/20 [Val] :   0%|          | 0/375 [00:00<?, ?it/s]"
      ]
     },
     "metadata": {},
     "output_type": "display_data"
    },
    {
     "name": "stdout",
     "output_type": "stream",
     "text": [
      "Epoch 4/20 Summary: LR: 0.001 | Train Loss: 5.1740, Val Loss: 2.6504, Train R2 Score: 0.7399, Val R2 Score: 0.9204\n",
      "  Validation loss decreased (3.185493 --> 2.650414). Saving model ...\n"
     ]
    },
    {
     "data": {
      "application/vnd.jupyter.widget-view+json": {
       "model_id": "1fea220dc2dd4a08abfa26c082b2c192",
       "version_major": 2,
       "version_minor": 0
      },
      "text/plain": [
       "Epoch 5/20 [Train]:   0%|          | 0/2125 [00:00<?, ?it/s]"
      ]
     },
     "metadata": {},
     "output_type": "display_data"
    },
    {
     "data": {
      "application/vnd.jupyter.widget-view+json": {
       "model_id": "452a5a5fcfd749e292eadd46d62c91e1",
       "version_major": 2,
       "version_minor": 0
      },
      "text/plain": [
       "Epoch 5/20 [Val] :   0%|          | 0/375 [00:00<?, ?it/s]"
      ]
     },
     "metadata": {},
     "output_type": "display_data"
    },
    {
     "name": "stdout",
     "output_type": "stream",
     "text": [
      "Epoch 5/20 Summary: LR: 0.001 | Train Loss: 5.0093, Val Loss: 2.7353, Train R2 Score: 0.7631, Val R2 Score: 0.9233\n",
      "Stagnation Monitor: Нет улучшения для 1/8 epochs.\n",
      "Stagnation Monitor: Нет улучшения для 1/4 epochs.\n",
      "  EarlyStopping counter: 1 out of 10\n"
     ]
    },
    {
     "data": {
      "application/vnd.jupyter.widget-view+json": {
       "model_id": "303f1d2b778a4317a182faaa0f2f84e7",
       "version_major": 2,
       "version_minor": 0
      },
      "text/plain": [
       "Epoch 6/20 [Train]:   0%|          | 0/2125 [00:00<?, ?it/s]"
      ]
     },
     "metadata": {},
     "output_type": "display_data"
    },
    {
     "data": {
      "application/vnd.jupyter.widget-view+json": {
       "model_id": "e9853790676342be82d124ce2ec594b3",
       "version_major": 2,
       "version_minor": 0
      },
      "text/plain": [
       "Epoch 6/20 [Val] :   0%|          | 0/375 [00:00<?, ?it/s]"
      ]
     },
     "metadata": {},
     "output_type": "display_data"
    },
    {
     "name": "stdout",
     "output_type": "stream",
     "text": [
      "Epoch 6/20 Summary: LR: 0.001 | Train Loss: 4.9115, Val Loss: 2.6019, Train R2 Score: 0.7750, Val R2 Score: 0.9299\n",
      "  Validation loss decreased (2.650414 --> 2.601935). Saving model ...\n"
     ]
    },
    {
     "data": {
      "application/vnd.jupyter.widget-view+json": {
       "model_id": "5be6c3b657ec43bcafddfc5c791b288e",
       "version_major": 2,
       "version_minor": 0
      },
      "text/plain": [
       "Epoch 7/20 [Train]:   0%|          | 0/2125 [00:00<?, ?it/s]"
      ]
     },
     "metadata": {},
     "output_type": "display_data"
    },
    {
     "data": {
      "application/vnd.jupyter.widget-view+json": {
       "model_id": "f6688f4b2be94fe294ad71d20709a849",
       "version_major": 2,
       "version_minor": 0
      },
      "text/plain": [
       "Epoch 7/20 [Val] :   0%|          | 0/375 [00:00<?, ?it/s]"
      ]
     },
     "metadata": {},
     "output_type": "display_data"
    },
    {
     "name": "stdout",
     "output_type": "stream",
     "text": [
      "Epoch 7/20 Summary: LR: 0.001 | Train Loss: 4.8541, Val Loss: 2.4899, Train R2 Score: 0.7827, Val R2 Score: 0.9328\n",
      "  Validation loss decreased (2.601935 --> 2.489910). Saving model ...\n"
     ]
    },
    {
     "data": {
      "application/vnd.jupyter.widget-view+json": {
       "model_id": "e7467002f7ae4d33b6653121f5354733",
       "version_major": 2,
       "version_minor": 0
      },
      "text/plain": [
       "Epoch 8/20 [Train]:   0%|          | 0/2125 [00:00<?, ?it/s]"
      ]
     },
     "metadata": {},
     "output_type": "display_data"
    },
    {
     "data": {
      "application/vnd.jupyter.widget-view+json": {
       "model_id": "67bbd35f57b540c886aa8c433b4fef15",
       "version_major": 2,
       "version_minor": 0
      },
      "text/plain": [
       "Epoch 8/20 [Val] :   0%|          | 0/375 [00:00<?, ?it/s]"
      ]
     },
     "metadata": {},
     "output_type": "display_data"
    },
    {
     "name": "stdout",
     "output_type": "stream",
     "text": [
      "Epoch 8/20 Summary: LR: 0.001 | Train Loss: 4.7942, Val Loss: 2.4656, Train R2 Score: 0.7887, Val R2 Score: 0.9345\n",
      "  Validation loss decreased (2.489910 --> 2.465567). Saving model ...\n"
     ]
    },
    {
     "data": {
      "application/vnd.jupyter.widget-view+json": {
       "model_id": "f9ac33cfecbe4222a81c7ecc1d020d9c",
       "version_major": 2,
       "version_minor": 0
      },
      "text/plain": [
       "Epoch 9/20 [Train]:   0%|          | 0/2125 [00:00<?, ?it/s]"
      ]
     },
     "metadata": {},
     "output_type": "display_data"
    },
    {
     "data": {
      "application/vnd.jupyter.widget-view+json": {
       "model_id": "0cfd9ceada4e4f3e908db0699aae60cf",
       "version_major": 2,
       "version_minor": 0
      },
      "text/plain": [
       "Epoch 9/20 [Val] :   0%|          | 0/375 [00:00<?, ?it/s]"
      ]
     },
     "metadata": {},
     "output_type": "display_data"
    },
    {
     "name": "stdout",
     "output_type": "stream",
     "text": [
      "Epoch 9/20 Summary: LR: 0.001 | Train Loss: 4.7716, Val Loss: 2.4380, Train R2 Score: 0.7919, Val R2 Score: 0.9350\n",
      "  Validation loss decreased (2.465567 --> 2.438038). Saving model ...\n"
     ]
    },
    {
     "data": {
      "application/vnd.jupyter.widget-view+json": {
       "model_id": "49919ee2ad29425fb18dce0482c58cfe",
       "version_major": 2,
       "version_minor": 0
      },
      "text/plain": [
       "Epoch 10/20 [Train]:   0%|          | 0/2125 [00:00<?, ?it/s]"
      ]
     },
     "metadata": {},
     "output_type": "display_data"
    },
    {
     "data": {
      "application/vnd.jupyter.widget-view+json": {
       "model_id": "cb5d663852b54ed8adcb6392ed20c057",
       "version_major": 2,
       "version_minor": 0
      },
      "text/plain": [
       "Epoch 10/20 [Val] :   0%|          | 0/375 [00:00<?, ?it/s]"
      ]
     },
     "metadata": {},
     "output_type": "display_data"
    },
    {
     "name": "stdout",
     "output_type": "stream",
     "text": [
      "Epoch 10/20 Summary: LR: 0.0001 | Train Loss: 4.7350, Val Loss: 2.6389, Train R2 Score: 0.7957, Val R2 Score: 0.9322\n",
      "Stagnation Monitor: Нет улучшения для 1/8 epochs.\n",
      "Stagnation Monitor: Нет улучшения для 1/4 epochs.\n",
      "  EarlyStopping counter: 1 out of 10\n"
     ]
    },
    {
     "data": {
      "application/vnd.jupyter.widget-view+json": {
       "model_id": "171211e97ac04eb083b175662e36084c",
       "version_major": 2,
       "version_minor": 0
      },
      "text/plain": [
       "Epoch 11/20 [Train]:   0%|          | 0/2125 [00:00<?, ?it/s]"
      ]
     },
     "metadata": {},
     "output_type": "display_data"
    },
    {
     "data": {
      "application/vnd.jupyter.widget-view+json": {
       "model_id": "53bc585839fb4d9d8525f0ac17ee08ca",
       "version_major": 2,
       "version_minor": 0
      },
      "text/plain": [
       "Epoch 11/20 [Val] :   0%|          | 0/375 [00:00<?, ?it/s]"
      ]
     },
     "metadata": {},
     "output_type": "display_data"
    },
    {
     "name": "stdout",
     "output_type": "stream",
     "text": [
      "Epoch 11/20 Summary: LR: 0.0001 | Train Loss: 4.7356, Val Loss: 2.5379, Train R2 Score: 0.7947, Val R2 Score: 0.9324\n",
      "Stagnation Monitor: Нет улучшения для 2/8 epochs.\n",
      "Stagnation Monitor: Нет улучшения для 2/4 epochs.\n",
      "  EarlyStopping counter: 2 out of 10\n"
     ]
    },
    {
     "data": {
      "application/vnd.jupyter.widget-view+json": {
       "model_id": "19460c67cc8644788ad02542f7b07e90",
       "version_major": 2,
       "version_minor": 0
      },
      "text/plain": [
       "Epoch 12/20 [Train]:   0%|          | 0/2125 [00:00<?, ?it/s]"
      ]
     },
     "metadata": {},
     "output_type": "display_data"
    },
    {
     "data": {
      "application/vnd.jupyter.widget-view+json": {
       "model_id": "84934e021e03451bbaa272edb2942ece",
       "version_major": 2,
       "version_minor": 0
      },
      "text/plain": [
       "Epoch 12/20 [Val] :   0%|          | 0/375 [00:00<?, ?it/s]"
      ]
     },
     "metadata": {},
     "output_type": "display_data"
    },
    {
     "name": "stdout",
     "output_type": "stream",
     "text": [
      "Epoch 12/20 Summary: LR: 0.0001 | Train Loss: 4.7182, Val Loss: 2.5020, Train R2 Score: 0.7965, Val R2 Score: 0.9330\n",
      "Stagnation Monitor: Нет улучшения для 3/8 epochs.\n",
      "Stagnation Monitor: Нет улучшения для 3/4 epochs.\n",
      "  EarlyStopping counter: 3 out of 10\n"
     ]
    },
    {
     "data": {
      "application/vnd.jupyter.widget-view+json": {
       "model_id": "edaaf9e25d4e458a86574079bff10c26",
       "version_major": 2,
       "version_minor": 0
      },
      "text/plain": [
       "Epoch 13/20 [Train]:   0%|          | 0/2125 [00:00<?, ?it/s]"
      ]
     },
     "metadata": {},
     "output_type": "display_data"
    },
    {
     "data": {
      "application/vnd.jupyter.widget-view+json": {
       "model_id": "0d9d122370d84f14a3664e4adb5b001b",
       "version_major": 2,
       "version_minor": 0
      },
      "text/plain": [
       "Epoch 13/20 [Val] :   0%|          | 0/375 [00:00<?, ?it/s]"
      ]
     },
     "metadata": {},
     "output_type": "display_data"
    },
    {
     "name": "stdout",
     "output_type": "stream",
     "text": [
      "Epoch 13/20 Summary: LR: 0.0001 | Train Loss: 4.7145, Val Loss: 2.3640, Train R2 Score: 0.7972, Val R2 Score: 0.9393\n",
      "  Validation loss decreased (2.438038 --> 2.363965). Saving model ...\n"
     ]
    },
    {
     "data": {
      "application/vnd.jupyter.widget-view+json": {
       "model_id": "e559f662ba3e4ea58c15a98c4a904e19",
       "version_major": 2,
       "version_minor": 0
      },
      "text/plain": [
       "Epoch 14/20 [Train]:   0%|          | 0/2125 [00:00<?, ?it/s]"
      ]
     },
     "metadata": {},
     "output_type": "display_data"
    },
    {
     "data": {
      "application/vnd.jupyter.widget-view+json": {
       "model_id": "011574eb82f049b78afa2b8d7906768c",
       "version_major": 2,
       "version_minor": 0
      },
      "text/plain": [
       "Epoch 14/20 [Val] :   0%|          | 0/375 [00:00<?, ?it/s]"
      ]
     },
     "metadata": {},
     "output_type": "display_data"
    },
    {
     "name": "stdout",
     "output_type": "stream",
     "text": [
      "Epoch 14/20 Summary: LR: 0.0001 | Train Loss: 4.7052, Val Loss: 2.3564, Train R2 Score: 0.7980, Val R2 Score: 0.9395\n",
      "  Validation loss decreased (2.363965 --> 2.356436). Saving model ...\n"
     ]
    },
    {
     "data": {
      "application/vnd.jupyter.widget-view+json": {
       "model_id": "da2d4e05f89e4d43896e9393dad8e951",
       "version_major": 2,
       "version_minor": 0
      },
      "text/plain": [
       "Epoch 15/20 [Train]:   0%|          | 0/2125 [00:00<?, ?it/s]"
      ]
     },
     "metadata": {},
     "output_type": "display_data"
    },
    {
     "data": {
      "application/vnd.jupyter.widget-view+json": {
       "model_id": "61481d9dc4a24ef999e475f55e5a382f",
       "version_major": 2,
       "version_minor": 0
      },
      "text/plain": [
       "Epoch 15/20 [Val] :   0%|          | 0/375 [00:00<?, ?it/s]"
      ]
     },
     "metadata": {},
     "output_type": "display_data"
    },
    {
     "name": "stdout",
     "output_type": "stream",
     "text": [
      "Epoch 15/20 Summary: LR: 0.0001 | Train Loss: 4.6848, Val Loss: 2.4709, Train R2 Score: 0.8000, Val R2 Score: 0.9357\n",
      "Stagnation Monitor: Нет улучшения для 1/8 epochs.\n",
      "Stagnation Monitor: Нет улучшения для 1/4 epochs.\n",
      "  EarlyStopping counter: 1 out of 10\n"
     ]
    },
    {
     "data": {
      "application/vnd.jupyter.widget-view+json": {
       "model_id": "18618f45185b4231934ecc5094821604",
       "version_major": 2,
       "version_minor": 0
      },
      "text/plain": [
       "Epoch 16/20 [Train]:   0%|          | 0/2125 [00:00<?, ?it/s]"
      ]
     },
     "metadata": {},
     "output_type": "display_data"
    },
    {
     "data": {
      "application/vnd.jupyter.widget-view+json": {
       "model_id": "5a3e2443684b47d0be9bee32fb8beeb6",
       "version_major": 2,
       "version_minor": 0
      },
      "text/plain": [
       "Epoch 16/20 [Val] :   0%|          | 0/375 [00:00<?, ?it/s]"
      ]
     },
     "metadata": {},
     "output_type": "display_data"
    },
    {
     "name": "stdout",
     "output_type": "stream",
     "text": [
      "Epoch 16/20 Summary: LR: 0.0001 | Train Loss: 4.6889, Val Loss: 2.3383, Train R2 Score: 0.7992, Val R2 Score: 0.9388\n",
      "  Validation loss decreased (2.356436 --> 2.338304). Saving model ...\n"
     ]
    },
    {
     "data": {
      "application/vnd.jupyter.widget-view+json": {
       "model_id": "dbe727a9d2c9460cb27dfa5404f8022f",
       "version_major": 2,
       "version_minor": 0
      },
      "text/plain": [
       "Epoch 17/20 [Train]:   0%|          | 0/2125 [00:00<?, ?it/s]"
      ]
     },
     "metadata": {},
     "output_type": "display_data"
    },
    {
     "data": {
      "application/vnd.jupyter.widget-view+json": {
       "model_id": "9876729d8f364452977b33015f1dc146",
       "version_major": 2,
       "version_minor": 0
      },
      "text/plain": [
       "Epoch 17/20 [Val] :   0%|          | 0/375 [00:00<?, ?it/s]"
      ]
     },
     "metadata": {},
     "output_type": "display_data"
    },
    {
     "name": "stdout",
     "output_type": "stream",
     "text": [
      "Epoch 17/20 Summary: LR: 0.0001 | Train Loss: 4.6836, Val Loss: 2.4556, Train R2 Score: 0.8000, Val R2 Score: 0.9351\n",
      "Stagnation Monitor: Нет улучшения для 1/8 epochs.\n",
      "Stagnation Monitor: Нет улучшения для 1/4 epochs.\n",
      "  EarlyStopping counter: 1 out of 10\n"
     ]
    },
    {
     "data": {
      "application/vnd.jupyter.widget-view+json": {
       "model_id": "b972ed589bd547da89d084fe7f3566a1",
       "version_major": 2,
       "version_minor": 0
      },
      "text/plain": [
       "Epoch 18/20 [Train]:   0%|          | 0/2125 [00:00<?, ?it/s]"
      ]
     },
     "metadata": {},
     "output_type": "display_data"
    },
    {
     "data": {
      "application/vnd.jupyter.widget-view+json": {
       "model_id": "78c12c9d831e4225b14d08227cebb3dc",
       "version_major": 2,
       "version_minor": 0
      },
      "text/plain": [
       "Epoch 18/20 [Val] :   0%|          | 0/375 [00:00<?, ?it/s]"
      ]
     },
     "metadata": {},
     "output_type": "display_data"
    },
    {
     "name": "stdout",
     "output_type": "stream",
     "text": [
      "Epoch 18/20 Summary: LR: 0.0001 | Train Loss: 4.7159, Val Loss: 2.4031, Train R2 Score: 0.7984, Val R2 Score: 0.9389\n",
      "Stagnation Monitor: Нет улучшения для 2/8 epochs.\n",
      "Stagnation Monitor: Нет улучшения для 2/4 epochs.\n",
      "  EarlyStopping counter: 2 out of 10\n"
     ]
    },
    {
     "data": {
      "application/vnd.jupyter.widget-view+json": {
       "model_id": "caef59ce9a7d420e821b66871f3cd264",
       "version_major": 2,
       "version_minor": 0
      },
      "text/plain": [
       "Epoch 19/20 [Train]:   0%|          | 0/2125 [00:00<?, ?it/s]"
      ]
     },
     "metadata": {},
     "output_type": "display_data"
    },
    {
     "data": {
      "application/vnd.jupyter.widget-view+json": {
       "model_id": "e7d3d84f498c4c409ea98a7627cfa2d9",
       "version_major": 2,
       "version_minor": 0
      },
      "text/plain": [
       "Epoch 19/20 [Val] :   0%|          | 0/375 [00:00<?, ?it/s]"
      ]
     },
     "metadata": {},
     "output_type": "display_data"
    },
    {
     "name": "stdout",
     "output_type": "stream",
     "text": [
      "Epoch 19/20 Summary: LR: 0.0001 | Train Loss: 4.6866, Val Loss: 2.3822, Train R2 Score: 0.8000, Val R2 Score: 0.9386\n",
      "Stagnation Monitor: Нет улучшения для 3/8 epochs.\n",
      "Stagnation Monitor: Нет улучшения для 3/4 epochs.\n",
      "  EarlyStopping counter: 3 out of 10\n"
     ]
    },
    {
     "data": {
      "application/vnd.jupyter.widget-view+json": {
       "model_id": "307c508b26f7428ab33d72ba9744065e",
       "version_major": 2,
       "version_minor": 0
      },
      "text/plain": [
       "Epoch 20/20 [Train]:   0%|          | 0/2125 [00:00<?, ?it/s]"
      ]
     },
     "metadata": {},
     "output_type": "display_data"
    },
    {
     "data": {
      "application/vnd.jupyter.widget-view+json": {
       "model_id": "bcf9d08a80784aba907cd0aacce60bc5",
       "version_major": 2,
       "version_minor": 0
      },
      "text/plain": [
       "Epoch 20/20 [Val] :   0%|          | 0/375 [00:00<?, ?it/s]"
      ]
     },
     "metadata": {},
     "output_type": "display_data"
    },
    {
     "name": "stdout",
     "output_type": "stream",
     "text": [
      "Epoch 20/20 Summary: LR: 1e-05 | Train Loss: 4.7030, Val Loss: 2.3770, Train R2 Score: 0.7991, Val R2 Score: 0.9390\n",
      "Stagnation Monitor: Нет улучшения для 4/8 epochs.\n",
      "Stagnation Monitor: Нет улучшения для 4/4 epochs.\n",
      "Stagnation Monitor: Стагнация обнаружена.\n",
      "  Optimizer stagnation detected, but waiting for potential loss switch.\n",
      "  EarlyStopping counter: 4 out of 10\n",
      "\n",
      "Training finished.\n",
      "Loading best model based on early stopping criterion...\n",
      "Loading best model from models/best_regression_model_large_switched.pkl with val_loss: 2.338304\n"
     ]
    },
    {
     "data": {
      "image/png": "[encoded data removed]",
      "text/plain": [
       "<Figure size 1600x500 with 2 Axes>"
      ]
     },
     "metadata": {},
     "output_type": "display_data"
    },
    {
     "data": {
      "application/vnd.jupyter.widget-view+json": {
       "model_id": "b5d877da6e8c4779842d3bfb2cb241ad",
       "version_major": 2,
       "version_minor": 0
      },
      "text/plain": [
       "[Test]:   0%|          | 0/313 [00:00<?, ?it/s]"
      ]
     },
     "metadata": {},
     "output_type": "display_data"
    },
    {
     "name": "stdout",
     "output_type": "stream",
     "text": [
      "Test результат:\n",
      "Test Loss: 2.3632\n",
      "Test R2 Score: 0.9389\n"
     ]
    },
    {
     "data": {
      "text/plain": [
       "(2.3631608051379476, 0.9389259734654887)"
      ]
     },
     "execution_count": 36,
     "metadata": {},
     "output_type": "execute_result"
    }
   ],
   "source": [
    "# Начальные компоненты\n",
    "initial_criterion = MAECriterion()\n",
    "initial_optimizer = SGD(\n",
    "    model_reg_large.getParameters(),\n",
    ")\n",
    "print(\n",
    "    f\"Начальные критерии ={initial_criterion.__class__.__name__}, Оптимайзер ={initial_optimizer.__class__.__name__}\"\n",
    ")\n",
    "\n",
    "loss_switch_config = {\n",
    "    \"patience\": 8,\n",
    "    \"threshold\": 1e-3,\n",
    "    \"mode\": \"min\",\n",
    "    \"verbose\": True,\n",
    "}\n",
    "\n",
    "next_criterion = MSECriterion()\n",
    "print(\n",
    "    f\"Loss Switch Config: Monitor val_loss, patience={loss_switch_config['patience']}, switch to {next_criterion.__class__.__name__}\"\n",
    ")\n",
    "\n",
    "optimizer_switch_config = {\n",
    "    \"patience\": 4,\n",
    "    \"threshold\": 5e-5,\n",
    "    \"mode\": \"min\",\n",
    "    \"verbose\": True,\n",
    "}\n",
    "\n",
    "\n",
    "next_opt_class = Adam\n",
    "next_opt_params = {\"learning_rate\": 1e-3}\n",
    "\n",
    "print(\n",
    "    f\"Optimizer Switch Config: Monitor val_loss, patience={optimizer_switch_config['patience']}, switch to {next_opt_class.__name__} with params {next_opt_params}\"\n",
    ")\n",
    "\n",
    "# Early Stopping (увеличим patience, чтобы дать шанс переключениям)\n",
    "early_stopping_reg_switch = EarlyStopping(\n",
    "    patience=10,\n",
    "    verbose=True,\n",
    "    path=\"models/best_regression_model_large_switched.pkl\",\n",
    ")\n",
    "\n",
    "lr_scheduler = StepLR(initial_optimizer, step_size=10, gamma=0.1)\n",
    "\n",
    "reg_switch_history = train_validate_model(\n",
    "    model=model_reg_large,\n",
    "    initial_criterion=initial_criterion,\n",
    "    initial_optimizer=initial_optimizer,\n",
    "    X_train=X_reg_train,\n",
    "    y_train=y_reg_train,\n",
    "    X_val=X_reg_val,\n",
    "    y_val=y_reg_val,\n",
    "    epochs=20,\n",
    "    batch_size=32,\n",
    "    # --- Параметры для переключения Criterion ---\n",
    "    loss_switch_trigger_config=loss_switch_config,\n",
    "    next_criterion_instance=next_criterion,\n",
    "    # --- Параметры для переключения Optimizer ---\n",
    "    optimizer_switch_trigger_config=optimizer_switch_config,\n",
    "    next_optimizer_class=next_opt_class,\n",
    "    next_optimizer_params=next_opt_params,\n",
    "    # --- Основные параметры ---\n",
    "    scheduler=lr_scheduler,\n",
    "    warmup_scheduler=None,\n",
    "    early_stopping=early_stopping_reg_switch,\n",
    "    metric_func=calculate_r2,\n",
    "    metric_name=\"R2 Score\",\n",
    "    task_type=\"regression\",\n",
    "    metric_for_switch=\"val_loss\",\n",
    ")\n",
    "\n",
    "test_model(\n",
    "    model=model_reg_large,\n",
    "    criterion=(\n",
    "        next_criterion\n",
    "        if \"next_criterion\" in locals()\n",
    "        and early_stopping_reg_switch.best_score is not None\n",
    "        and early_stopping_reg_switch.counter == 0\n",
    "        else initial_criterion\n",
    "    ),  # Используем критерий, который был активен при лучшей модели (или последний, если ES не сработал)\n",
    "    X_test=X_reg_test,\n",
    "    y_test=y_reg_test,\n",
    "    batch_size=64,\n",
    "    metric_func=calculate_r2,\n",
    "    metric_name=\"R2 Score\",\n",
    "    task_type=\"regression\",\n",
    ")"
   ]
  },
  {
   "cell_type": "markdown",
   "metadata": {},
   "source": [
    "# Обучение CNN модел на датасете MNIST "
   ]
  },
  {
   "cell_type": "code",
   "execution_count": null,
   "metadata": {},
   "outputs": [],
   "source": [
    "mnist_train_val = MNIST(root=\"./data\", train=True, download=True, transform=ToTensor())\n",
    "mnist_test = MNIST(root=\"./data\", train=False, download=True, transform=ToTensor())\n",
    "\n",
    "X_mnist = (\n",
    "    mnist_train_val.data.numpy().astype(np.float32) / 255.0\n",
    ")  # Нормализация в [0, 1]\n",
    "y_mnist = mnist_train_val.targets.numpy()\n",
    "X_test_mnist = mnist_test.data.numpy().astype(np.float32) / 255.0\n",
    "y_test_mnist = mnist_test.targets.numpy()\n",
    "\n",
    "# Добавляем ось каналов\n",
    "X_mnist = X_mnist[:, None, :, :]  # (60000, 1, 28, 28)\n",
    "X_test_mnist = X_test_mnist[:, None, :, :]  # (10000, 1, 28, 28)\n",
    "\n",
    "\n",
    "X_train_mnist, X_val_mnist, y_train_mnist, y_val_mnist = train_test_split(\n",
    "    X_mnist,\n",
    "    y_mnist,\n",
    "    test_size=0.25,\n",
    "    random_state=42,\n",
    "    stratify=y_mnist,\n",
    ")"
   ]
  },
  {
   "cell_type": "code",
   "execution_count": 39,
   "metadata": {},
   "outputs": [
    {
     "name": "stdout",
     "output_type": "stream",
     "text": [
      "\n",
      "Starting training with Criterion: CrossEntropyCriterion, Optimizer: Adam\n"
     ]
    },
    {
     "data": {
      "application/vnd.jupyter.widget-view+json": {
       "model_id": "25dee8bb65e4419286c6f08d653c063d",
       "version_major": 2,
       "version_minor": 0
      },
      "text/plain": [
       "Epoch 1/5 [Train]:   0%|          | 0/1407 [00:00<?, ?it/s]"
      ]
     },
     "metadata": {},
     "output_type": "display_data"
    },
    {
     "data": {
      "application/vnd.jupyter.widget-view+json": {
       "model_id": "6f67992230694fc48b8f86c91acbd62c",
       "version_major": 2,
       "version_minor": 0
      },
      "text/plain": [
       "Epoch 1/5 [Val] :   0%|          | 0/469 [00:00<?, ?it/s]"
      ]
     },
     "metadata": {},
     "output_type": "display_data"
    },
    {
     "name": "stdout",
     "output_type": "stream",
     "text": [
      "Epoch 1/5 Summary: LR: 0.005 | Train Loss: 0.1523, Val Loss: 0.0559, Train f1-score('weighted'): 0.9523, Val f1-score('weighted'): 0.9826\n",
      "  Validation loss decreased (inf --> 0.055915). Saving model ...\n"
     ]
    },
    {
     "data": {
      "application/vnd.jupyter.widget-view+json": {
       "model_id": "c8c692216ba440848ad04ddfda892727",
       "version_major": 2,
       "version_minor": 0
      },
      "text/plain": [
       "Epoch 2/5 [Train]:   0%|          | 0/1407 [00:00<?, ?it/s]"
      ]
     },
     "metadata": {},
     "output_type": "display_data"
    },
    {
     "data": {
      "application/vnd.jupyter.widget-view+json": {
       "model_id": "f2bf45c0f64c4c25847eeb7345f3dc98",
       "version_major": 2,
       "version_minor": 0
      },
      "text/plain": [
       "Epoch 2/5 [Val] :   0%|          | 0/469 [00:00<?, ?it/s]"
      ]
     },
     "metadata": {},
     "output_type": "display_data"
    },
    {
     "name": "stdout",
     "output_type": "stream",
     "text": [
      "Epoch 2/5 Summary: LR: 0.005 | Train Loss: 0.0751, Val Loss: 0.0498, Train f1-score('weighted'): 0.9758, Val f1-score('weighted'): 0.9840\n",
      "  Validation loss decreased (0.055915 --> 0.049751). Saving model ...\n"
     ]
    },
    {
     "data": {
      "application/vnd.jupyter.widget-view+json": {
       "model_id": "0d3cdf7c74b841bd81ae751ffb1f0d90",
       "version_major": 2,
       "version_minor": 0
      },
      "text/plain": [
       "Epoch 3/5 [Train]:   0%|          | 0/1407 [00:00<?, ?it/s]"
      ]
     },
     "metadata": {},
     "output_type": "display_data"
    },
    {
     "data": {
      "application/vnd.jupyter.widget-view+json": {
       "model_id": "2df1be59465d44728cb679d25aef7e99",
       "version_major": 2,
       "version_minor": 0
      },
      "text/plain": [
       "Epoch 3/5 [Val] :   0%|          | 0/469 [00:00<?, ?it/s]"
      ]
     },
     "metadata": {},
     "output_type": "display_data"
    },
    {
     "name": "stdout",
     "output_type": "stream",
     "text": [
      "Epoch 3/5 Summary: LR: 0.005 | Train Loss: 0.0592, Val Loss: 0.0408, Train f1-score('weighted'): 0.9804, Val f1-score('weighted'): 0.9877\n",
      "  Validation loss decreased (0.049751 --> 0.040835). Saving model ...\n"
     ]
    },
    {
     "data": {
      "application/vnd.jupyter.widget-view+json": {
       "model_id": "6af9936074824d0093ca1e87977a6f21",
       "version_major": 2,
       "version_minor": 0
      },
      "text/plain": [
       "Epoch 4/5 [Train]:   0%|          | 0/1407 [00:00<?, ?it/s]"
      ]
     },
     "metadata": {},
     "output_type": "display_data"
    },
    {
     "data": {
      "application/vnd.jupyter.widget-view+json": {
       "model_id": "0c9d10de21ae4e9c83b9e2dabb7187c5",
       "version_major": 2,
       "version_minor": 0
      },
      "text/plain": [
       "Epoch 4/5 [Val] :   0%|          | 0/469 [00:00<?, ?it/s]"
      ]
     },
     "metadata": {},
     "output_type": "display_data"
    },
    {
     "name": "stdout",
     "output_type": "stream",
     "text": [
      "Epoch 4/5 Summary: LR: 0.005 | Train Loss: 0.0543, Val Loss: 0.0407, Train f1-score('weighted'): 0.9821, Val f1-score('weighted'): 0.9880\n",
      "  Validation loss decreased (0.040835 --> 0.040726). Saving model ...\n"
     ]
    },
    {
     "data": {
      "application/vnd.jupyter.widget-view+json": {
       "model_id": "1d35a9ebacb6460a8c459ffcc4d8cdca",
       "version_major": 2,
       "version_minor": 0
      },
      "text/plain": [
       "Epoch 5/5 [Train]:   0%|          | 0/1407 [00:00<?, ?it/s]"
      ]
     },
     "metadata": {},
     "output_type": "display_data"
    },
    {
     "data": {
      "application/vnd.jupyter.widget-view+json": {
       "model_id": "8810b4a34d02444d9dbc732e1c028a73",
       "version_major": 2,
       "version_minor": 0
      },
      "text/plain": [
       "Epoch 5/5 [Val] :   0%|          | 0/469 [00:00<?, ?it/s]"
      ]
     },
     "metadata": {},
     "output_type": "display_data"
    },
    {
     "name": "stdout",
     "output_type": "stream",
     "text": [
      "Epoch 5/5 Summary: LR: 0.005 | Train Loss: 0.0504, Val Loss: 0.0340, Train f1-score('weighted'): 0.9837, Val f1-score('weighted'): 0.9904\n",
      "  Validation loss decreased (0.040726 --> 0.033980). Saving model ...\n",
      "\n",
      "Training finished.\n",
      "Loading best model based on early stopping criterion...\n",
      "Loading best model from models/best_cnn_model.pkl with val_loss: 0.033980\n"
     ]
    },
    {
     "data": {
      "image/png": "[encoded data removed]",
      "text/plain": [
       "<Figure size 1600x500 with 2 Axes>"
      ]
     },
     "metadata": {},
     "output_type": "display_data"
    },
    {
     "data": {
      "application/vnd.jupyter.widget-view+json": {
       "model_id": "e814d9a716b54e01920e438b64db3637",
       "version_major": 2,
       "version_minor": 0
      },
      "text/plain": [
       "[Test]:   0%|          | 0/313 [00:00<?, ?it/s]"
      ]
     },
     "metadata": {},
     "output_type": "display_data"
    },
    {
     "name": "stdout",
     "output_type": "stream",
     "text": [
      "Test результат:\n",
      "Test Loss: 0.0343\n",
      "Test f1-score('weighted'): 0.9895\n"
     ]
    },
    {
     "data": {
      "text/plain": [
       "(0.03426074209941709, 0.9894706344635755)"
      ]
     },
     "execution_count": 39,
     "metadata": {},
     "output_type": "execute_result"
    }
   ],
   "source": [
    "model_cnn = Sequential()  # Вход: (N, 1, 28, 28)\n",
    "\n",
    "model_cnn.add(Conv2d(in_channels=1, out_channels=32, kernel_size=3, padding=1))\n",
    "model_cnn.add(ReLU())\n",
    "model_cnn.add(MaxPool2d(kernel_size=2, stride=2))  # Выход: (N, 32, 14, 14)\n",
    "\n",
    "model_cnn.add(Conv2d(in_channels=32, out_channels=64, kernel_size=3, padding=1))\n",
    "model_cnn.add(ReLU())\n",
    "model_cnn.add(MaxPool2d(kernel_size=2, stride=2))  # Выход: (N, 64, 7, 7)\n",
    "model_cnn.add(Dropout(p=0.1))\n",
    "\n",
    "model_cnn.add(\n",
    "    Conv2d(in_channels=64, out_channels=128, kernel_size=3, padding=1)\n",
    ")  # Выход: (N, 128, 7, 7)\n",
    "model_cnn.add(ReLU())\n",
    "model_cnn.add(Dropout(p=0.2))\n",
    "\n",
    "model_cnn.add(AvgPool2d(kernel_size=7))  # Выход: (N, 128, 1, 1)\n",
    "\n",
    "model_cnn.add(Flatten())  # Выход: (N, 128)\n",
    "\n",
    "model_cnn.add(BatchNormalization())\n",
    "\n",
    "model_cnn.add(Linear(n_in=128, n_out=10))\n",
    "\n",
    "criterion_cnn = CrossEntropyCriterion()\n",
    "optimizer_cnn = Adam(model_cnn.getParameters(), learning_rate=0.005)\n",
    "\n",
    "early_stopping_cnn = EarlyStopping(\n",
    "    patience=5, verbose=True, path=\"models/best_cnn_model.pkl\"\n",
    ")\n",
    "\n",
    "cnn_history = train_validate_model(\n",
    "    model_cnn,\n",
    "    criterion_cnn,\n",
    "    optimizer_cnn,\n",
    "    scheduler=None,\n",
    "    warmup_scheduler=None,\n",
    "    early_stopping=early_stopping_cnn,\n",
    "    X_train=X_train_mnist,\n",
    "    y_train=y_train_mnist,\n",
    "    X_val=X_val_mnist,\n",
    "    y_val=y_val_mnist,\n",
    "    epochs=5,\n",
    "    batch_size=32,\n",
    "    metric_func=calculate_f1,\n",
    "    metric_name=\"f1-score('weighted')\",\n",
    "    task_type=\"classification\",\n",
    ")\n",
    "\n",
    "test_model(\n",
    "    model_cnn,\n",
    "    criterion_cnn,\n",
    "    X_test_mnist,\n",
    "    y_test_mnist,\n",
    "    batch_size=32,\n",
    "    metric_func=calculate_f1,\n",
    "    metric_name=\"f1-score('weighted')\",\n",
    "    task_type=\"classification\",\n",
    ")"
   ]
  },
  {
   "cell_type": "code",
   "execution_count": 40,
   "metadata": {},
   "outputs": [],
   "source": [
    "class Upsample(\n",
    "    Module\n",
    "):  # Увеличить размер карты признаков простым копированием пикселей.\n",
    "\n",
    "    def __init__(self, scale_factor=2):\n",
    "        super(Upsample, self).__init__()\n",
    "        self.scale_factor = scale_factor\n",
    "        self.input_shape = None\n",
    "\n",
    "    def updateOutput(self, input):\n",
    "        self.input_shape = input.shape\n",
    "        N, C, H, W = input.shape\n",
    "        H_out = H * self.scale_factor\n",
    "        W_out = W * self.scale_factor\n",
    "        # Простое повторение строк и столбцов\n",
    "        self.output = input.repeat(self.scale_factor, axis=2).repeat(\n",
    "            self.scale_factor, axis=3\n",
    "        )\n",
    "        return self.output\n",
    "\n",
    "    def updateGradInput(self, input, gradOutput):\n",
    "        # Градиент нужно \"сложить\" из соответствующих пикселей gradOutput\n",
    "        N, C, H_out, W_out = gradOutput.shape\n",
    "        H_in = H_out // self.scale_factor\n",
    "        W_in = W_out // self.scale_factor\n",
    "        # Решейпим gradOutput и суммируем по блокам scale_factor x scale_factor\n",
    "        # (N, C, H_in, sf, W_in, sf) -> sum over sf axes (3, 5)\n",
    "        gradOutput_reshaped = gradOutput.reshape(\n",
    "            N, C, H_in, self.scale_factor, W_in, self.scale_factor\n",
    "        )\n",
    "        self.gradInput = gradOutput_reshaped.sum(axis=(3, 5))\n",
    "        return self.gradInput"
   ]
  },
  {
   "cell_type": "code",
   "execution_count": 42,
   "metadata": {},
   "outputs": [
    {
     "name": "stdout",
     "output_type": "stream",
     "text": [
      "INFO: Optimizer switch monitoring enabled...\n",
      "\n",
      "Starting training with Criterion: MSECriterion, Optimizer: SGD\n"
     ]
    },
    {
     "data": {
      "application/vnd.jupyter.widget-view+json": {
       "model_id": "c7bb2c41f64142ffa979e30a7f7ca31f",
       "version_major": 2,
       "version_minor": 0
      },
      "text/plain": [
       "Epoch 1/5 [Train]:   0%|          | 0/1407 [00:00<?, ?it/s]"
      ]
     },
     "metadata": {},
     "output_type": "display_data"
    },
    {
     "data": {
      "application/vnd.jupyter.widget-view+json": {
       "model_id": "4e255175d7804351ba086720c112ca25",
       "version_major": 2,
       "version_minor": 0
      },
      "text/plain": [
       "Epoch 1/5 [Val] :   0%|          | 0/469 [00:00<?, ?it/s]"
      ]
     },
     "metadata": {},
     "output_type": "display_data"
    },
    {
     "name": "stdout",
     "output_type": "stream",
     "text": [
      "Epoch 1/5 Summary: LR: 0.001 | Train Loss: 5.5020, Val Loss: 3.2929\n",
      "  Validation loss decreased (inf --> 3.292867). Saving model ...\n"
     ]
    },
    {
     "data": {
      "application/vnd.jupyter.widget-view+json": {
       "model_id": "a2134b43fa7a45b48be135ed804258a5",
       "version_major": 2,
       "version_minor": 0
      },
      "text/plain": [
       "Epoch 2/5 [Train]:   0%|          | 0/1407 [00:00<?, ?it/s]"
      ]
     },
     "metadata": {},
     "output_type": "display_data"
    },
    {
     "data": {
      "application/vnd.jupyter.widget-view+json": {
       "model_id": "fdb9dca2f747443fa7c3165cc7fae162",
       "version_major": 2,
       "version_minor": 0
      },
      "text/plain": [
       "Epoch 2/5 [Val] :   0%|          | 0/469 [00:00<?, ?it/s]"
      ]
     },
     "metadata": {},
     "output_type": "display_data"
    },
    {
     "name": "stdout",
     "output_type": "stream",
     "text": [
      "Epoch 2/5 Summary: LR: 0.001 | Train Loss: 2.9989, Val Loss: 2.6748\n",
      "  Validation loss decreased (3.292867 --> 2.674784). Saving model ...\n"
     ]
    },
    {
     "data": {
      "application/vnd.jupyter.widget-view+json": {
       "model_id": "4d8b919c9ed246599648876076c55994",
       "version_major": 2,
       "version_minor": 0
      },
      "text/plain": [
       "Epoch 3/5 [Train]:   0%|          | 0/1407 [00:00<?, ?it/s]"
      ]
     },
     "metadata": {},
     "output_type": "display_data"
    },
    {
     "data": {
      "application/vnd.jupyter.widget-view+json": {
       "model_id": "97077abc6abd4915b384407ebdb1713a",
       "version_major": 2,
       "version_minor": 0
      },
      "text/plain": [
       "Epoch 3/5 [Val] :   0%|          | 0/469 [00:00<?, ?it/s]"
      ]
     },
     "metadata": {},
     "output_type": "display_data"
    },
    {
     "name": "stdout",
     "output_type": "stream",
     "text": [
      "Epoch 3/5 Summary: LR: 0.001 | Train Loss: 2.5557, Val Loss: 2.3749\n",
      "  Validation loss decreased (2.674784 --> 2.374879). Saving model ...\n"
     ]
    },
    {
     "data": {
      "application/vnd.jupyter.widget-view+json": {
       "model_id": "c8ec0d59be314a86b22cd9cfc58bf991",
       "version_major": 2,
       "version_minor": 0
      },
      "text/plain": [
       "Epoch 4/5 [Train]:   0%|          | 0/1407 [00:00<?, ?it/s]"
      ]
     },
     "metadata": {},
     "output_type": "display_data"
    },
    {
     "data": {
      "application/vnd.jupyter.widget-view+json": {
       "model_id": "ba42e92508db46f99d748c51011b1fc8",
       "version_major": 2,
       "version_minor": 0
      },
      "text/plain": [
       "Epoch 4/5 [Val] :   0%|          | 0/469 [00:00<?, ?it/s]"
      ]
     },
     "metadata": {},
     "output_type": "display_data"
    },
    {
     "name": "stdout",
     "output_type": "stream",
     "text": [
      "Epoch 4/5 Summary: LR: 0.001 | Train Loss: 2.3168, Val Loss: 2.1908\n",
      "  Validation loss decreased (2.374879 --> 2.190795). Saving model ...\n"
     ]
    },
    {
     "data": {
      "application/vnd.jupyter.widget-view+json": {
       "model_id": "0ebf9d4d78d14ad69a2a5bc2f1a5de20",
       "version_major": 2,
       "version_minor": 0
      },
      "text/plain": [
       "Epoch 5/5 [Train]:   0%|          | 0/1407 [00:00<?, ?it/s]"
      ]
     },
     "metadata": {},
     "output_type": "display_data"
    },
    {
     "data": {
      "application/vnd.jupyter.widget-view+json": {
       "model_id": "2e815d05f9fe476e9a95af621b051518",
       "version_major": 2,
       "version_minor": 0
      },
      "text/plain": [
       "Epoch 5/5 [Val] :   0%|          | 0/469 [00:00<?, ?it/s]"
      ]
     },
     "metadata": {},
     "output_type": "display_data"
    },
    {
     "name": "stdout",
     "output_type": "stream",
     "text": [
      "Epoch 5/5 Summary: LR: 0.001 | Train Loss: 2.1611, Val Loss: 2.1187\n",
      "  Validation loss decreased (2.190795 --> 2.118731). Saving model ...\n",
      "\n",
      "Training finished.\n",
      "Loading best model based on early stopping criterion...\n",
      "Loading best model from models/best_autoencoder_model.pkl with val_loss: 2.118731\n"
     ]
    },
    {
     "data": {
      "image/png": "[encoded data removed]",
      "text/plain": [
       "<Figure size 800x500 with 1 Axes>"
      ]
     },
     "metadata": {},
     "output_type": "display_data"
    },
    {
     "data": {
      "application/vnd.jupyter.widget-view+json": {
       "model_id": "e169feacd82141a485fe34052a656e93",
       "version_major": 2,
       "version_minor": 0
      },
      "text/plain": [
       "[Test]:   0%|          | 0/157 [00:00<?, ?it/s]"
      ]
     },
     "metadata": {},
     "output_type": "display_data"
    },
    {
     "name": "stdout",
     "output_type": "stream",
     "text": [
      "Test результат:\n",
      "Test Loss: 2.0454\n"
     ]
    }
   ],
   "source": [
    "X_ae_train, X_ae_val = X_train_mnist, X_val_mnist\n",
    "X_ae_test = X_test_mnist\n",
    "\n",
    "encoder = Sequential()\n",
    "# Input: (N, 1, 28, 28)\n",
    "encoder.add(Conv2d(1, 16, 3, stride=2, padding=1))  # (N, 16, 14, 14)\n",
    "encoder.add(ReLU())\n",
    "encoder.add(Conv2d(16, 32, 3, stride=2, padding=1))  # (N, 32, 7, 7) - Latent\n",
    "\n",
    "decoder = Sequential()\n",
    "# Input: (N, 32, 7, 7)\n",
    "decoder.add(Upsample(scale_factor=2))  # (N, 32, 14, 14)\n",
    "decoder.add(Conv2d(32, 16, 3, padding=1))  # (N, 16, 14, 14)\n",
    "decoder.add(ReLU())\n",
    "decoder.add(Upsample(scale_factor=2))  # (N, 16, 28, 28)\n",
    "decoder.add(Conv2d(16, 1, 3, padding=1))  # (N, 1, 28, 28)\n",
    "decoder.add(Sigmoid())  # Выход в [0, 1], как и входные данные MNIST\n",
    "\n",
    "autoencoder = Sequential()\n",
    "autoencoder.add(encoder)\n",
    "autoencoder.add(decoder)\n",
    "\n",
    "criterion_ae = MSECriterion()\n",
    "\n",
    "optimizer_ae = SGD(learning_rate=0.001, model_parameters=autoencoder.getParameters())\n",
    "early_stopping_ae = EarlyStopping(\n",
    "    patience=4, verbose=True, path=\"models/best_autoencoder_model.pkl\"\n",
    ")\n",
    "\n",
    "next_opt_class = Adam\n",
    "next_opt_params = {\"learning_rate\": 0.0015}\n",
    "\n",
    "optimizer_switch_config = {\n",
    "    \"patience\": 2,\n",
    "    \"threshold\": 5e-5,\n",
    "    \"mode\": \"min\",\n",
    "    \"verbose\": True,\n",
    "}\n",
    "\n",
    "ae_history = train_validate_model(\n",
    "    autoencoder,\n",
    "    initial_criterion=criterion_ae,\n",
    "    initial_optimizer=optimizer_ae,\n",
    "    next_optimizer_class=next_opt_class,\n",
    "    next_optimizer_params=next_opt_params,\n",
    "    scheduler=None,\n",
    "    warmup_scheduler=None,\n",
    "    early_stopping=early_stopping_ae,\n",
    "    X_train=X_ae_train,\n",
    "    y_train=X_ae_train,\n",
    "    X_val=X_ae_val,\n",
    "    y_val=X_ae_val,\n",
    "    epochs=5,\n",
    "    batch_size=32,\n",
    "    metric_func=None,\n",
    "    task_type=\"regression\",\n",
    "    optimizer_switch_trigger_config=optimizer_switch_config,\n",
    ")\n",
    "\n",
    "\n",
    "test_loss_ae, _ = test_model(\n",
    "    autoencoder,\n",
    "    criterion_ae,\n",
    "    X_ae_test,\n",
    "    X_ae_test,\n",
    "    batch_size=64,\n",
    "    task_type=\"regression\",\n",
    ")"
   ]
  },
  {
   "cell_type": "code",
   "execution_count": 43,
   "metadata": {},
   "outputs": [
    {
     "data": {
      "image/png": "[encoded data removed]",
      "text/plain": [
       "<Figure size 2000x400 with 40 Axes>"
      ]
     },
     "metadata": {},
     "output_type": "display_data"
    }
   ],
   "source": [
    "n_images_to_show = 20\n",
    "autoencoder.evaluate()\n",
    "test_output = autoencoder.forward(X_ae_test[:n_images_to_show])\n",
    "\n",
    "plt.figure(figsize=(20, 4))\n",
    "for i in range(n_images_to_show):\n",
    "    ax = plt.subplot(2, n_images_to_show, i + 1)\n",
    "    plt.imshow(X_ae_test[i].reshape(28, 28), cmap=\"gray\")\n",
    "    ax.get_xaxis().set_visible(False)\n",
    "    ax.get_yaxis().set_visible(False)\n",
    "    if i == n_images_to_show // 2:\n",
    "        ax.set_title(\"Оригинал\")\n",
    "\n",
    "    ax = plt.subplot(2, n_images_to_show, i + 1 + n_images_to_show)\n",
    "    plt.imshow(test_output[i].reshape(28, 28), cmap=\"gray\")\n",
    "    ax.get_xaxis().set_visible(False)\n",
    "    ax.get_yaxis().set_visible(False)\n",
    "    if i == n_images_to_show // 2:\n",
    "        ax.set_title(\"Восстоновленное\")\n",
    "plt.show()"
   ]
  },
  {
   "cell_type": "code",
   "execution_count": null,
   "metadata": {},
   "outputs": [],
   "source": []
  }
 ],
 "metadata": {
  "colab": {
   "provenance": []
  },
  "kernelspec": {
   "display_name": "dl",
   "language": "python",
   "name": "python3"
  },
  "language_info": {
   "codemirror_mode": {
    "name": "ipython",
    "version": 3
   },
   "file_extension": ".py",
   "mimetype": "text/x-python",
   "name": "python",
   "nbconvert_exporter": "python",
   "pygments_lexer": "ipython3",
   "version": "3.12.8"
  }
 },
 "nbformat": 4,
 "nbformat_minor": 0
}
